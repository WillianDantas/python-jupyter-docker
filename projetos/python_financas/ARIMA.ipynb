{
 "cells": [
  {
   "cell_type": "code",
   "execution_count": 35,
   "id": "a3112449-9e41-42c7-8b06-019188a03991",
   "metadata": {},
   "outputs": [],
   "source": [
    "import numpy as np\n",
    "import pandas as pd\n",
    "import statsmodels.tsa.arima.model as stats"
   ]
  },
  {
   "cell_type": "code",
   "execution_count": 54,
   "id": "c4ac8740-570f-4f68-adc3-d70182c862e0",
   "metadata": {},
   "outputs": [
    {
     "data": {
      "text/html": [
       "<div>\n",
       "<style scoped>\n",
       "    .dataframe tbody tr th:only-of-type {\n",
       "        vertical-align: middle;\n",
       "    }\n",
       "\n",
       "    .dataframe tbody tr th {\n",
       "        vertical-align: top;\n",
       "    }\n",
       "\n",
       "    .dataframe thead th {\n",
       "        text-align: right;\n",
       "    }\n",
       "</style>\n",
       "<table border=\"1\" class=\"dataframe\">\n",
       "  <thead>\n",
       "    <tr style=\"text-align: right;\">\n",
       "      <th></th>\n",
       "      <th>date</th>\n",
       "      <th>value</th>\n",
       "    </tr>\n",
       "  </thead>\n",
       "  <tbody>\n",
       "    <tr>\n",
       "      <th>0</th>\n",
       "      <td>1991-07-01</td>\n",
       "      <td>3.526591</td>\n",
       "    </tr>\n",
       "    <tr>\n",
       "      <th>1</th>\n",
       "      <td>1991-08-01</td>\n",
       "      <td>3.180891</td>\n",
       "    </tr>\n",
       "    <tr>\n",
       "      <th>2</th>\n",
       "      <td>1991-09-01</td>\n",
       "      <td>3.252221</td>\n",
       "    </tr>\n",
       "    <tr>\n",
       "      <th>3</th>\n",
       "      <td>1991-10-01</td>\n",
       "      <td>3.611003</td>\n",
       "    </tr>\n",
       "    <tr>\n",
       "      <th>4</th>\n",
       "      <td>1991-11-01</td>\n",
       "      <td>3.565869</td>\n",
       "    </tr>\n",
       "    <tr>\n",
       "      <th>...</th>\n",
       "      <td>...</td>\n",
       "      <td>...</td>\n",
       "    </tr>\n",
       "    <tr>\n",
       "      <th>199</th>\n",
       "      <td>2008-02-01</td>\n",
       "      <td>21.654285</td>\n",
       "    </tr>\n",
       "    <tr>\n",
       "      <th>200</th>\n",
       "      <td>2008-03-01</td>\n",
       "      <td>18.264945</td>\n",
       "    </tr>\n",
       "    <tr>\n",
       "      <th>201</th>\n",
       "      <td>2008-04-01</td>\n",
       "      <td>23.107677</td>\n",
       "    </tr>\n",
       "    <tr>\n",
       "      <th>202</th>\n",
       "      <td>2008-05-01</td>\n",
       "      <td>22.912510</td>\n",
       "    </tr>\n",
       "    <tr>\n",
       "      <th>203</th>\n",
       "      <td>2008-06-01</td>\n",
       "      <td>19.431740</td>\n",
       "    </tr>\n",
       "  </tbody>\n",
       "</table>\n",
       "<p>204 rows × 2 columns</p>\n",
       "</div>"
      ],
      "text/plain": [
       "          date      value\n",
       "0   1991-07-01   3.526591\n",
       "1   1991-08-01   3.180891\n",
       "2   1991-09-01   3.252221\n",
       "3   1991-10-01   3.611003\n",
       "4   1991-11-01   3.565869\n",
       "..         ...        ...\n",
       "199 2008-02-01  21.654285\n",
       "200 2008-03-01  18.264945\n",
       "201 2008-04-01  23.107677\n",
       "202 2008-05-01  22.912510\n",
       "203 2008-06-01  19.431740\n",
       "\n",
       "[204 rows x 2 columns]"
      ]
     },
     "execution_count": 54,
     "metadata": {},
     "output_type": "execute_result"
    }
   ],
   "source": [
    "df = pd.read_csv('https://raw.githubusercontent.com/selva86/datasets/master/a10.csv', parse_dates=['date'])\n",
    "df.head(1000)"
   ]
  },
  {
   "cell_type": "code",
   "execution_count": 37,
   "id": "11f558d0-48f7-404e-918f-83252ffdafae",
   "metadata": {},
   "outputs": [],
   "source": [
    "train_data = df[1:len(df)-12]\n",
    "test_data = df[len(df)-12:]"
   ]
  },
  {
   "cell_type": "code",
   "execution_count": 64,
   "id": "f620cb38-77b8-4d9c-9656-df31fb07684a",
   "metadata": {},
   "outputs": [],
   "source": [
    "model = stats.ARIMA(train_data.value, order=(0, 1, 0))\n",
    "model_fit = model.fit()"
   ]
  },
  {
   "cell_type": "code",
   "execution_count": 66,
   "id": "7bb1b6ba-34ee-45e7-9b20-379f6f556ad0",
   "metadata": {},
   "outputs": [
    {
     "name": "stdout",
     "output_type": "stream",
     "text": [
      "192    20.681002\n",
      "193    20.681002\n",
      "194    20.681002\n",
      "195    20.681002\n",
      "196    20.681002\n",
      "197    20.681002\n",
      "198    20.681002\n",
      "199    20.681002\n",
      "200    20.681002\n",
      "201    20.681002\n",
      "202    20.681002\n",
      "203    20.681002\n",
      "Name: predicted_mean, dtype: float64\n"
     ]
    }
   ],
   "source": [
    "start = len(train_data)\n",
    "end = len(train_data) + len(test_data)-1\n",
    "predictions = model_fit.predict(start=start, end=end)\n",
    "print(predictions)"
   ]
  },
  {
   "cell_type": "code",
   "execution_count": 73,
   "id": "6823894a-865e-4d9a-a0bd-4367d0816148",
   "metadata": {},
   "outputs": [
    {
     "data": {
      "text/html": [
       "<table class=\"simpletable\">\n",
       "<caption>SARIMAX Results</caption>\n",
       "<tr>\n",
       "  <th>Dep. Variable:</th>         <td>value</td>      <th>  No. Observations:  </th>    <td>191</td>  \n",
       "</tr>\n",
       "<tr>\n",
       "  <th>Model:</th>            <td>ARIMA(0, 1, 0)</td>  <th>  Log Likelihood     </th> <td>-415.148</td>\n",
       "</tr>\n",
       "<tr>\n",
       "  <th>Date:</th>            <td>Sat, 29 Oct 2022</td> <th>  AIC                </th>  <td>832.297</td>\n",
       "</tr>\n",
       "<tr>\n",
       "  <th>Time:</th>                <td>17:31:18</td>     <th>  BIC                </th>  <td>835.544</td>\n",
       "</tr>\n",
       "<tr>\n",
       "  <th>Sample:</th>                  <td>0</td>        <th>  HQIC               </th>  <td>833.612</td>\n",
       "</tr>\n",
       "<tr>\n",
       "  <th></th>                      <td> - 191</td>      <th>                     </th>     <td> </td>   \n",
       "</tr>\n",
       "<tr>\n",
       "  <th>Covariance Type:</th>        <td>opg</td>       <th>                     </th>     <td> </td>   \n",
       "</tr>\n",
       "</table>\n",
       "<table class=\"simpletable\">\n",
       "<tr>\n",
       "     <td></td>       <th>coef</th>     <th>std err</th>      <th>z</th>      <th>P>|z|</th>  <th>[0.025</th>    <th>0.975]</th>  \n",
       "</tr>\n",
       "<tr>\n",
       "  <th>sigma2</th> <td>    4.6279</td> <td>    0.204</td> <td>   22.739</td> <td> 0.000</td> <td>    4.229</td> <td>    5.027</td>\n",
       "</tr>\n",
       "</table>\n",
       "<table class=\"simpletable\">\n",
       "<tr>\n",
       "  <th>Ljung-Box (L1) (Q):</th>     <td>31.39</td> <th>  Jarque-Bera (JB):  </th> <td>874.48</td>\n",
       "</tr>\n",
       "<tr>\n",
       "  <th>Prob(Q):</th>                <td>0.00</td>  <th>  Prob(JB):          </th>  <td>0.00</td> \n",
       "</tr>\n",
       "<tr>\n",
       "  <th>Heteroskedasticity (H):</th> <td>10.99</td> <th>  Skew:              </th>  <td>-2.42</td>\n",
       "</tr>\n",
       "<tr>\n",
       "  <th>Prob(H) (two-sided):</th>    <td>0.00</td>  <th>  Kurtosis:          </th>  <td>12.33</td>\n",
       "</tr>\n",
       "</table><br/><br/>Warnings:<br/>[1] Covariance matrix calculated using the outer product of gradients (complex-step)."
      ],
      "text/plain": [
       "<class 'statsmodels.iolib.summary.Summary'>\n",
       "\"\"\"\n",
       "                               SARIMAX Results                                \n",
       "==============================================================================\n",
       "Dep. Variable:                  value   No. Observations:                  191\n",
       "Model:                 ARIMA(0, 1, 0)   Log Likelihood                -415.148\n",
       "Date:                Sat, 29 Oct 2022   AIC                            832.297\n",
       "Time:                        17:31:18   BIC                            835.544\n",
       "Sample:                             0   HQIC                           833.612\n",
       "                                - 191                                         \n",
       "Covariance Type:                  opg                                         \n",
       "==============================================================================\n",
       "                 coef    std err          z      P>|z|      [0.025      0.975]\n",
       "------------------------------------------------------------------------------\n",
       "sigma2         4.6279      0.204     22.739      0.000       4.229       5.027\n",
       "===================================================================================\n",
       "Ljung-Box (L1) (Q):                  31.39   Jarque-Bera (JB):               874.48\n",
       "Prob(Q):                              0.00   Prob(JB):                         0.00\n",
       "Heteroskedasticity (H):              10.99   Skew:                            -2.42\n",
       "Prob(H) (two-sided):                  0.00   Kurtosis:                        12.33\n",
       "===================================================================================\n",
       "\n",
       "Warnings:\n",
       "[1] Covariance matrix calculated using the outer product of gradients (complex-step).\n",
       "\"\"\""
      ]
     },
     "execution_count": 73,
     "metadata": {},
     "output_type": "execute_result"
    }
   ],
   "source": [
    "model_fit.summary()"
   ]
  },
  {
   "cell_type": "code",
   "execution_count": 70,
   "id": "9022c67c-e81f-4d82-b993-0003160d5bd5",
   "metadata": {},
   "outputs": [
    {
     "data": {
      "image/png": "[encoded data removed]",
      "text/plain": [
       "<Figure size 432x288 with 2 Axes>"
      ]
     },
     "metadata": {
      "needs_background": "light"
     },
     "output_type": "display_data"
    }
   ],
   "source": [
    "import matplotlib.pyplot as plt\n",
    "residuals = model_fit.resid[1:]\n",
    "fig, ax = plt.subplots(1,2)\n",
    "residuals.plot(title='Residuals', ax=ax[0])\n",
    "residuals.plot(title='Density', kind='kde', ax=ax[1])\n",
    "plt.show()"
   ]
  },
  {
   "cell_type": "code",
   "execution_count": 63,
   "id": "d60ebeac-c0f5-4175-8d4d-acf3fcbcac5b",
   "metadata": {},
   "outputs": [],
   "source": [
    "import statsmodels.tsa.arima.model as stats\n",
    "\n",
    "time_series = [2, 3.0, 5, 7, 9, 11, 13, 17, 19]\n",
    "steps = 4\n",
    "alpha = 0.05\n",
    "\n",
    "model = stats.ARIMA(time_series, order=(0, 1, 0), trend=\"t\")   # only change is here!\n",
    "model_fit = model.fit()"
   ]
  },
  {
   "cell_type": "code",
   "execution_count": 20,
   "id": "1df8a496-5210-4e4c-8ade-b40ddb78ac2d",
   "metadata": {},
   "outputs": [],
   "source": [
    "forecast = model_fit.get_forecast(steps=steps)\n",
    "forecasts_and_intervals = forecast.summary_frame(alpha=alpha)"
   ]
  },
  {
   "cell_type": "code",
   "execution_count": 21,
   "id": "ceb6b984-7f5b-42fc-b58b-0fb38a9e0f2f",
   "metadata": {},
   "outputs": [
    {
     "data": {
      "text/html": [
       "<div>\n",
       "<style scoped>\n",
       "    .dataframe tbody tr th:only-of-type {\n",
       "        vertical-align: middle;\n",
       "    }\n",
       "\n",
       "    .dataframe tbody tr th {\n",
       "        vertical-align: top;\n",
       "    }\n",
       "\n",
       "    .dataframe thead th {\n",
       "        text-align: right;\n",
       "    }\n",
       "</style>\n",
       "<table border=\"1\" class=\"dataframe\">\n",
       "  <thead>\n",
       "    <tr style=\"text-align: right;\">\n",
       "      <th>y</th>\n",
       "      <th>mean</th>\n",
       "      <th>mean_se</th>\n",
       "      <th>mean_ci_lower</th>\n",
       "      <th>mean_ci_upper</th>\n",
       "    </tr>\n",
       "  </thead>\n",
       "  <tbody>\n",
       "    <tr>\n",
       "      <th>0</th>\n",
       "      <td>21.124995</td>\n",
       "      <td>0.780622</td>\n",
       "      <td>19.595003</td>\n",
       "      <td>22.654987</td>\n",
       "    </tr>\n",
       "    <tr>\n",
       "      <th>1</th>\n",
       "      <td>23.249990</td>\n",
       "      <td>1.103967</td>\n",
       "      <td>21.086255</td>\n",
       "      <td>25.413725</td>\n",
       "    </tr>\n",
       "    <tr>\n",
       "      <th>2</th>\n",
       "      <td>25.374985</td>\n",
       "      <td>1.352078</td>\n",
       "      <td>22.724961</td>\n",
       "      <td>28.025009</td>\n",
       "    </tr>\n",
       "    <tr>\n",
       "      <th>3</th>\n",
       "      <td>27.499980</td>\n",
       "      <td>1.561245</td>\n",
       "      <td>24.439996</td>\n",
       "      <td>30.559964</td>\n",
       "    </tr>\n",
       "  </tbody>\n",
       "</table>\n",
       "</div>"
      ],
      "text/plain": [
       "y       mean   mean_se  mean_ci_lower  mean_ci_upper\n",
       "0  21.124995  0.780622      19.595003      22.654987\n",
       "1  23.249990  1.103967      21.086255      25.413725\n",
       "2  25.374985  1.352078      22.724961      28.025009\n",
       "3  27.499980  1.561245      24.439996      30.559964"
      ]
     },
     "execution_count": 59,
     "metadata": {},
     "output_type": "execute_result"
    }
   ],
   "source": [
    "forecasts_and_intervals"
   ]
  },
  {
   "cell_type": "code",
   "execution_count": null,
   "id": "03d51635-40a2-4c90-87ca-de47061ecb6b",
   "metadata": {},
   "outputs": [],
   "source": []
  }
 ],
 "metadata": {
  "kernelspec": {
   "display_name": "Python 3 (ipykernel)",
   "language": "python",
   "name": "python3"
  },
  "language_info": {
   "codemirror_mode": {
    "name": "ipython",
    "version": 3
   },
   "file_extension": ".py",
   "mimetype": "text/x-python",
   "name": "python",
   "nbconvert_exporter": "python",
   "pygments_lexer": "ipython3",
   "version": "3.9.7"
  }
 },
 "nbformat": 4,
 "nbformat_minor": 5
}
