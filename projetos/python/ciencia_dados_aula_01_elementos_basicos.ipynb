{
 "cells": [
  {
   "cell_type": "markdown",
   "id": "0ef45d8c-53a8-43c8-be25-913b8ef3efde",
   "metadata": {
    "tags": []
   },
   "source": [
    "# **Elementos básicos da linguagem Python**\n"
   ]
  },
  {
   "cell_type": "markdown",
   "id": "3ecdfbbb-0c2f-4120-9187-4de7847f5acb",
   "metadata": {},
   "source": [
    "# **Olá, Mundo!**"
   ]
  },
  {
   "cell_type": "code",
   "execution_count": 5,
   "id": "e3b187cc-c2c6-44f8-b38c-8c711043cca7",
   "metadata": {},
   "outputs": [
    {
     "name": "stdout",
     "output_type": "stream",
     "text": [
      "Olá, Mundo\n"
     ]
    }
   ],
   "source": [
    "print(\"Olá, Mundo\")"
   ]
  },
  {
   "cell_type": "markdown",
   "id": "c3742b5d-78d0-4eba-a0aa-2ca2ef842fc1",
   "metadata": {},
   "source": [
    "## **Saída de dados**"
   ]
  },
  {
   "cell_type": "code",
   "execution_count": 6,
   "id": "82df4099-c6c7-4f94-96b5-3c19b0738f5c",
   "metadata": {},
   "outputs": [
    {
     "name": "stdout",
     "output_type": "stream",
     "text": [
      "12345\n",
      "valor 12345\n",
      "valor = 12345\n",
      "valor = 12345\n",
      "valor 12345\n",
      "valor = 12345\n",
      "valor = 12345\n"
     ]
    }
   ],
   "source": [
    "print(12345)\n",
    "print('valor',12345)\n",
    "print('valor = {}'.format(12345))\n",
    "print(f'valor = {12345}')\n",
    "print(\"valor\",12345)\n",
    "print(\"valor = {}\".format(12345))\n",
    "print(f\"valor = {12345}\")"
   ]
  },
  {
   "cell_type": "markdown",
   "id": "3c63b5c7-665d-4cb8-98f0-fa8a0ac80131",
   "metadata": {},
   "source": [
    "## **Exemplo do uso de variáveis**"
   ]
  },
  {
   "cell_type": "markdown",
   "id": "5b59135a-312f-4973-924a-a5e3e18cd289",
   "metadata": {},
   "source": [
    "**String**"
   ]
  },
  {
   "cell_type": "code",
   "execution_count": 7,
   "id": "8479c114-f320-435e-8062-ea22abaa04da",
   "metadata": {},
   "outputs": [
    {
     "name": "stdout",
     "output_type": "stream",
     "text": [
      "exemplo de string em Python\n",
      "valor da variável nome = exemplo de string em Python\n",
      "valor da variável nome = exemplo de string em Python\n",
      "valor da variável nome = exemplo de string em Python\n"
     ]
    }
   ],
   "source": [
    "nome = 'exemplo de string em Python'\n",
    "print(nome)\n",
    "print('valor da variável nome = {}'.format(nome))\n",
    "print(f'valor da variável nome = {nome}')\n",
    "print(f\"valor da variável nome = {nome}\")"
   ]
  },
  {
   "cell_type": "markdown",
   "id": "2a2b67a7-4e4b-4360-a8eb-49762036d8a8",
   "metadata": {},
   "source": [
    "**Numérica**"
   ]
  },
  {
   "cell_type": "code",
   "execution_count": 8,
   "id": "bd4ee6b8-c09d-427d-bc5a-da681f3760e0",
   "metadata": {},
   "outputs": [
    {
     "name": "stdout",
     "output_type": "stream",
     "text": [
      "11062022\n",
      "valor da variável numero = 11062022\n",
      "valor da variável numero = 11062022\n"
     ]
    }
   ],
   "source": [
    "numero = 11062022\n",
    "print(numero)\n",
    "print('valor da variável numero = {}'.format(numero))\n",
    "print(f'valor da variável numero = {numero}')"
   ]
  },
  {
   "cell_type": "markdown",
   "id": "760a4ee3-a263-4d5e-a6ee-4f1730e1db30",
   "metadata": {},
   "source": [
    "# **Entrada de dados pelo teclado**"
   ]
  },
  {
   "cell_type": "code",
   "execution_count": 9,
   "id": "45d275bf-d4f1-422d-9add-de2488707f30",
   "metadata": {},
   "outputs": [
    {
     "name": "stdin",
     "output_type": "stream",
     "text": [
      "Entre com um número:  10\n"
     ]
    }
   ],
   "source": [
    "valor = int(input(\"Entre com um número: \"))"
   ]
  },
  {
   "cell_type": "markdown",
   "id": "1b26500f-5df8-4ff3-8302-4eb3f28c41ac",
   "metadata": {},
   "source": [
    "# **Comandos Condicionais**"
   ]
  },
  {
   "cell_type": "markdown",
   "id": "6ccdc6b8-2049-466f-809a-024a2c8bec25",
   "metadata": {},
   "source": [
    "**Exemplo 01**"
   ]
  },
  {
   "cell_type": "code",
   "execution_count": 13,
   "id": "ef8ef76f-fbd6-488b-a5d9-df1242fb090f",
   "metadata": {},
   "outputs": [
    {
     "name": "stdout",
     "output_type": "stream",
     "text": [
      "a = 250\n"
     ]
    }
   ],
   "source": [
    "a = 250\n",
    "if a < 100:\n",
    "  a = a + 7\n",
    "print(f'a = {a}')"
   ]
  },
  {
   "cell_type": "markdown",
   "id": "42124a1a-3bd6-4a8d-b398-78cccc68b119",
   "metadata": {},
   "source": [
    "**Exemplo 02**"
   ]
  },
  {
   "cell_type": "code",
   "execution_count": 14,
   "id": "cc194756-8d5f-4e55-bd6d-31501431e0d9",
   "metadata": {},
   "outputs": [
    {
     "name": "stdout",
     "output_type": "stream",
     "text": [
      "780 é par\n"
     ]
    }
   ],
   "source": [
    "a = 780\n",
    "if(a%2 == 0):\n",
    "  print(f'{a} é par')\n",
    "else:\n",
    "  print(f'{a} é ímpar')"
   ]
  },
  {
   "cell_type": "markdown",
   "id": "6f53b083-afb1-4994-a3d5-d02cb9af63d7",
   "metadata": {},
   "source": [
    "# **Comandos Iterativos**"
   ]
  },
  {
   "cell_type": "markdown",
   "id": "7221a914-770f-4619-8293-367c451af570",
   "metadata": {},
   "source": [
    "**Exemplo 01**"
   ]
  },
  {
   "cell_type": "code",
   "execution_count": 16,
   "id": "8fdc5c2c-28f4-45fc-91f6-ef1cb5d3b6e4",
   "metadata": {},
   "outputs": [
    {
     "name": "stdout",
     "output_type": "stream",
     "text": [
      "0 1 2 3 4 5 6 7 8 9 \n"
     ]
    }
   ],
   "source": [
    "contador=0\n",
    "s = ''\n",
    "while (contador < 10):\n",
    "  s = s + str(contador)+ ' '\n",
    "  contador = contador + 1\n",
    "print(s)"
   ]
  },
  {
   "cell_type": "markdown",
   "id": "bd6038ce-5753-4462-a046-ef954cd4b1c7",
   "metadata": {},
   "source": [
    "**Exemplo 02**"
   ]
  },
  {
   "cell_type": "code",
   "execution_count": 17,
   "id": "8ac04999-5838-407c-9d5b-f2869e9c34a9",
   "metadata": {},
   "outputs": [
    {
     "name": "stdout",
     "output_type": "stream",
     "text": [
      "0 1 2 3 4 5 6 7 8 9 \n"
     ]
    }
   ],
   "source": [
    "s = ''\n",
    "for contador in range(10):\n",
    "  s = s + str(contador)+ ' '  \n",
    "print(s)"
   ]
  },
  {
   "cell_type": "markdown",
   "id": "29d8977c-614b-46b7-a2db-c40cb7d1592a",
   "metadata": {},
   "source": [
    "# **Listas**"
   ]
  },
  {
   "cell_type": "markdown",
   "id": "57e5b265-2f80-482a-b4de-c87e79bfdbb6",
   "metadata": {},
   "source": [
    "**Exemplo 01**"
   ]
  },
  {
   "cell_type": "code",
   "execution_count": 20,
   "id": "dcd8ba08-048e-46ac-afcf-f67de527d33f",
   "metadata": {},
   "outputs": [
    {
     "name": "stdout",
     "output_type": "stream",
     "text": [
      "[101, 202, 303, 404, 505]\n"
     ]
    }
   ],
   "source": [
    "lista = [101,202,303,404,505]\n",
    "print(lista)"
   ]
  },
  {
   "cell_type": "markdown",
   "id": "bb572fab-93c2-41f1-8406-4bcae8fdaa50",
   "metadata": {},
   "source": [
    "**Exemplo 02**"
   ]
  },
  {
   "cell_type": "code",
   "execution_count": 21,
   "id": "8d4fea4f-6751-4162-a1ec-33ce2667fc3f",
   "metadata": {},
   "outputs": [
    {
     "name": "stdout",
     "output_type": "stream",
     "text": [
      "lista[0] = 101 e lista[3] = 404\n"
     ]
    }
   ],
   "source": [
    "print(f'lista[0] = {lista[0]} e lista[3] = {lista[3]}')"
   ]
  },
  {
   "cell_type": "markdown",
   "id": "caa5465c-d58d-4a94-b364-d831c5733029",
   "metadata": {},
   "source": [
    "**Exemplo 03**"
   ]
  },
  {
   "cell_type": "code",
   "execution_count": 23,
   "id": "8e94639d-6d86-4b96-8376-99af93e64845",
   "metadata": {},
   "outputs": [
    {
     "name": "stdout",
     "output_type": "stream",
     "text": [
      "101 202 303 404 505 \n"
     ]
    }
   ],
   "source": [
    "#indexação explícita da lista\n",
    "n = len(lista)\n",
    "s = ''\n",
    "for i in range(n):\n",
    "  s = s + str(lista[i])+ ' '\n",
    "print(s)"
   ]
  },
  {
   "cell_type": "markdown",
   "id": "5f35b7f7-cf1b-4018-9f02-37f03ac22e88",
   "metadata": {},
   "source": [
    "**Exemplo 04**"
   ]
  },
  {
   "cell_type": "code",
   "execution_count": 24,
   "id": "8cceb359-c3f1-415f-8c3e-049f575a429d",
   "metadata": {},
   "outputs": [
    {
     "name": "stdout",
     "output_type": "stream",
     "text": [
      "101 202 303 404 505 \n"
     ]
    }
   ],
   "source": [
    "#paradigma funcional\n",
    "s = ''\n",
    "for a in lista:\n",
    "  s = s + str(a)+ ' '\n",
    "print(s)"
   ]
  },
  {
   "cell_type": "markdown",
   "id": "b4d892b9-4288-4373-9fd8-3fa0023f9056",
   "metadata": {},
   "source": [
    "# **Funções**"
   ]
  },
  {
   "cell_type": "markdown",
   "id": "1090e5cd-9978-48a6-b8be-ee7738eff068",
   "metadata": {},
   "source": [
    "**Exemplo 01**"
   ]
  },
  {
   "cell_type": "code",
   "execution_count": 8,
   "id": "5eadd918-14d5-4dd3-97ba-d8201cfa6eab",
   "metadata": {},
   "outputs": [],
   "source": [
    "def encontrar_minimo(lista):\n",
    "    minimo = lista[0]\n",
    "    for elem in lista:\n",
    "        if (elem < minimo):\n",
    "            minimo = elem\n",
    "    return minimo"
   ]
  },
  {
   "cell_type": "code",
   "execution_count": 9,
   "id": "e69ff1a8-de26-4ad9-bfca-bb6f18ee0d57",
   "metadata": {},
   "outputs": [
    {
     "name": "stdout",
     "output_type": "stream",
     "text": [
      "O menor elemento da lista é:[1]\n",
      "O menor elemento da lista é:[1]\n"
     ]
    }
   ],
   "source": [
    "lista_teste = [2, 10, 3, 1, 4, 5]\n",
    "menor = encontrar_minimo(lista_teste)\n",
    "print(f\"O menor elemento da lista é:[{menor}]\")\n",
    "print(\"O menor elemento da lista é:[{}]\".format(menor))"
   ]
  },
  {
   "cell_type": "markdown",
   "id": "14a2cd2e-b351-4aa4-8fc7-8be8d19a8f41",
   "metadata": {},
   "source": [
    "**Exemplo 02**"
   ]
  },
  {
   "cell_type": "code",
   "execution_count": 10,
   "id": "ada9ca34-6854-41a3-8155-2fba74a3e616",
   "metadata": {},
   "outputs": [],
   "source": [
    "def ehPar(n):\n",
    "    r = (n%2==0)\n",
    "    return r"
   ]
  },
  {
   "cell_type": "code",
   "execution_count": 15,
   "id": "9226b7f7-2999-493b-94c2-1be5d4dc5eb4",
   "metadata": {},
   "outputs": [],
   "source": [
    "def somar_par(lst):\n",
    "    soma = 0\n",
    "    for num in lst:\n",
    "        if(ehPar(num)):\n",
    "            soma = soma + num\n",
    "    return soma"
   ]
  },
  {
   "cell_type": "code",
   "execution_count": 16,
   "id": "f82c1e36-063b-4ae9-a676-7a75a9682281",
   "metadata": {},
   "outputs": [
    {
     "name": "stdout",
     "output_type": "stream",
     "text": [
      "O somatório dos elementos pares da lista é: 18\n"
     ]
    }
   ],
   "source": [
    "lista = [10, 2, 5, 7, 6, 3]\n",
    "soma=somar_par(lista)\n",
    "print(f'O somatório dos elementos pares da lista é: {soma}')"
   ]
  },
  {
   "cell_type": "markdown",
   "id": "ffbc68d0-e197-4023-901d-a91c9300259a",
   "metadata": {},
   "source": [
    "# **Try Exept**"
   ]
  },
  {
   "cell_type": "markdown",
   "id": "70aad2ca-26f6-4f2f-9fde-b75cab71ee4c",
   "metadata": {},
   "source": [
    "**Exemplo 01**"
   ]
  },
  {
   "cell_type": "code",
   "execution_count": 17,
   "id": "bead60b4-1e49-45c2-b45e-c83418290107",
   "metadata": {},
   "outputs": [
    {
     "name": "stdin",
     "output_type": "stream",
     "text": [
      "Digite um número:  10\n"
     ]
    }
   ],
   "source": [
    "x = int(input(\"Digite um número: \"))"
   ]
  },
  {
   "cell_type": "markdown",
   "id": "4aaf71ed-34e2-4375-bd21-1c147100fc61",
   "metadata": {},
   "source": [
    "**Exemplo 02**"
   ]
  },
  {
   "cell_type": "code",
   "execution_count": 18,
   "id": "f17a4a85-be23-443f-8a4b-03cfc7358fcc",
   "metadata": {},
   "outputs": [
    {
     "name": "stdin",
     "output_type": "stream",
     "text": [
      "Digite um número:  a\n"
     ]
    },
    {
     "name": "stdout",
     "output_type": "stream",
     "text": [
      "Entre com um número válido\n"
     ]
    }
   ],
   "source": [
    "try:\n",
    "    x = int(input(\"Digite um número: \"))\n",
    "except ValueError:\n",
    "    print(\"Entre com um número válido\")"
   ]
  },
  {
   "cell_type": "markdown",
   "id": "92ddfad9-73fd-426c-9a38-130b0642f5df",
   "metadata": {},
   "source": [
    "**Exemplo 03**"
   ]
  },
  {
   "cell_type": "code",
   "execution_count": 21,
   "id": "ad885160-3ebb-46cb-8086-8e88db2c9fd8",
   "metadata": {},
   "outputs": [
    {
     "name": "stdin",
     "output_type": "stream",
     "text": [
      "Digite um número:  a\n"
     ]
    },
    {
     "name": "stdout",
     "output_type": "stream",
     "text": [
      "Entre com um número válido\n"
     ]
    },
    {
     "name": "stdin",
     "output_type": "stream",
     "text": [
      "Digite um número:  b\n"
     ]
    },
    {
     "name": "stdout",
     "output_type": "stream",
     "text": [
      "Entre com um número válido\n"
     ]
    },
    {
     "name": "stdin",
     "output_type": "stream",
     "text": [
      "Digite um número:  10\n"
     ]
    }
   ],
   "source": [
    "while True:\n",
    "    try:\n",
    "        x = int(input(\"Digite um número: \"))\n",
    "        break\n",
    "    except ValueError:\n",
    "        print(\"Entre com um número válido\")"
   ]
  },
  {
   "cell_type": "markdown",
   "id": "3f1d8ae2-1942-4142-bfd1-1a79710619de",
   "metadata": {},
   "source": [
    "**Exemplo 04**"
   ]
  },
  {
   "cell_type": "code",
   "execution_count": 24,
   "id": "e8ad5938-7a36-4fc0-9e5a-87fc8e71b706",
   "metadata": {},
   "outputs": [],
   "source": [
    "def dividir(x, y):\n",
    "    try:\n",
    "        resultado = x / y\n",
    "        print(\"A resposta é :\", resultado)\n",
    "    except ZeroDivisionError:\n",
    "        print(\"Divisião pro zero\")"
   ]
  },
  {
   "cell_type": "code",
   "execution_count": 25,
   "id": "e5575b5f-736f-4b58-9792-6c8c7e08442a",
   "metadata": {},
   "outputs": [
    {
     "name": "stdout",
     "output_type": "stream",
     "text": [
      "Divisião pro zero\n"
     ]
    }
   ],
   "source": [
    "# chamada 01\n",
    "dividir(3, 0)"
   ]
  },
  {
   "cell_type": "code",
   "execution_count": 26,
   "id": "590abd4e-a1fd-4b11-aa87-716178f91d8c",
   "metadata": {},
   "outputs": [
    {
     "name": "stdout",
     "output_type": "stream",
     "text": [
      "A resposta é : 1.5\n"
     ]
    }
   ],
   "source": [
    "# chamada 02\n",
    "dividir(3, 2)"
   ]
  },
  {
   "cell_type": "markdown",
   "id": "69dddb87-b5a1-4bb2-bdfd-c6442181d27a",
   "metadata": {},
   "source": [
    "# **Geração de dados e Histograma**\n",
    "**Gerar 1000 pontos seguindo a distribuição Normal com média 20 e desvio-padrão 2. Além disso, exiba os dados em um histograma.**"
   ]
  },
  {
   "cell_type": "code",
   "execution_count": 27,
   "id": "95a2758f-2085-44dc-b89e-2b8fc007c65e",
   "metadata": {
    "tags": []
   },
   "outputs": [
    {
     "data": {
      "text/plain": [
       "(array([ 10.,  37., 103., 223., 286., 224.,  90.,  24.,   1.,   2.]),\n",
       " array([13.89247124, 15.29494466, 16.69741807, 18.09989149, 19.50236491,\n",
       "        20.90483832, 22.30731174, 23.70978516, 25.11225857, 26.51473199,\n",
       "        27.91720541]),\n",
       " <BarContainer object of 10 artists>)"
      ]
     },
     "execution_count": 27,
     "metadata": {},
     "output_type": "execute_result"
    },
    {
     "data": {
      "image/png": "[encoded data removed]",
      "text/plain": [
       "<Figure size 432x288 with 1 Axes>"
      ]
     },
     "metadata": {
      "needs_background": "light"
     },
     "output_type": "display_data"
    }
   ],
   "source": [
    "import matplotlib.pyplot as plt\n",
    "import numpy as np\n",
    "np.random.seed(1)\n",
    "dados = np.random.normal(loc=20, scale=2, size=1000)\n",
    "plt.hist(dados, color = \"lightblue\", ec=\"red\")"
   ]
  },
  {
   "cell_type": "markdown",
   "id": "988efee5-e4b2-4130-9893-93ce0a8b9e53",
   "metadata": {},
   "source": [
    "# **Distribuição Discreta**"
   ]
  },
  {
   "cell_type": "code",
   "execution_count": 29,
   "id": "3d140af2-831e-466d-89cd-0a984292a3c7",
   "metadata": {},
   "outputs": [
    {
     "data": {
      "image/png": "[encoded data removed]",
      "text/plain": [
       "<Figure size 432x288 with 1 Axes>"
      ]
     },
     "metadata": {
      "needs_background": "light"
     },
     "output_type": "display_data"
    }
   ],
   "source": [
    "import numpy as np\n",
    "import matplotlib.pyplot as plt\n",
    "import seaborn as sns\n",
    "\n",
    "QTD_SORTEIOS = 1000\n",
    "\n",
    "valores = [1, 2, 3, 4, 5, 6]\n",
    "amostra = np.random.choice(valores, QTD_SORTEIOS)\n",
    "\n",
    "lado, quantidade = np.unique(amostra, return_counts=True)\n",
    "probabilidades = quantidade / len(amostra)\n",
    "\n",
    "sns.barplot(x=lado, y=probabilidades)\n",
    "plt.title(\n",
    "    f\"Distribuição de Probabilidade Discreta para dados honestos de 6 faces para {QTD_SORTEIOS} sorteios\")\n",
    "plt.ylabel(\"Probabilidade\")\n",
    "plt.xlabel(\"Resultado\")\n",
    "plt.show()"
   ]
  },
  {
   "cell_type": "markdown",
   "id": "e8d81f21-f1d5-43b2-9583-435bc8c5dc9d",
   "metadata": {},
   "source": [
    "# **Excercício**"
   ]
  },
  {
   "cell_type": "markdown",
   "id": "4cc9bc35-0b4d-4222-8edb-8b0795467ddb",
   "metadata": {},
   "source": [
    "Implementar um programa em python que receba como entrada uma lista de números e um valor e produza como saída os pares de números da lista que somados resultam no valor de entrada."
   ]
  },
  {
   "cell_type": "markdown",
   "id": "9ed75d99-94f0-471a-a452-f06717ad1991",
   "metadata": {},
   "source": [
    "**Exemplo 01:**"
   ]
  },
  {
   "cell_type": "markdown",
   "id": "af3e630e-8be6-4998-ac71-7ad154ee7c0a",
   "metadata": {},
   "source": [
    "**Entrada**: lista1 = [1, 5, 7, -1], soma = 6"
   ]
  },
  {
   "cell_type": "markdown",
   "id": "a3764173-36c3-4f9c-9cd6-9980a495a236",
   "metadata": {},
   "source": [
    "**Saída**: 2 Pares com soma 6 são (1, 5) e (7, -1)"
   ]
  },
  {
   "cell_type": "markdown",
   "id": "5f5bdda1-b8f6-421e-bf98-5f353341e8df",
   "metadata": {},
   "source": [
    "**Exemplo 02:**"
   ]
  },
  {
   "cell_type": "markdown",
   "id": "9667aa54-3168-40d9-bde3-3e62366e205e",
   "metadata": {},
   "source": [
    "**Entrada**: lista2 = [1, 5, 7, -1, 5], soma = 6"
   ]
  },
  {
   "cell_type": "markdown",
   "id": "aae8ceec-22cf-44ae-81dd-c359c7a5b153",
   "metadata": {},
   "source": [
    "**Saída**: 3 Pares com soma 6 são (1, 5), (7, -1) e (1, 5)"
   ]
  }
 ],
 "metadata": {
  "kernelspec": {
   "display_name": "Python 3 (ipykernel)",
   "language": "python",
   "name": "python3"
  },
  "language_info": {
   "codemirror_mode": {
    "name": "ipython",
    "version": 3
   },
   "file_extension": ".py",
   "mimetype": "text/x-python",
   "name": "python",
   "nbconvert_exporter": "python",
   "pygments_lexer": "ipython3",
   "version": "3.9.7"
  }
 },
 "nbformat": 4,
 "nbformat_minor": 5
}
