{
 "cells": [
  {
   "cell_type": "markdown",
   "id": "f63947ad-2168-4b12-996a-80c56eac60c9",
   "metadata": {},
   "source": [
    "# **Vetores, Matrizes e Dataframe.**"
   ]
  },
  {
   "cell_type": "markdown",
   "id": "e76dc309-9121-4c07-ac82-49595c430c4f",
   "metadata": {},
   "source": [
    "# **Introdução à Análise Exploratória.**"
   ]
  },
  {
   "cell_type": "markdown",
   "id": "62a40b7c-7218-449a-aaa5-f1365010a7e1",
   "metadata": {},
   "source": [
    "# **Vetores**"
   ]
  },
  {
   "cell_type": "markdown",
   "id": "a8f42aaf-cac6-43a9-825a-50cd7a8e4f37",
   "metadata": {},
   "source": [
    "**Exemplo 01**"
   ]
  },
  {
   "cell_type": "code",
   "execution_count": 3,
   "id": "9c661aa4-08ec-42e1-adb6-0c4677ed4153",
   "metadata": {},
   "outputs": [
    {
     "name": "stdout",
     "output_type": "stream",
     "text": [
      "vetor:[1 2 3 4 5]\n"
     ]
    }
   ],
   "source": [
    "import numpy as np\n",
    "vetor_teste = np.array([1,2,3,4,5])\n",
    "print(\"vetor:{}\".format(vetor_teste))"
   ]
  },
  {
   "cell_type": "markdown",
   "id": "bed75b75-a5c4-413e-9528-b34cd1bf17cd",
   "metadata": {},
   "source": [
    "**Exemplo 02**"
   ]
  },
  {
   "cell_type": "code",
   "execution_count": 4,
   "id": "cae4e12b-cc43-456c-a089-ae6e5ab55173",
   "metadata": {},
   "outputs": [
    {
     "name": "stdout",
     "output_type": "stream",
     "text": [
      "vetor[3]=54\n"
     ]
    }
   ],
   "source": [
    "import numpy as np\n",
    "vetor = np.array([5,21,33,54,85])\n",
    "posicao = 3\n",
    "print(\"vetor[{}]={}\".format(posicao,vetor[posicao]))"
   ]
  },
  {
   "cell_type": "markdown",
   "id": "d4b4602c-fec5-4f6e-99b2-44d61d759ca9",
   "metadata": {},
   "source": [
    "**Exemplo 03**"
   ]
  },
  {
   "cell_type": "code",
   "execution_count": 5,
   "id": "c30982ae-cadf-4967-9c39-56e36b3c135d",
   "metadata": {},
   "outputs": [
    {
     "name": "stdout",
     "output_type": "stream",
     "text": [
      "soma dos vetores:[11 28 41 63 95]\n"
     ]
    }
   ],
   "source": [
    "import numpy as np\n",
    "vetor1 = np.array([5,21,33,54,85])\n",
    "vetor2 = np.array([6,7,8,9,10])\n",
    "vetor3 = vetor1 + vetor2\n",
    "print(\"soma dos vetores:{}\".format(vetor3))"
   ]
  },
  {
   "cell_type": "markdown",
   "id": "7d0cfab5-6f37-4c11-ab3f-defa1f85cf76",
   "metadata": {},
   "source": [
    "**Exemplo 04**"
   ]
  },
  {
   "cell_type": "code",
   "execution_count": 6,
   "id": "d5079af3-5ff0-4164-96d9-8ba34f6657b0",
   "metadata": {},
   "outputs": [
    {
     "name": "stdout",
     "output_type": "stream",
     "text": [
      "Tipo: <class 'numpy.ndarray'>\n",
      "Dimensões: 1\n",
      "Tamanho das dimensões: (10,)\n",
      "Total de elementos: 10\n",
      "posição 1 = 5\n",
      "posição 5 = 7\n"
     ]
    }
   ],
   "source": [
    "vetor = np.array([5,21,33,6,7,8,9,10,54,85])\n",
    "print(f'Tipo: {type(vetor)}')\n",
    "print(f'Dimensões: {vetor.ndim}')\n",
    "print(f'Tamanho das dimensões: {vetor.shape}')\n",
    "print(f'Total de elementos: {vetor.size}')\n",
    "print(f'posição 1 = {vetor[0]}')\n",
    "print(f'posição 5 = {vetor[4]}')"
   ]
  },
  {
   "cell_type": "markdown",
   "id": "1dc3d78d-bcc4-4516-936b-feef8cd88f16",
   "metadata": {},
   "source": [
    "**Exemplo 05**"
   ]
  },
  {
   "cell_type": "code",
   "execution_count": 7,
   "id": "f257e195-3b5c-4226-a166-b4774bffbe91",
   "metadata": {},
   "outputs": [
    {
     "name": "stdout",
     "output_type": "stream",
     "text": [
      "Stride 1\n"
     ]
    },
    {
     "data": {
      "text/plain": [
       "array([ 5, 21, 33,  6,  7,  8,  9, 10, 54, 85])"
      ]
     },
     "execution_count": 7,
     "metadata": {},
     "output_type": "execute_result"
    }
   ],
   "source": [
    "print(\"Stride 1\")\n",
    "vetor[::1]"
   ]
  },
  {
   "cell_type": "markdown",
   "id": "f08713a3-6bfb-42db-a75f-1a2177a7196b",
   "metadata": {},
   "source": [
    "**Exemplo 06**"
   ]
  },
  {
   "cell_type": "code",
   "execution_count": 8,
   "id": "e04f654d-ff1d-4bc9-82ff-eb03e533373e",
   "metadata": {},
   "outputs": [
    {
     "name": "stdout",
     "output_type": "stream",
     "text": [
      "Stride 2\n"
     ]
    },
    {
     "data": {
      "text/plain": [
       "array([ 5, 33,  7,  9, 54])"
      ]
     },
     "execution_count": 8,
     "metadata": {},
     "output_type": "execute_result"
    }
   ],
   "source": [
    "print(\"Stride 2\")\n",
    "vetor[::2]"
   ]
  },
  {
   "cell_type": "markdown",
   "id": "3af67206-c631-44af-9bf5-1764122f7161",
   "metadata": {},
   "source": [
    "# **Matrizes 2D**"
   ]
  },
  {
   "cell_type": "markdown",
   "id": "74e87918-2552-491b-aba6-023dba1bb89e",
   "metadata": {},
   "source": [
    "**Exemplo 01**"
   ]
  },
  {
   "cell_type": "code",
   "execution_count": 11,
   "id": "62d791d2-4bbb-43e0-805f-87927a5c0f7a",
   "metadata": {},
   "outputs": [
    {
     "name": "stdout",
     "output_type": "stream",
     "text": [
      "matriz2D:[[ 1  2  3  4  5]\n",
      " [ 6  7  8  9 10]]\n"
     ]
    }
   ],
   "source": [
    "import numpy as np\n",
    "matriz2D = np.array([[1,2,3,4,5],[6,7,8,9,10]])\n",
    "print(\"matriz2D:{}\".format(matriz2D))"
   ]
  },
  {
   "cell_type": "markdown",
   "id": "71b667b4-bf30-484f-8eeb-c05d17300ef6",
   "metadata": {},
   "source": [
    "**Exemplo 02**"
   ]
  },
  {
   "cell_type": "code",
   "execution_count": 12,
   "id": "8ccc5889-20fb-4e73-83e4-3fa8200a8556",
   "metadata": {},
   "outputs": [
    {
     "data": {
      "text/plain": [
       "array([[ 1,  2,  3,  4,  5],\n",
       "       [ 6,  7,  8,  9, 10]])"
      ]
     },
     "execution_count": 12,
     "metadata": {},
     "output_type": "execute_result"
    }
   ],
   "source": [
    "import numpy as np\n",
    "matriz2D = np.array([[1,2,3,4,5],[6,7,8,9,10]])\n",
    "matriz2D"
   ]
  },
  {
   "cell_type": "code",
   "execution_count": 13,
   "id": "fd23b2aa-daad-49ae-af1b-5c2cf41d4e79",
   "metadata": {},
   "outputs": [
    {
     "name": "stdout",
     "output_type": "stream",
     "text": [
      "vetor: [1 2 3 4 5]\n",
      "1\n",
      "2\n",
      "3\n",
      "4\n",
      "5\n",
      "vetor: [ 6  7  8  9 10]\n",
      "6\n",
      "7\n",
      "8\n",
      "9\n",
      "10\n"
     ]
    }
   ],
   "source": [
    "for vetor in matriz2D:\n",
    "  print(\"vetor: {}\".format(vetor))\n",
    "  for elem in vetor:\n",
    "    print(\"{}\".format(elem))"
   ]
  },
  {
   "cell_type": "markdown",
   "id": "54fb0cd0-0e0c-43b2-9ce9-a2e55dc3dcbe",
   "metadata": {},
   "source": [
    "**Exemplo 03**"
   ]
  },
  {
   "cell_type": "code",
   "execution_count": 14,
   "id": "aa3c4442-81cc-4110-a800-04fced74eaa7",
   "metadata": {},
   "outputs": [
    {
     "name": "stdout",
     "output_type": "stream",
     "text": [
      "nlinhas=2, ncolunas=5\n"
     ]
    }
   ],
   "source": [
    "import numpy as np\n",
    "matriz2D = np.array([[1,2,3,4,5],[6,7,8,9,10]])\n",
    "nlinhas, ncolunas = matriz2D.shape\n",
    "print(\"nlinhas={}, ncolunas={}\".format(nlinhas, ncolunas))"
   ]
  },
  {
   "cell_type": "markdown",
   "id": "08802eae-f1f9-465e-8246-df3e03def6e5",
   "metadata": {},
   "source": [
    "**Exemplo 04**"
   ]
  },
  {
   "cell_type": "code",
   "execution_count": 15,
   "id": "d710eeaf-b418-4469-b446-8dbffa4e4270",
   "metadata": {},
   "outputs": [
    {
     "name": "stdout",
     "output_type": "stream",
     "text": [
      "Tipo: <class 'numpy.ndarray'>\n",
      "Dimensões: 2\n",
      "Tamanho das dimensões: (2, 5)\n",
      "Total de elementos: 10\n",
      "linha 1, coluna 1 = 1\n",
      "linha 2, coluna 3 = 8\n",
      "linha 2, coluna 4 = 9\n"
     ]
    }
   ],
   "source": [
    "print(f'Tipo: {type(matriz2D)}')\n",
    "print(f'Dimensões: {matriz2D.ndim}')\n",
    "print(f'Tamanho das dimensões: {matriz2D.shape}')\n",
    "print(f'Total de elementos: {matriz2D.size}')\n",
    "print(f'linha 1, coluna 1 = {matriz2D[0,0]}')\n",
    "print(f'linha 2, coluna 3 = {matriz2D[1,2]}')\n",
    "print(f'linha 2, coluna 4 = {matriz2D[1,3]}')"
   ]
  },
  {
   "cell_type": "markdown",
   "id": "2434f6d6-ef5b-4be3-957f-ec9d8100c23a",
   "metadata": {},
   "source": [
    "**Exemplo 05**"
   ]
  },
  {
   "cell_type": "code",
   "execution_count": 16,
   "id": "d62343d4-4a76-4378-9c05-e6a4221e8aec",
   "metadata": {},
   "outputs": [
    {
     "name": "stdout",
     "output_type": "stream",
     "text": [
      "Stride 1\n"
     ]
    },
    {
     "data": {
      "text/plain": [
       "array([[ 1,  2,  3,  4,  5],\n",
       "       [ 6,  7,  8,  9, 10]])"
      ]
     },
     "execution_count": 16,
     "metadata": {},
     "output_type": "execute_result"
    }
   ],
   "source": [
    "print(\"Stride 1\")\n",
    "matriz2D[::1]"
   ]
  },
  {
   "cell_type": "markdown",
   "id": "8c970afe-971f-4f36-8761-1681e88efa1c",
   "metadata": {},
   "source": [
    "**Exemplo 06**"
   ]
  },
  {
   "cell_type": "code",
   "execution_count": 17,
   "id": "cb62093f-d1cc-41d1-8b74-5e33d053f033",
   "metadata": {},
   "outputs": [
    {
     "name": "stdout",
     "output_type": "stream",
     "text": [
      "Stride 2\n"
     ]
    },
    {
     "data": {
      "text/plain": [
       "array([[1, 2, 3, 4, 5]])"
      ]
     },
     "execution_count": 17,
     "metadata": {},
     "output_type": "execute_result"
    }
   ],
   "source": [
    "print(\"Stride 2\")\n",
    "matriz2D[::2]"
   ]
  },
  {
   "cell_type": "markdown",
   "id": "740e1655-8b2a-4c59-8106-dd241f20e458",
   "metadata": {},
   "source": [
    "**Exemplo 07**"
   ]
  },
  {
   "cell_type": "code",
   "execution_count": 18,
   "id": "4d5e7169-608b-4ed2-bed8-3cf42a9222d1",
   "metadata": {},
   "outputs": [
    {
     "name": "stdout",
     "output_type": "stream",
     "text": [
      "[1 2 3 4 5]\n",
      "[77 77 77  1  2  3  4  5 99 99]\n"
     ]
    }
   ],
   "source": [
    "import numpy as np\n",
    "vetor_orig = np.array([1, 2, 3, 4, 5])\n",
    "vetor_pad = np.pad(vetor_orig,(3, 2), 'constant', constant_values=(77, 99)) \n",
    "print(vetor_orig)\n",
    "print(vetor_pad)"
   ]
  },
  {
   "cell_type": "markdown",
   "id": "fe7bf716-604b-4f55-bf6a-0f925d1bd358",
   "metadata": {},
   "source": [
    "# **Matrizes 3D**"
   ]
  },
  {
   "cell_type": "markdown",
   "id": "359d6245-44de-45e7-87a5-31f32c4b6181",
   "metadata": {},
   "source": [
    "**Exemplo 01**"
   ]
  },
  {
   "cell_type": "code",
   "execution_count": 19,
   "id": "f7faebbf-c589-4f24-be7b-7a172e65ee24",
   "metadata": {},
   "outputs": [
    {
     "name": "stdout",
     "output_type": "stream",
     "text": [
      "Matriz tridimensional:\n",
      "[[[ 1  2  3  4]\n",
      "  [ 5  6  7  8]\n",
      "  [ 9 10 11 12]]\n",
      "\n",
      " [[13 14 15 16]\n",
      "  [17 18 19 20]\n",
      "  [21 22 23 24]]\n",
      "\n",
      " [[25 26 27 28]\n",
      "  [29 30 31 32]\n",
      "  [33 34 35 36]]]\n"
     ]
    }
   ],
   "source": [
    "import numpy as np\n",
    "matriz3D=np.array([[[1,2,3,4],[5,6,7,8],[9,10,11,12]],\n",
    "                   [[13,14,15,16],[17,18,19,20],[21,22,23,24]],\n",
    "                   [[25,26,27,28],[29,30,31,32],[33,34,35,36]]])\n",
    "print('Matriz tridimensional:')\n",
    "print(matriz3D)"
   ]
  },
  {
   "cell_type": "markdown",
   "id": "0f6f2b97-a0e5-4037-9b74-d5afc595e104",
   "metadata": {},
   "source": [
    "**Exemplo 02**"
   ]
  },
  {
   "cell_type": "code",
   "execution_count": 20,
   "id": "4b58dd43-2650-41fc-a9c9-3cc8658f1d48",
   "metadata": {},
   "outputs": [
    {
     "name": "stdout",
     "output_type": "stream",
     "text": [
      "Tipo: <class 'numpy.ndarray'>\n",
      "Dimensões: 3\n",
      "Tamanho das dimensões: (3, 3, 4)\n",
      "Total de elementos: 36\n",
      "bloco 1, linha 1, coluna 1 = 1\n",
      "bloco 2, linha 1, coluna 1 = 13\n",
      "bloco 3, linha 3, coluna 4 = 36\n"
     ]
    }
   ],
   "source": [
    "print(f'Tipo: {type(matriz3D)}')\n",
    "print(f'Dimensões: {matriz3D.ndim}')\n",
    "print(f'Tamanho das dimensões: {matriz3D.shape}')\n",
    "print(f'Total de elementos: {matriz3D.size}')\n",
    "print(f'bloco 1, linha 1, coluna 1 = {matriz3D[0,0,0]}')\n",
    "print(f'bloco 2, linha 1, coluna 1 = {matriz3D[1,0,0]}')\n",
    "print(f'bloco 3, linha 3, coluna 4 = {matriz3D[2,2,3]}')"
   ]
  },
  {
   "cell_type": "markdown",
   "id": "19938212-0b74-4a2e-8247-afea8bfed850",
   "metadata": {},
   "source": [
    "**Exemplo 03**"
   ]
  },
  {
   "cell_type": "code",
   "execution_count": 21,
   "id": "bfb10abf-e674-42df-9b44-be4d296ad330",
   "metadata": {},
   "outputs": [
    {
     "name": "stdout",
     "output_type": "stream",
     "text": [
      "Stride 1\n"
     ]
    },
    {
     "data": {
      "text/plain": [
       "array([[[ 1,  2,  3,  4],\n",
       "        [ 5,  6,  7,  8],\n",
       "        [ 9, 10, 11, 12]],\n",
       "\n",
       "       [[13, 14, 15, 16],\n",
       "        [17, 18, 19, 20],\n",
       "        [21, 22, 23, 24]],\n",
       "\n",
       "       [[25, 26, 27, 28],\n",
       "        [29, 30, 31, 32],\n",
       "        [33, 34, 35, 36]]])"
      ]
     },
     "execution_count": 21,
     "metadata": {},
     "output_type": "execute_result"
    }
   ],
   "source": [
    "print(\"Stride 1\")\n",
    "matriz3D[::1]"
   ]
  },
  {
   "cell_type": "markdown",
   "id": "5ef06403-3c72-47f9-a3ce-dbaec56b5fe8",
   "metadata": {},
   "source": [
    "**Exemplo 04**"
   ]
  },
  {
   "cell_type": "code",
   "execution_count": 22,
   "id": "00f72e40-62a3-44c0-be80-cd33c593de7c",
   "metadata": {},
   "outputs": [
    {
     "name": "stdout",
     "output_type": "stream",
     "text": [
      "Stride 2\n"
     ]
    },
    {
     "data": {
      "text/plain": [
       "array([[[ 1,  2,  3,  4],\n",
       "        [ 5,  6,  7,  8],\n",
       "        [ 9, 10, 11, 12]],\n",
       "\n",
       "       [[25, 26, 27, 28],\n",
       "        [29, 30, 31, 32],\n",
       "        [33, 34, 35, 36]]])"
      ]
     },
     "execution_count": 22,
     "metadata": {},
     "output_type": "execute_result"
    }
   ],
   "source": [
    "print(\"Stride 2\")\n",
    "matriz3D[::2]"
   ]
  },
  {
   "cell_type": "markdown",
   "id": "67f90807-01c8-4290-8aff-b2bf10080470",
   "metadata": {},
   "source": [
    "**Exemplo 05**"
   ]
  },
  {
   "cell_type": "code",
   "execution_count": 23,
   "id": "5cdcaa2b-6549-46ff-8a7d-75aeb679ece0",
   "metadata": {},
   "outputs": [
    {
     "name": "stdout",
     "output_type": "stream",
     "text": [
      "[[1, 2], [3, 4]]\n",
      "[[0 1 2 0]\n",
      " [0 3 4 0]]\n"
     ]
    }
   ],
   "source": [
    "import numpy as np\n",
    "matriz_orig = [[1, 2],[3, 4]] \n",
    "matriz_pad = np.pad(matriz_orig, ((0,0),(1,1)), 'constant')\n",
    "print(matriz_orig)\n",
    "print(matriz_pad)"
   ]
  },
  {
   "cell_type": "markdown",
   "id": "93f58efa-8f19-4e90-aa1a-94f8f842cbf5",
   "metadata": {},
   "source": [
    "# **Geração de Valores Aleatórios**"
   ]
  },
  {
   "cell_type": "markdown",
   "id": "be9df58f-bf3c-4818-99c9-3156fb4b7e9a",
   "metadata": {},
   "source": [
    "**Exemplo 01**"
   ]
  },
  {
   "cell_type": "code",
   "execution_count": 25,
   "id": "953c2913-ec50-4888-8b3a-aae4bf123aba",
   "metadata": {},
   "outputs": [
    {
     "name": "stdout",
     "output_type": "stream",
     "text": [
      "x:10\n"
     ]
    }
   ],
   "source": [
    "import numpy as np\n",
    "x = np.random.randint(100)\n",
    "print(\"x:{}\".format(x))"
   ]
  },
  {
   "cell_type": "markdown",
   "id": "a27aa7ea-ba5d-47b7-9281-2343b7919919",
   "metadata": {},
   "source": [
    "**Exemplo 02**"
   ]
  },
  {
   "cell_type": "code",
   "execution_count": 27,
   "id": "4b741451-dd97-4fc0-8af3-393b5f87394c",
   "metadata": {},
   "outputs": [
    {
     "name": "stdout",
     "output_type": "stream",
     "text": [
      "x:[30 89 90 19 93]\n"
     ]
    }
   ],
   "source": [
    "import numpy as np\n",
    "variacao=100\n",
    "quantidade=5\n",
    "x = np.random.randint(variacao,size=quantidade)\n",
    "print(\"x:{}\".format(x))"
   ]
  },
  {
   "cell_type": "markdown",
   "id": "5735a7ca-3321-4acf-b928-176118b66fe5",
   "metadata": {},
   "source": [
    "**Exemplo 03**"
   ]
  },
  {
   "cell_type": "code",
   "execution_count": 28,
   "id": "67c49849-bde5-4016-84fd-ae556a584dfc",
   "metadata": {},
   "outputs": [
    {
     "name": "stdout",
     "output_type": "stream",
     "text": [
      "dados: [ 1.62434536 -0.61175641 -0.52817175 -1.07296862  0.86540763 -2.3015387\n",
      "  1.74481176 -0.7612069   0.3190391  -0.24937038  1.46210794 -2.06014071\n",
      " -0.3224172  -0.38405435  1.13376944 -1.09989127 -0.17242821 -0.87785842\n",
      "  0.04221375  0.58281521 -1.10061918  1.14472371  0.90159072  0.50249434\n",
      "  0.90085595 -0.68372786 -0.12289023 -0.93576943 -0.26788808  0.53035547\n",
      " -0.69166075 -0.39675353 -0.6871727  -0.84520564 -0.67124613 -0.0126646\n",
      " -1.11731035  0.2344157   1.65980218  0.74204416 -0.19183555 -0.88762896\n",
      " -0.74715829  1.6924546   0.05080775 -0.63699565  0.19091548  2.10025514\n",
      "  0.12015895  0.61720311  0.30017032 -0.35224985 -1.1425182  -0.34934272\n",
      " -0.20889423  0.58662319  0.83898341  0.93110208  0.28558733  0.88514116\n",
      " -0.75439794  1.25286816  0.51292982 -0.29809284  0.48851815 -0.07557171\n",
      "  1.13162939  1.51981682  2.18557541 -1.39649634 -1.44411381 -0.50446586\n",
      "  0.16003707  0.87616892  0.31563495 -2.02220122 -0.30620401  0.82797464\n",
      "  0.23009474  0.76201118 -0.22232814 -0.20075807  0.18656139  0.41005165\n",
      "  0.19829972  0.11900865 -0.67066229  0.37756379  0.12182127  1.12948391\n",
      "  1.19891788  0.18515642 -0.37528495 -0.63873041  0.42349435  0.07734007\n",
      " -0.34385368  0.04359686 -0.62000084  0.69803203 -0.44712856  1.2245077\n",
      "  0.40349164  0.59357852 -1.09491185  0.16938243  0.74055645 -0.9537006\n",
      " -0.26621851  0.03261455 -1.37311732  0.31515939  0.84616065 -0.85951594\n",
      "  0.35054598 -1.31228341 -0.03869551 -1.61577235  1.12141771  0.40890054\n",
      " -0.02461696 -0.77516162  1.27375593  1.96710175 -1.85798186  1.23616403\n",
      "  1.62765075  0.3380117  -1.19926803  0.86334532 -0.1809203  -0.60392063\n",
      " -1.23005814  0.5505375   0.79280687 -0.62353073  0.52057634 -1.14434139\n",
      "  0.80186103  0.0465673  -0.18656977 -0.10174587  0.86888616  0.75041164\n",
      "  0.52946532  0.13770121  0.07782113  0.61838026  0.23249456  0.68255141\n",
      " -0.31011677 -2.43483776  1.0388246   2.18697965  0.44136444 -0.10015523\n",
      " -0.13644474 -0.11905419  0.01740941 -1.12201873 -0.51709446 -0.99702683\n",
      "  0.24879916 -0.29664115  0.49521132 -0.17470316  0.98633519  0.2135339\n",
      "  2.19069973 -1.89636092 -0.64691669  0.90148689  2.52832571 -0.24863478\n",
      "  0.04366899 -0.22631424  1.33145711 -0.28730786  0.68006984 -0.3198016\n",
      " -1.27255876  0.31354772  0.50318481  1.29322588 -0.11044703 -0.61736206\n",
      "  0.5627611   0.24073709  0.28066508 -0.0731127   1.16033857  0.36949272\n",
      "  1.90465871  1.1110567   0.6590498  -1.62743834  0.60231928  0.4202822\n",
      "  0.81095167  1.04444209]\n"
     ]
    }
   ],
   "source": [
    "from numpy.random import seed\n",
    "from numpy.random import normal\n",
    "seed(1)\n",
    "dados = normal(loc=0, scale=1, size=200)\n",
    "print(\"dados: {}\".format(dados))\n",
    "#loc: Média da distribuição. O padrão é 0.\n",
    "#scale: Desvio padrão da distribuição. O padrão é 1.\n",
    "#size: Tamanho dos dados."
   ]
  },
  {
   "cell_type": "markdown",
   "id": "b6c3bd19-2ded-4d31-af97-395ac2903560",
   "metadata": {},
   "source": [
    "**Exemplo 04**"
   ]
  },
  {
   "cell_type": "code",
   "execution_count": 29,
   "id": "2f428ac6-e6ee-401a-97f3-c34a8e08057f",
   "metadata": {},
   "outputs": [
    {
     "name": "stdout",
     "output_type": "stream",
     "text": [
      "vetor:[[ 0  1  2  3  4]\n",
      " [ 5  6  7  8  9]\n",
      " [10 11 12 13 14]]\n"
     ]
    }
   ],
   "source": [
    "import numpy as np\n",
    "a = np.arange(15).reshape(3, 5)\n",
    "print(\"vetor:{}\".format(a))"
   ]
  },
  {
   "cell_type": "markdown",
   "id": "54027313-c9a2-473f-abc7-171349977271",
   "metadata": {},
   "source": [
    "**Exemplo 05**"
   ]
  },
  {
   "cell_type": "code",
   "execution_count": 30,
   "id": "1d8ea74f-7a37-471b-b0e7-6d06ef4250b9",
   "metadata": {},
   "outputs": [
    {
     "name": "stdout",
     "output_type": "stream",
     "text": [
      "matriz:[[10  5]\n",
      " [ 3  9]\n",
      " [ 2  1]]\n"
     ]
    }
   ],
   "source": [
    "import numpy as np\n",
    "vetor = np.array([10,5,3,9,2,1])\n",
    "matriz = vetor.reshape(3,2)\n",
    "print(\"matriz:{}\".format(matriz))"
   ]
  },
  {
   "cell_type": "markdown",
   "id": "f5d4bc2c-9a9f-4d14-b217-3b2b6b9a1a4b",
   "metadata": {},
   "source": [
    "# **Dataframe**"
   ]
  },
  {
   "cell_type": "markdown",
   "id": "b20b995f-9194-4f53-bb21-e5c6c3634bfb",
   "metadata": {},
   "source": [
    "**Exemplo 01**"
   ]
  },
  {
   "cell_type": "code",
   "execution_count": 32,
   "id": "419350c9-e0f6-490b-b21f-2625c3a38e95",
   "metadata": {},
   "outputs": [
    {
     "data": {
      "text/html": [
       "<div>\n",
       "<style scoped>\n",
       "    .dataframe tbody tr th:only-of-type {\n",
       "        vertical-align: middle;\n",
       "    }\n",
       "\n",
       "    .dataframe tbody tr th {\n",
       "        vertical-align: top;\n",
       "    }\n",
       "\n",
       "    .dataframe thead th {\n",
       "        text-align: right;\n",
       "    }\n",
       "</style>\n",
       "<table border=\"1\" class=\"dataframe\">\n",
       "  <thead>\n",
       "    <tr style=\"text-align: right;\">\n",
       "      <th></th>\n",
       "      <th>coluna 01</th>\n",
       "      <th>coluna 02</th>\n",
       "    </tr>\n",
       "  </thead>\n",
       "  <tbody>\n",
       "    <tr>\n",
       "      <th>0</th>\n",
       "      <td>1</td>\n",
       "      <td>3</td>\n",
       "    </tr>\n",
       "    <tr>\n",
       "      <th>1</th>\n",
       "      <td>2</td>\n",
       "      <td>4</td>\n",
       "    </tr>\n",
       "  </tbody>\n",
       "</table>\n",
       "</div>"
      ],
      "text/plain": [
       "   coluna 01  coluna 02\n",
       "0          1          3\n",
       "1          2          4"
      ]
     },
     "execution_count": 32,
     "metadata": {},
     "output_type": "execute_result"
    }
   ],
   "source": [
    "import numpy as np\n",
    "import pandas as pd\n",
    "dados = {'coluna 01': [1, 2], 'coluna 02': [3, 4]}\n",
    "df = pd.DataFrame(data=dados)\n",
    "df"
   ]
  },
  {
   "cell_type": "markdown",
   "id": "11dbbef3-cf2b-48c5-9442-11bdf73892f8",
   "metadata": {},
   "source": [
    "**Exemplo 02**"
   ]
  },
  {
   "cell_type": "code",
   "execution_count": 33,
   "id": "3e49ebf5-f9f2-49ed-b184-f85204afd3a7",
   "metadata": {},
   "outputs": [
    {
     "data": {
      "text/html": [
       "<div>\n",
       "<style scoped>\n",
       "    .dataframe tbody tr th:only-of-type {\n",
       "        vertical-align: middle;\n",
       "    }\n",
       "\n",
       "    .dataframe tbody tr th {\n",
       "        vertical-align: top;\n",
       "    }\n",
       "\n",
       "    .dataframe thead th {\n",
       "        text-align: right;\n",
       "    }\n",
       "</style>\n",
       "<table border=\"1\" class=\"dataframe\">\n",
       "  <thead>\n",
       "    <tr style=\"text-align: right;\">\n",
       "      <th></th>\n",
       "      <th>Produto</th>\n",
       "      <th>Preço</th>\n",
       "    </tr>\n",
       "  </thead>\n",
       "  <tbody>\n",
       "    <tr>\n",
       "      <th>0</th>\n",
       "      <td>A</td>\n",
       "      <td>100</td>\n",
       "    </tr>\n",
       "    <tr>\n",
       "      <th>1</th>\n",
       "      <td>B</td>\n",
       "      <td>500</td>\n",
       "    </tr>\n",
       "  </tbody>\n",
       "</table>\n",
       "</div>"
      ],
      "text/plain": [
       "  Produto  Preço\n",
       "0       A    100\n",
       "1       B    500"
      ]
     },
     "execution_count": 33,
     "metadata": {},
     "output_type": "execute_result"
    }
   ],
   "source": [
    "import pandas as pd\n",
    "dados_2 = {'Produto': ['A', 'B'], 'Preço': [100, 500]}\n",
    "df_2 = pd.DataFrame(data = dados_2)\n",
    "df_2"
   ]
  },
  {
   "cell_type": "markdown",
   "id": "33cc7b18-6663-4847-81d0-f703edb6c80a",
   "metadata": {},
   "source": [
    "**Exemplo 03**"
   ]
  },
  {
   "cell_type": "code",
   "execution_count": 34,
   "id": "0b0466df-e272-4094-aecc-ece709438cbf",
   "metadata": {},
   "outputs": [
    {
     "data": {
      "text/html": [
       "<div>\n",
       "<style scoped>\n",
       "    .dataframe tbody tr th:only-of-type {\n",
       "        vertical-align: middle;\n",
       "    }\n",
       "\n",
       "    .dataframe tbody tr th {\n",
       "        vertical-align: top;\n",
       "    }\n",
       "\n",
       "    .dataframe thead th {\n",
       "        text-align: right;\n",
       "    }\n",
       "</style>\n",
       "<table border=\"1\" class=\"dataframe\">\n",
       "  <thead>\n",
       "    <tr style=\"text-align: right;\">\n",
       "      <th></th>\n",
       "      <th>Produto</th>\n",
       "      <th>Preço</th>\n",
       "      <th>Estoque</th>\n",
       "    </tr>\n",
       "  </thead>\n",
       "  <tbody>\n",
       "    <tr>\n",
       "      <th>0</th>\n",
       "      <td>A</td>\n",
       "      <td>100</td>\n",
       "      <td>200</td>\n",
       "    </tr>\n",
       "    <tr>\n",
       "      <th>1</th>\n",
       "      <td>B</td>\n",
       "      <td>500</td>\n",
       "      <td>707</td>\n",
       "    </tr>\n",
       "  </tbody>\n",
       "</table>\n",
       "</div>"
      ],
      "text/plain": [
       "  Produto  Preço  Estoque\n",
       "0       A    100      200\n",
       "1       B    500      707"
      ]
     },
     "execution_count": 34,
     "metadata": {},
     "output_type": "execute_result"
    }
   ],
   "source": [
    "#Adicionar nova coluna\n",
    "df_2['Estoque'] = [200, 707]\n",
    "df_2"
   ]
  },
  {
   "cell_type": "markdown",
   "id": "a0725c26-759b-4500-8f5e-94018cf2a23a",
   "metadata": {},
   "source": [
    "**Exemplo 04**"
   ]
  },
  {
   "cell_type": "code",
   "execution_count": 35,
   "id": "28a95051-db22-4c9f-8c48-ebc42d01f3ce",
   "metadata": {},
   "outputs": [
    {
     "data": {
      "text/html": [
       "<div>\n",
       "<style scoped>\n",
       "    .dataframe tbody tr th:only-of-type {\n",
       "        vertical-align: middle;\n",
       "    }\n",
       "\n",
       "    .dataframe tbody tr th {\n",
       "        vertical-align: top;\n",
       "    }\n",
       "\n",
       "    .dataframe thead th {\n",
       "        text-align: right;\n",
       "    }\n",
       "</style>\n",
       "<table border=\"1\" class=\"dataframe\">\n",
       "  <thead>\n",
       "    <tr style=\"text-align: right;\">\n",
       "      <th></th>\n",
       "      <th>Produto</th>\n",
       "      <th>Preço</th>\n",
       "      <th>Estoque</th>\n",
       "      <th>Categoria</th>\n",
       "    </tr>\n",
       "  </thead>\n",
       "  <tbody>\n",
       "    <tr>\n",
       "      <th>0</th>\n",
       "      <td>A</td>\n",
       "      <td>100</td>\n",
       "      <td>200</td>\n",
       "      <td>Suco</td>\n",
       "    </tr>\n",
       "    <tr>\n",
       "      <th>1</th>\n",
       "      <td>B</td>\n",
       "      <td>500</td>\n",
       "      <td>707</td>\n",
       "      <td>Cereal</td>\n",
       "    </tr>\n",
       "  </tbody>\n",
       "</table>\n",
       "</div>"
      ],
      "text/plain": [
       "  Produto  Preço  Estoque Categoria\n",
       "0       A    100      200      Suco\n",
       "1       B    500      707    Cereal"
      ]
     },
     "execution_count": 35,
     "metadata": {},
     "output_type": "execute_result"
    }
   ],
   "source": [
    "#Outra forma de adicionar uma coluna\n",
    "df_2.insert(loc=3, column=\"Categoria\", value =['Suco', 'Cereal'])\n",
    "df_2"
   ]
  },
  {
   "cell_type": "markdown",
   "id": "3c2ce39e-22c0-4889-aadc-569dbbdf6949",
   "metadata": {},
   "source": [
    "# **Análise Exploratória de Dados**"
   ]
  },
  {
   "cell_type": "markdown",
   "id": "b06718f7-805c-4e55-ad4f-8d607cffb3ad",
   "metadata": {},
   "source": [
    "A Análise Exploratória de Dados (EDA) é usada para:\n",
    "\n",
    "- Responder perguntas;\n",
    "- Testar hipóteses;\n",
    "- Preparar os dados para modelagem."
   ]
  },
  {
   "cell_type": "markdown",
   "id": "1fed1d43-2271-419f-89f8-ec7dd24512c3",
   "metadata": {},
   "source": [
    "**Exemplo 01**"
   ]
  },
  {
   "cell_type": "code",
   "execution_count": 37,
   "id": "5b2ce1c6-86bf-4ee2-a0d1-04d9747040c4",
   "metadata": {},
   "outputs": [
    {
     "name": "stdout",
     "output_type": "stream",
     "text": [
      "dados:[46 89  2 98 28]\n"
     ]
    }
   ],
   "source": [
    "import numpy as np\n",
    "from scipy import stats\n",
    "variacao=100\n",
    "quantidade=5\n",
    "dados = np.random.randint(variacao,size=quantidade)\n",
    "print(\"dados:{}\".format(dados))"
   ]
  },
  {
   "cell_type": "code",
   "execution_count": 38,
   "id": "a7ab7d53-266c-4f22-abdb-94de820d36e5",
   "metadata": {},
   "outputs": [
    {
     "name": "stdout",
     "output_type": "stream",
     "text": [
      "media:52.6\n",
      "desvio padrão:36.31859028101174\n",
      "variância:1319.04\n",
      "mínimo:2\n",
      "máximo:98\n",
      "moda:[2]; quantidade:[1]\n"
     ]
    }
   ],
   "source": [
    "media = dados.mean()\n",
    "desvio_padrao=dados.std()\n",
    "variancia=dados.var()\n",
    "minimo = dados.min()\n",
    "maximo = dados.max()\n",
    "moda = stats.mode(dados)\n",
    "print(\"media:{}\".format(media))\n",
    "print(\"desvio padrão:{}\".format(desvio_padrao))\n",
    "print(\"variância:{}\".format(variancia))\n",
    "print(\"mínimo:{}\".format(minimo))\n",
    "print(\"máximo:{}\".format(maximo))\n",
    "print(\"moda:{}; quantidade:{}\".format(moda.mode,moda.count))"
   ]
  },
  {
   "cell_type": "markdown",
   "id": "67a88d62-133c-4b00-ba70-b4726cb66cee",
   "metadata": {},
   "source": [
    "**Exemplo 02**"
   ]
  },
  {
   "cell_type": "code",
   "execution_count": 40,
   "id": "e9155fce-c1c3-4ea0-8b71-86c02016d40f",
   "metadata": {},
   "outputs": [
    {
     "data": {
      "text/html": [
       "<div>\n",
       "<style scoped>\n",
       "    .dataframe tbody tr th:only-of-type {\n",
       "        vertical-align: middle;\n",
       "    }\n",
       "\n",
       "    .dataframe tbody tr th {\n",
       "        vertical-align: top;\n",
       "    }\n",
       "\n",
       "    .dataframe thead th {\n",
       "        text-align: right;\n",
       "    }\n",
       "</style>\n",
       "<table border=\"1\" class=\"dataframe\">\n",
       "  <thead>\n",
       "    <tr style=\"text-align: right;\">\n",
       "      <th></th>\n",
       "      <th>sepal length (cm)</th>\n",
       "      <th>sepal width (cm)</th>\n",
       "      <th>petal length (cm)</th>\n",
       "      <th>petal width (cm)</th>\n",
       "      <th>target</th>\n",
       "    </tr>\n",
       "  </thead>\n",
       "  <tbody>\n",
       "    <tr>\n",
       "      <th>0</th>\n",
       "      <td>5.1</td>\n",
       "      <td>3.5</td>\n",
       "      <td>1.4</td>\n",
       "      <td>0.2</td>\n",
       "      <td>0.0</td>\n",
       "    </tr>\n",
       "    <tr>\n",
       "      <th>1</th>\n",
       "      <td>4.9</td>\n",
       "      <td>3.0</td>\n",
       "      <td>1.4</td>\n",
       "      <td>0.2</td>\n",
       "      <td>0.0</td>\n",
       "    </tr>\n",
       "    <tr>\n",
       "      <th>2</th>\n",
       "      <td>4.7</td>\n",
       "      <td>3.2</td>\n",
       "      <td>1.3</td>\n",
       "      <td>0.2</td>\n",
       "      <td>0.0</td>\n",
       "    </tr>\n",
       "    <tr>\n",
       "      <th>3</th>\n",
       "      <td>4.6</td>\n",
       "      <td>3.1</td>\n",
       "      <td>1.5</td>\n",
       "      <td>0.2</td>\n",
       "      <td>0.0</td>\n",
       "    </tr>\n",
       "    <tr>\n",
       "      <th>4</th>\n",
       "      <td>5.0</td>\n",
       "      <td>3.6</td>\n",
       "      <td>1.4</td>\n",
       "      <td>0.2</td>\n",
       "      <td>0.0</td>\n",
       "    </tr>\n",
       "    <tr>\n",
       "      <th>5</th>\n",
       "      <td>5.4</td>\n",
       "      <td>3.9</td>\n",
       "      <td>1.7</td>\n",
       "      <td>0.4</td>\n",
       "      <td>0.0</td>\n",
       "    </tr>\n",
       "    <tr>\n",
       "      <th>6</th>\n",
       "      <td>4.6</td>\n",
       "      <td>3.4</td>\n",
       "      <td>1.4</td>\n",
       "      <td>0.3</td>\n",
       "      <td>0.0</td>\n",
       "    </tr>\n",
       "    <tr>\n",
       "      <th>7</th>\n",
       "      <td>5.0</td>\n",
       "      <td>3.4</td>\n",
       "      <td>1.5</td>\n",
       "      <td>0.2</td>\n",
       "      <td>0.0</td>\n",
       "    </tr>\n",
       "    <tr>\n",
       "      <th>8</th>\n",
       "      <td>4.4</td>\n",
       "      <td>2.9</td>\n",
       "      <td>1.4</td>\n",
       "      <td>0.2</td>\n",
       "      <td>0.0</td>\n",
       "    </tr>\n",
       "    <tr>\n",
       "      <th>9</th>\n",
       "      <td>4.9</td>\n",
       "      <td>3.1</td>\n",
       "      <td>1.5</td>\n",
       "      <td>0.1</td>\n",
       "      <td>0.0</td>\n",
       "    </tr>\n",
       "  </tbody>\n",
       "</table>\n",
       "</div>"
      ],
      "text/plain": [
       "   sepal length (cm)  sepal width (cm)  petal length (cm)  petal width (cm)  \\\n",
       "0                5.1               3.5                1.4               0.2   \n",
       "1                4.9               3.0                1.4               0.2   \n",
       "2                4.7               3.2                1.3               0.2   \n",
       "3                4.6               3.1                1.5               0.2   \n",
       "4                5.0               3.6                1.4               0.2   \n",
       "5                5.4               3.9                1.7               0.4   \n",
       "6                4.6               3.4                1.4               0.3   \n",
       "7                5.0               3.4                1.5               0.2   \n",
       "8                4.4               2.9                1.4               0.2   \n",
       "9                4.9               3.1                1.5               0.1   \n",
       "\n",
       "   target  \n",
       "0     0.0  \n",
       "1     0.0  \n",
       "2     0.0  \n",
       "3     0.0  \n",
       "4     0.0  \n",
       "5     0.0  \n",
       "6     0.0  \n",
       "7     0.0  \n",
       "8     0.0  \n",
       "9     0.0  "
      ]
     },
     "execution_count": 40,
     "metadata": {},
     "output_type": "execute_result"
    }
   ],
   "source": [
    "import pandas as pd\n",
    "from sklearn.datasets import load_iris\n",
    "iris = load_iris()\n",
    "df= pd.DataFrame(data= np.c_[iris['data'], iris['target']],\n",
    "                 columns= iris['feature_names'] + ['target'])\n",
    " \n",
    "df.head(10)"
   ]
  },
  {
   "cell_type": "code",
   "execution_count": 41,
   "id": "c5ea30b5-1e27-4185-9590-cdb639ddf200",
   "metadata": {},
   "outputs": [
    {
     "data": {
      "text/plain": [
       "(150, 5)"
      ]
     },
     "execution_count": 41,
     "metadata": {},
     "output_type": "execute_result"
    }
   ],
   "source": [
    "df.shape"
   ]
  },
  {
   "cell_type": "code",
   "execution_count": 42,
   "id": "b3cb6573-439d-4dcf-bd02-9b35435261b2",
   "metadata": {},
   "outputs": [
    {
     "data": {
      "text/plain": [
       "Index(['sepal length (cm)', 'sepal width (cm)', 'petal length (cm)',\n",
       "       'petal width (cm)', 'target'],\n",
       "      dtype='object')"
      ]
     },
     "execution_count": 42,
     "metadata": {},
     "output_type": "execute_result"
    }
   ],
   "source": [
    "df.columns"
   ]
  },
  {
   "cell_type": "code",
   "execution_count": 43,
   "id": "c67d542e-8a72-482e-a322-562c0b07fb16",
   "metadata": {},
   "outputs": [],
   "source": [
    "def detalhar_dados(dados):\n",
    "    return pd.DataFrame({\"Tipo dos dados\":dados.dtypes,\"Qtd de Níveis\":dados.apply(lambda x: x.nunique(),axis=0), \n",
    "                         \"Níveis\":dados.apply(lambda x: str(x.unique()),axis=0)})"
   ]
  },
  {
   "cell_type": "code",
   "execution_count": 44,
   "id": "571ebcfe-a65c-42fa-933f-47ea29666223",
   "metadata": {},
   "outputs": [
    {
     "data": {
      "text/html": [
       "<div>\n",
       "<style scoped>\n",
       "    .dataframe tbody tr th:only-of-type {\n",
       "        vertical-align: middle;\n",
       "    }\n",
       "\n",
       "    .dataframe tbody tr th {\n",
       "        vertical-align: top;\n",
       "    }\n",
       "\n",
       "    .dataframe thead th {\n",
       "        text-align: right;\n",
       "    }\n",
       "</style>\n",
       "<table border=\"1\" class=\"dataframe\">\n",
       "  <thead>\n",
       "    <tr style=\"text-align: right;\">\n",
       "      <th></th>\n",
       "      <th>Tipo dos dados</th>\n",
       "      <th>Qtd de Níveis</th>\n",
       "      <th>Níveis</th>\n",
       "    </tr>\n",
       "  </thead>\n",
       "  <tbody>\n",
       "    <tr>\n",
       "      <th>sepal length (cm)</th>\n",
       "      <td>float64</td>\n",
       "      <td>35</td>\n",
       "      <td>[5.1 4.9 4.7 4.6 5.  5.4 4.4 4.8 4.3 5.8 5.7 5...</td>\n",
       "    </tr>\n",
       "    <tr>\n",
       "      <th>sepal width (cm)</th>\n",
       "      <td>float64</td>\n",
       "      <td>23</td>\n",
       "      <td>[3.5 3.  3.2 3.1 3.6 3.9 3.4 2.9 3.7 4.  4.4 3...</td>\n",
       "    </tr>\n",
       "    <tr>\n",
       "      <th>petal length (cm)</th>\n",
       "      <td>float64</td>\n",
       "      <td>43</td>\n",
       "      <td>[1.4 1.3 1.5 1.7 1.6 1.1 1.2 1.  1.9 4.7 4.5 4...</td>\n",
       "    </tr>\n",
       "    <tr>\n",
       "      <th>petal width (cm)</th>\n",
       "      <td>float64</td>\n",
       "      <td>22</td>\n",
       "      <td>[0.2 0.4 0.3 0.1 0.5 0.6 1.4 1.5 1.3 1.6 1.  1...</td>\n",
       "    </tr>\n",
       "    <tr>\n",
       "      <th>target</th>\n",
       "      <td>float64</td>\n",
       "      <td>3</td>\n",
       "      <td>[0. 1. 2.]</td>\n",
       "    </tr>\n",
       "  </tbody>\n",
       "</table>\n",
       "</div>"
      ],
      "text/plain": [
       "                  Tipo dos dados  Qtd de Níveis  \\\n",
       "sepal length (cm)        float64             35   \n",
       "sepal width (cm)         float64             23   \n",
       "petal length (cm)        float64             43   \n",
       "petal width (cm)         float64             22   \n",
       "target                   float64              3   \n",
       "\n",
       "                                                              Níveis  \n",
       "sepal length (cm)  [5.1 4.9 4.7 4.6 5.  5.4 4.4 4.8 4.3 5.8 5.7 5...  \n",
       "sepal width (cm)   [3.5 3.  3.2 3.1 3.6 3.9 3.4 2.9 3.7 4.  4.4 3...  \n",
       "petal length (cm)  [1.4 1.3 1.5 1.7 1.6 1.1 1.2 1.  1.9 4.7 4.5 4...  \n",
       "petal width (cm)   [0.2 0.4 0.3 0.1 0.5 0.6 1.4 1.5 1.3 1.6 1.  1...  \n",
       "target                                                    [0. 1. 2.]  "
      ]
     },
     "execution_count": 44,
     "metadata": {},
     "output_type": "execute_result"
    }
   ],
   "source": [
    "detalhar_dados(df)"
   ]
  },
  {
   "cell_type": "code",
   "execution_count": 45,
   "id": "efbdce94-ae48-449e-bc78-f78ce68c907f",
   "metadata": {},
   "outputs": [
    {
     "name": "stdout",
     "output_type": "stream",
     "text": [
      "<class 'pandas.core.frame.DataFrame'>\n",
      "RangeIndex: 150 entries, 0 to 149\n",
      "Data columns (total 5 columns):\n",
      " #   Column             Non-Null Count  Dtype  \n",
      "---  ------             --------------  -----  \n",
      " 0   sepal length (cm)  150 non-null    float64\n",
      " 1   sepal width (cm)   150 non-null    float64\n",
      " 2   petal length (cm)  150 non-null    float64\n",
      " 3   petal width (cm)   150 non-null    float64\n",
      " 4   target             150 non-null    float64\n",
      "dtypes: float64(5)\n",
      "memory usage: 6.0 KB\n"
     ]
    }
   ],
   "source": [
    "df.info()"
   ]
  },
  {
   "cell_type": "code",
   "execution_count": 46,
   "id": "769e5b3d-7cb3-4003-b9da-10af2559788c",
   "metadata": {},
   "outputs": [
    {
     "data": {
      "text/plain": [
       "sepal length (cm)    float64\n",
       "sepal width (cm)     float64\n",
       "petal length (cm)    float64\n",
       "petal width (cm)     float64\n",
       "target               float64\n",
       "dtype: object"
      ]
     },
     "execution_count": 46,
     "metadata": {},
     "output_type": "execute_result"
    }
   ],
   "source": [
    "df.dtypes"
   ]
  },
  {
   "cell_type": "code",
   "execution_count": 47,
   "id": "00cc8785-ae23-4252-b1e3-9f04b8073ad8",
   "metadata": {},
   "outputs": [
    {
     "data": {
      "text/html": [
       "<div>\n",
       "<style scoped>\n",
       "    .dataframe tbody tr th:only-of-type {\n",
       "        vertical-align: middle;\n",
       "    }\n",
       "\n",
       "    .dataframe tbody tr th {\n",
       "        vertical-align: top;\n",
       "    }\n",
       "\n",
       "    .dataframe thead th {\n",
       "        text-align: right;\n",
       "    }\n",
       "</style>\n",
       "<table border=\"1\" class=\"dataframe\">\n",
       "  <thead>\n",
       "    <tr style=\"text-align: right;\">\n",
       "      <th></th>\n",
       "      <th>sepal length (cm)</th>\n",
       "      <th>sepal width (cm)</th>\n",
       "      <th>petal length (cm)</th>\n",
       "      <th>petal width (cm)</th>\n",
       "      <th>target</th>\n",
       "    </tr>\n",
       "  </thead>\n",
       "  <tbody>\n",
       "    <tr>\n",
       "      <th>count</th>\n",
       "      <td>150.000000</td>\n",
       "      <td>150.000000</td>\n",
       "      <td>150.000000</td>\n",
       "      <td>150.000000</td>\n",
       "      <td>150.000000</td>\n",
       "    </tr>\n",
       "    <tr>\n",
       "      <th>mean</th>\n",
       "      <td>5.843333</td>\n",
       "      <td>3.057333</td>\n",
       "      <td>3.758000</td>\n",
       "      <td>1.199333</td>\n",
       "      <td>1.000000</td>\n",
       "    </tr>\n",
       "    <tr>\n",
       "      <th>std</th>\n",
       "      <td>0.828066</td>\n",
       "      <td>0.435866</td>\n",
       "      <td>1.765298</td>\n",
       "      <td>0.762238</td>\n",
       "      <td>0.819232</td>\n",
       "    </tr>\n",
       "    <tr>\n",
       "      <th>min</th>\n",
       "      <td>4.300000</td>\n",
       "      <td>2.000000</td>\n",
       "      <td>1.000000</td>\n",
       "      <td>0.100000</td>\n",
       "      <td>0.000000</td>\n",
       "    </tr>\n",
       "    <tr>\n",
       "      <th>25%</th>\n",
       "      <td>5.100000</td>\n",
       "      <td>2.800000</td>\n",
       "      <td>1.600000</td>\n",
       "      <td>0.300000</td>\n",
       "      <td>0.000000</td>\n",
       "    </tr>\n",
       "    <tr>\n",
       "      <th>50%</th>\n",
       "      <td>5.800000</td>\n",
       "      <td>3.000000</td>\n",
       "      <td>4.350000</td>\n",
       "      <td>1.300000</td>\n",
       "      <td>1.000000</td>\n",
       "    </tr>\n",
       "    <tr>\n",
       "      <th>75%</th>\n",
       "      <td>6.400000</td>\n",
       "      <td>3.300000</td>\n",
       "      <td>5.100000</td>\n",
       "      <td>1.800000</td>\n",
       "      <td>2.000000</td>\n",
       "    </tr>\n",
       "    <tr>\n",
       "      <th>max</th>\n",
       "      <td>7.900000</td>\n",
       "      <td>4.400000</td>\n",
       "      <td>6.900000</td>\n",
       "      <td>2.500000</td>\n",
       "      <td>2.000000</td>\n",
       "    </tr>\n",
       "  </tbody>\n",
       "</table>\n",
       "</div>"
      ],
      "text/plain": [
       "       sepal length (cm)  sepal width (cm)  petal length (cm)  \\\n",
       "count         150.000000        150.000000         150.000000   \n",
       "mean            5.843333          3.057333           3.758000   \n",
       "std             0.828066          0.435866           1.765298   \n",
       "min             4.300000          2.000000           1.000000   \n",
       "25%             5.100000          2.800000           1.600000   \n",
       "50%             5.800000          3.000000           4.350000   \n",
       "75%             6.400000          3.300000           5.100000   \n",
       "max             7.900000          4.400000           6.900000   \n",
       "\n",
       "       petal width (cm)      target  \n",
       "count        150.000000  150.000000  \n",
       "mean           1.199333    1.000000  \n",
       "std            0.762238    0.819232  \n",
       "min            0.100000    0.000000  \n",
       "25%            0.300000    0.000000  \n",
       "50%            1.300000    1.000000  \n",
       "75%            1.800000    2.000000  \n",
       "max            2.500000    2.000000  "
      ]
     },
     "execution_count": 47,
     "metadata": {},
     "output_type": "execute_result"
    }
   ],
   "source": [
    "#Análise exploratória de todas as colunas\n",
    "df.describe(include='all')"
   ]
  },
  {
   "cell_type": "code",
   "execution_count": 48,
   "id": "cfe4cf0c-b6ac-4693-ad19-e4e43d9dd984",
   "metadata": {},
   "outputs": [
    {
     "data": {
      "text/html": [
       "<div>\n",
       "<style scoped>\n",
       "    .dataframe tbody tr th:only-of-type {\n",
       "        vertical-align: middle;\n",
       "    }\n",
       "\n",
       "    .dataframe tbody tr th {\n",
       "        vertical-align: top;\n",
       "    }\n",
       "\n",
       "    .dataframe thead th {\n",
       "        text-align: right;\n",
       "    }\n",
       "</style>\n",
       "<table border=\"1\" class=\"dataframe\">\n",
       "  <thead>\n",
       "    <tr style=\"text-align: right;\">\n",
       "      <th></th>\n",
       "      <th>sepal length (cm)</th>\n",
       "      <th>sepal width (cm)</th>\n",
       "      <th>petal length (cm)</th>\n",
       "      <th>petal width (cm)</th>\n",
       "      <th>target</th>\n",
       "    </tr>\n",
       "  </thead>\n",
       "  <tbody>\n",
       "    <tr>\n",
       "      <th>count</th>\n",
       "      <td>150.000000</td>\n",
       "      <td>150.000000</td>\n",
       "      <td>150.000000</td>\n",
       "      <td>150.000000</td>\n",
       "      <td>150.000000</td>\n",
       "    </tr>\n",
       "    <tr>\n",
       "      <th>mean</th>\n",
       "      <td>5.843333</td>\n",
       "      <td>3.057333</td>\n",
       "      <td>3.758000</td>\n",
       "      <td>1.199333</td>\n",
       "      <td>1.000000</td>\n",
       "    </tr>\n",
       "    <tr>\n",
       "      <th>std</th>\n",
       "      <td>0.828066</td>\n",
       "      <td>0.435866</td>\n",
       "      <td>1.765298</td>\n",
       "      <td>0.762238</td>\n",
       "      <td>0.819232</td>\n",
       "    </tr>\n",
       "    <tr>\n",
       "      <th>min</th>\n",
       "      <td>4.300000</td>\n",
       "      <td>2.000000</td>\n",
       "      <td>1.000000</td>\n",
       "      <td>0.100000</td>\n",
       "      <td>0.000000</td>\n",
       "    </tr>\n",
       "    <tr>\n",
       "      <th>25%</th>\n",
       "      <td>5.100000</td>\n",
       "      <td>2.800000</td>\n",
       "      <td>1.600000</td>\n",
       "      <td>0.300000</td>\n",
       "      <td>0.000000</td>\n",
       "    </tr>\n",
       "    <tr>\n",
       "      <th>50%</th>\n",
       "      <td>5.800000</td>\n",
       "      <td>3.000000</td>\n",
       "      <td>4.350000</td>\n",
       "      <td>1.300000</td>\n",
       "      <td>1.000000</td>\n",
       "    </tr>\n",
       "    <tr>\n",
       "      <th>75%</th>\n",
       "      <td>6.400000</td>\n",
       "      <td>3.300000</td>\n",
       "      <td>5.100000</td>\n",
       "      <td>1.800000</td>\n",
       "      <td>2.000000</td>\n",
       "    </tr>\n",
       "    <tr>\n",
       "      <th>max</th>\n",
       "      <td>7.900000</td>\n",
       "      <td>4.400000</td>\n",
       "      <td>6.900000</td>\n",
       "      <td>2.500000</td>\n",
       "      <td>2.000000</td>\n",
       "    </tr>\n",
       "  </tbody>\n",
       "</table>\n",
       "</div>"
      ],
      "text/plain": [
       "       sepal length (cm)  sepal width (cm)  petal length (cm)  \\\n",
       "count         150.000000        150.000000         150.000000   \n",
       "mean            5.843333          3.057333           3.758000   \n",
       "std             0.828066          0.435866           1.765298   \n",
       "min             4.300000          2.000000           1.000000   \n",
       "25%             5.100000          2.800000           1.600000   \n",
       "50%             5.800000          3.000000           4.350000   \n",
       "75%             6.400000          3.300000           5.100000   \n",
       "max             7.900000          4.400000           6.900000   \n",
       "\n",
       "       petal width (cm)      target  \n",
       "count        150.000000  150.000000  \n",
       "mean           1.199333    1.000000  \n",
       "std            0.762238    0.819232  \n",
       "min            0.100000    0.000000  \n",
       "25%            0.300000    0.000000  \n",
       "50%            1.300000    1.000000  \n",
       "75%            1.800000    2.000000  \n",
       "max            2.500000    2.000000  "
      ]
     },
     "execution_count": 48,
     "metadata": {},
     "output_type": "execute_result"
    }
   ],
   "source": [
    "#Análise apenas das colunas numéricas\n",
    "df.describe()"
   ]
  },
  {
   "cell_type": "code",
   "execution_count": 49,
   "id": "5cc9dd92-779d-46f4-ba45-891861a6b89b",
   "metadata": {},
   "outputs": [
    {
     "data": {
      "text/plain": [
       "1"
      ]
     },
     "execution_count": 49,
     "metadata": {},
     "output_type": "execute_result"
    }
   ],
   "source": [
    "# Total de valores duplicados no conjunto de dados\n",
    "df.duplicated().sum()"
   ]
  },
  {
   "cell_type": "code",
   "execution_count": 50,
   "id": "1c019298-6c45-4bee-84ab-8c833b64a653",
   "metadata": {},
   "outputs": [
    {
     "data": {
      "text/html": [
       "<div>\n",
       "<style scoped>\n",
       "    .dataframe tbody tr th:only-of-type {\n",
       "        vertical-align: middle;\n",
       "    }\n",
       "\n",
       "    .dataframe tbody tr th {\n",
       "        vertical-align: top;\n",
       "    }\n",
       "\n",
       "    .dataframe thead th {\n",
       "        text-align: right;\n",
       "    }\n",
       "</style>\n",
       "<table border=\"1\" class=\"dataframe\">\n",
       "  <thead>\n",
       "    <tr style=\"text-align: right;\">\n",
       "      <th></th>\n",
       "      <th>sepal length (cm)</th>\n",
       "      <th>sepal width (cm)</th>\n",
       "      <th>petal length (cm)</th>\n",
       "      <th>petal width (cm)</th>\n",
       "      <th>target</th>\n",
       "    </tr>\n",
       "  </thead>\n",
       "  <tbody>\n",
       "    <tr>\n",
       "      <th>142</th>\n",
       "      <td>5.8</td>\n",
       "      <td>2.7</td>\n",
       "      <td>5.1</td>\n",
       "      <td>1.9</td>\n",
       "      <td>2.0</td>\n",
       "    </tr>\n",
       "  </tbody>\n",
       "</table>\n",
       "</div>"
      ],
      "text/plain": [
       "     sepal length (cm)  sepal width (cm)  petal length (cm)  petal width (cm)  \\\n",
       "142                5.8               2.7                5.1               1.9   \n",
       "\n",
       "     target  \n",
       "142     2.0  "
      ]
     },
     "execution_count": 50,
     "metadata": {},
     "output_type": "execute_result"
    }
   ],
   "source": [
    "#Mostra as linhas duplicadas\n",
    "df[df.duplicated()]"
   ]
  },
  {
   "cell_type": "code",
   "execution_count": 51,
   "id": "f034e95b-e871-47ed-88b9-ba9c1d771fe1",
   "metadata": {},
   "outputs": [
    {
     "data": {
      "text/plain": [
       "0.0    50\n",
       "1.0    50\n",
       "2.0    50\n",
       "Name: target, dtype: int64"
      ]
     },
     "execution_count": 51,
     "metadata": {},
     "output_type": "execute_result"
    }
   ],
   "source": [
    "df['target'].value_counts()"
   ]
  },
  {
   "cell_type": "code",
   "execution_count": 52,
   "id": "5d9eeaf2-c8b8-40be-b8f4-50eb45af6b18",
   "metadata": {},
   "outputs": [
    {
     "data": {
      "text/plain": [
       "sepal length (cm)    0\n",
       "sepal width (cm)     0\n",
       "petal length (cm)    0\n",
       "petal width (cm)     0\n",
       "target               0\n",
       "dtype: int64"
      ]
     },
     "execution_count": 52,
     "metadata": {},
     "output_type": "execute_result"
    }
   ],
   "source": [
    "#Verificar se existem valores nulos\n",
    "df.isnull().sum(axis=0)"
   ]
  },
  {
   "cell_type": "code",
   "execution_count": 53,
   "id": "6424fe1a-56e1-4fe7-b81e-f5d07f85f910",
   "metadata": {},
   "outputs": [
    {
     "data": {
      "text/plain": [
       "sepal length (cm)    0.314911\n",
       "sepal width (cm)     0.318966\n",
       "petal length (cm)   -0.274884\n",
       "petal width (cm)    -0.102967\n",
       "target               0.000000\n",
       "dtype: float64"
      ]
     },
     "execution_count": 53,
     "metadata": {},
     "output_type": "execute_result"
    }
   ],
   "source": [
    "#Estimação da assimetria\n",
    "df.skew()"
   ]
  },
  {
   "cell_type": "code",
   "execution_count": 54,
   "id": "968aa581-7fec-4005-a0a4-adc450ae408d",
   "metadata": {},
   "outputs": [
    {
     "data": {
      "text/plain": [
       "sepal length (cm)   -0.552064\n",
       "sepal width (cm)     0.228249\n",
       "petal length (cm)   -1.402103\n",
       "petal width (cm)    -1.340604\n",
       "target              -1.510135\n",
       "dtype: float64"
      ]
     },
     "execution_count": 54,
     "metadata": {},
     "output_type": "execute_result"
    }
   ],
   "source": [
    "#Estimação da curtose\n",
    "df.kurt()"
   ]
  },
  {
   "cell_type": "code",
   "execution_count": 55,
   "id": "2e692e7f-9634-40fc-8254-5b07e6767f1e",
   "metadata": {},
   "outputs": [],
   "source": [
    "import matplotlib\n",
    "import matplotlib.pyplot as plt\n",
    "import seaborn as sns\n",
    "%matplotlib inline\n",
    "sns.set_style('darkgrid')\n",
    "matplotlib.rcParams['font.size'] = 13\n",
    "matplotlib.rcParams['figure.figsize'] = (8, 4)\n",
    "matplotlib.rcParams['figure.facecolor'] = '#00000000'"
   ]
  },
  {
   "cell_type": "code",
   "execution_count": 56,
   "id": "068b7c03-c6f1-433a-bf1c-51b76c760392",
   "metadata": {},
   "outputs": [
    {
     "data": {
      "image/png": "[encoded data removed]",
      "text/plain": [
       "<Figure size 576x288 with 1 Axes>"
      ]
     },
     "metadata": {
      "needs_background": "light"
     },
     "output_type": "display_data"
    }
   ],
   "source": [
    "plt.title('Quantidade de espécies')\n",
    "sns.countplot(data=df['target']);"
   ]
  },
  {
   "cell_type": "code",
   "execution_count": 57,
   "id": "4839033f-c937-41f4-a7cc-b0e6da75789c",
   "metadata": {},
   "outputs": [
    {
     "data": {
      "image/png": "[encoded data removed]",
      "text/plain": [
       "<Figure size 720x432 with 1 Axes>"
      ]
     },
     "metadata": {
      "needs_background": "light"
     },
     "output_type": "display_data"
    }
   ],
   "source": [
    "plt.figure(figsize=(10,6))\n",
    "plt.title('Comparição entre o comprimento e largura das sépalas das espécies')\n",
    "sns.scatterplot(x=df['sepal length (cm)'], y=df['sepal width (cm)'], hue = df['target'], s= 50);"
   ]
  },
  {
   "cell_type": "code",
   "execution_count": 58,
   "id": "0c470cac-1d17-40d5-a7ff-3e2ddd4d27d3",
   "metadata": {},
   "outputs": [
    {
     "data": {
      "image/png": "[encoded data removed]",
      "text/plain": [
       "<Figure size 931.425x864 with 20 Axes>"
      ]
     },
     "metadata": {
      "needs_background": "light"
     },
     "output_type": "display_data"
    }
   ],
   "source": [
    "sns.pairplot(df,hue=\"target\",height=3);"
   ]
  },
  {
   "cell_type": "code",
   "execution_count": 59,
   "id": "e54d1c2a-563f-4708-97e4-40764a5e59f2",
   "metadata": {},
   "outputs": [
    {
     "data": {
      "text/html": [
       "<div>\n",
       "<style scoped>\n",
       "    .dataframe tbody tr th:only-of-type {\n",
       "        vertical-align: middle;\n",
       "    }\n",
       "\n",
       "    .dataframe tbody tr th {\n",
       "        vertical-align: top;\n",
       "    }\n",
       "\n",
       "    .dataframe thead th {\n",
       "        text-align: right;\n",
       "    }\n",
       "</style>\n",
       "<table border=\"1\" class=\"dataframe\">\n",
       "  <thead>\n",
       "    <tr style=\"text-align: right;\">\n",
       "      <th></th>\n",
       "      <th>sepal length (cm)</th>\n",
       "      <th>sepal width (cm)</th>\n",
       "      <th>petal length (cm)</th>\n",
       "      <th>petal width (cm)</th>\n",
       "      <th>target</th>\n",
       "    </tr>\n",
       "  </thead>\n",
       "  <tbody>\n",
       "    <tr>\n",
       "      <th>sepal length (cm)</th>\n",
       "      <td>1.000000</td>\n",
       "      <td>-0.117570</td>\n",
       "      <td>0.871754</td>\n",
       "      <td>0.817941</td>\n",
       "      <td>0.782561</td>\n",
       "    </tr>\n",
       "    <tr>\n",
       "      <th>sepal width (cm)</th>\n",
       "      <td>-0.117570</td>\n",
       "      <td>1.000000</td>\n",
       "      <td>-0.428440</td>\n",
       "      <td>-0.366126</td>\n",
       "      <td>-0.426658</td>\n",
       "    </tr>\n",
       "    <tr>\n",
       "      <th>petal length (cm)</th>\n",
       "      <td>0.871754</td>\n",
       "      <td>-0.428440</td>\n",
       "      <td>1.000000</td>\n",
       "      <td>0.962865</td>\n",
       "      <td>0.949035</td>\n",
       "    </tr>\n",
       "    <tr>\n",
       "      <th>petal width (cm)</th>\n",
       "      <td>0.817941</td>\n",
       "      <td>-0.366126</td>\n",
       "      <td>0.962865</td>\n",
       "      <td>1.000000</td>\n",
       "      <td>0.956547</td>\n",
       "    </tr>\n",
       "    <tr>\n",
       "      <th>target</th>\n",
       "      <td>0.782561</td>\n",
       "      <td>-0.426658</td>\n",
       "      <td>0.949035</td>\n",
       "      <td>0.956547</td>\n",
       "      <td>1.000000</td>\n",
       "    </tr>\n",
       "  </tbody>\n",
       "</table>\n",
       "</div>"
      ],
      "text/plain": [
       "                   sepal length (cm)  sepal width (cm)  petal length (cm)  \\\n",
       "sepal length (cm)           1.000000         -0.117570           0.871754   \n",
       "sepal width (cm)           -0.117570          1.000000          -0.428440   \n",
       "petal length (cm)           0.871754         -0.428440           1.000000   \n",
       "petal width (cm)            0.817941         -0.366126           0.962865   \n",
       "target                      0.782561         -0.426658           0.949035   \n",
       "\n",
       "                   petal width (cm)    target  \n",
       "sepal length (cm)          0.817941  0.782561  \n",
       "sepal width (cm)          -0.366126 -0.426658  \n",
       "petal length (cm)          0.962865  0.949035  \n",
       "petal width (cm)           1.000000  0.956547  \n",
       "target                     0.956547  1.000000  "
      ]
     },
     "execution_count": 59,
     "metadata": {},
     "output_type": "execute_result"
    }
   ],
   "source": [
    "#Correlação entre variáveis\n",
    "df.corr()"
   ]
  },
  {
   "cell_type": "code",
   "execution_count": 60,
   "id": "9eb7b38f-2ea4-43f6-9f88-9a647d1946cc",
   "metadata": {},
   "outputs": [
    {
     "data": {
      "image/png": "[encoded data removed]",
      "text/plain": [
       "<Figure size 720x432 with 2 Axes>"
      ]
     },
     "metadata": {
      "needs_background": "light"
     },
     "output_type": "display_data"
    }
   ],
   "source": [
    "#Mapa de calor\n",
    "ig = plt.figure(figsize = (10,6))\n",
    "sns.heatmap(df.corr(), vmin=-1, vmax=1, annot=True);"
   ]
  },
  {
   "cell_type": "code",
   "execution_count": null,
   "id": "c6c71a97-dac2-4660-a46a-4def01c9ad14",
   "metadata": {},
   "outputs": [],
   "source": []
  }
 ],
 "metadata": {
  "kernelspec": {
   "display_name": "Python 3 (ipykernel)",
   "language": "python",
   "name": "python3"
  },
  "language_info": {
   "codemirror_mode": {
    "name": "ipython",
    "version": 3
   },
   "file_extension": ".py",
   "mimetype": "text/x-python",
   "name": "python",
   "nbconvert_exporter": "python",
   "pygments_lexer": "ipython3",
   "version": "3.9.7"
  }
 },
 "nbformat": 4,
 "nbformat_minor": 5
}
