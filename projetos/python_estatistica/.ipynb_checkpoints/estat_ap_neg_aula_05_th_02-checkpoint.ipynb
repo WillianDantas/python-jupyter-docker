{
  "nbformat": 4,
  "nbformat_minor": 0,
  "metadata": {
    "colab": {
      "provenance": []
    },
    "kernelspec": {
      "name": "python3",
      "display_name": "Python 3"
    },
    "language_info": {
      "name": "python"
    }
  },
  "cells": [
    {
      "cell_type": "markdown",
      "source": [
        "UNICARIOCA - PÓS GRADUAÇÃO EM CIÊNCIA DE DADOS\n",
        "\n",
        "ESTATÍSTICA APLICADA A NEGÓCIOS -TESTE DE HIPÓTESES COM P-VALOR\n",
        "\n",
        "Manuel Martins"
      ],
      "metadata": {
        "id": "TBuY3kh96WQN"
      }
    },
    {
      "cell_type": "code",
      "source": [
        "#==================================================================================\n",
        "# FUNÇÃO PARA TESTE DE HIPÓTESE COM P-VALOR (DRAFT)\n",
        "#==================================================================================\n",
        "# PARÂMETROS Xs = média amt / mu = média pop / n = tam amt # nc = nível confiânça \n",
        "# sigma = desvio padrão pop (-1=desconhecido) / s = dp amostra    \n",
        "#==================================================================================\n",
        "import scipy.stats\n",
        "import numpy as np\n",
        "import matplotlib.pyplot as plt\n",
        "from scipy.stats import norm\n",
        "from scipy.stats import t\n",
        "\n",
        "def thpv(Xs, mu, n, nc , ns, sigma , s, ts):\n",
        "    z,t,ztab,zcalc,ttab,tcalc,ue=[0,0,0,0,0,0,1]\n",
        "#   print(sigma) \n",
        "    if(sigma != -1): # SE VAR POP É CONHECIDA \n",
        "         z = (Xs-mu)/(sigma/np.sqrt(n))\n",
        "         p = scipy.stats.norm.sf(z) # RECEBE z DEVOLVE (p)\n",
        "         print(\"z: {:.3f}\".format(z))\n",
        "         print(\"p: {:.3f}\".format(p))                         \n",
        "    else: \n",
        "        if (n >= 30): \n",
        "          z = (Xs-mu)/(s/np.sqrt(n))  # SE VAR POP É DESCONHECIDA E n >= 30\n",
        "          p = scipy.stats.norm.sf(z)  # RECEBE z DEVOLVE (p)                  \n",
        "          print(\"z: {:.3f}\".format(z))\n",
        "          print(\"p: {:.3f}\".format(p))               \n",
        "        else:\n",
        "          if(Xs-mu < 0):\n",
        "            ue = -1 \n",
        "          t = ue*(Xs-mu)/(s/np.sqrt(n))\n",
        "          p = scipy.stats.t.sf(t, n-1)\n",
        "          print(\"t: {:.3f}\".format(t)) \n",
        "          print(\"p: {:.3f}\".format(p)) \n",
        "          ts = True   \n",
        "    \n",
        "    if (tth==0): \n",
        "        print(\"TESTE BILATERAL\") \n",
        "    else: \n",
        "        if(Xs-mu < 0):\n",
        "          ue = -1\n",
        "          z = ue*z\n",
        "          t = ue*t\n",
        "          print(\"TESTE UNILATERAL À ESQUERDA\")  \n",
        "        else: \n",
        "          print(\"TESTE UNILATERAL À DIREITA\")  \n",
        "    \n",
        "    if (tth==0):\n",
        "       if (2*p > ns):\n",
        "         print(\"ACEITA H0\")\n",
        "       else:\n",
        "          print(\"REJEITA H0\")\n",
        "    else:\n",
        "      if (p > ns):\n",
        "       print(\"ACEITA H0\")\n",
        "      else:\n",
        "       print(\"REJEITA H0\")\n",
        "    if (ts):\n",
        "       print(ts)\n",
        "       if (p > ns):\n",
        "         print(\"ACEITA H0\")\n",
        "       else:\n",
        "          print(\"REJEITA H0 3\")\n",
        "    print(\"NÍVEL DE SIGNIFICÂNCIA: {:.2f}\".format(ns))\n",
        "    \n",
        "    return(z,t,p) "
      ],
      "metadata": {
        "id": "Qz8J83OpJBgp"
      },
      "execution_count": null,
      "outputs": []
    },
    {
      "cell_type": "markdown",
      "source": [
        "### P-VALOR - EXEMPLOS DE UTILIZAÇÃO  "
      ],
      "metadata": {
        "id": "lFDIkr5SH0EJ"
      }
    },
    {
      "cell_type": "markdown",
      "source": [
        "EXEMPLO-01 - Uma cervejaria vende seu produto em embalagens cujos rótulos indicam um conteúdo de 600 ml. O Instituto Nacional de Pesos e Medidas (INPM) selecionou aleatoriamente 50 garrafas de cerveja produzidas pela companhia, mediu seu conteúdo e obtém uma média amostral igual a 596,25 ml com desvio padrão de 14,06 ml. Com um nível de significância de 1%, podemos  afirmar que a cervejaria esta enganando seus consumidores? "
      ],
      "metadata": {
        "id": "6kA2ghb9IfO4"
      }
    },
    {
      "cell_type": "code",
      "source": [
        "Xs = 596.25           # MÉDIA NA AMOSTRA\n",
        "mu = 600              # MÉDIA POPULAÇÃO\n",
        "n  = 50               # TAMANHO DA AMOSTRA\n",
        "ns = 0.01             # NÍVEL DE SIGNIFICÂNCIA  \n",
        "nc = 0.5 - ns         # NÍVEL DE CONFIANÇA\n",
        "sigma = -1            # DEVIO PADRÃO DA POPULAÇÃO\n",
        "s = 14.06             # DEVIO PADRÃO DA AMOSTRA\n",
        "tth = 0               # TIPO DO TESTE (0 - BILATERAL)\n",
        "ts = False\n",
        "print(ns,nc)\n",
        "\n",
        "\n",
        "thpv(Xs,mu,n,nc,ns,sigma,s,ts)\n"
      ],
      "metadata": {
        "id": "Gr3kYzQlInqc"
      },
      "execution_count": null,
      "outputs": []
    },
    {
      "cell_type": "markdown",
      "source": [
        "EXEMPLO-02 -. Um nutricionista faz propaganda na televisão afirmando: “você perderá peso em uma semana seguindo a minha dieta”.\n",
        "O PROCON faz um teste sobre esta afirmação selecionando **33 pessoas** que se submeteram à dieta do nutricionista. \n",
        "Após uma semana de dieta essas pessoas perderam, em média, **510 g** com um **desvio padrão de 984 g.**\n",
        "Com um **nível de significância de 5%**, o PROCON pode dizer que a afirmação do anuncio é enganosa? \n"
      ],
      "metadata": {
        "id": "oJxPOwnuSj4i"
      }
    },
    {
      "cell_type": "code",
      "source": [
        "Xs = 510              # MÉDIA NA AMOSTRA\n",
        "mu = 0                # MÉDIA POPULAÇÃO\n",
        "n  = 33               # TAMANHO DA AMOSTRA\n",
        "ns = 0.05             # NÍVEL DE SIGNIFICÂNCIA  \n",
        "nc = 0.5 - ns         # NÍVEL DE CONFIANÇA\n",
        "sigma = -1            # DEVIO PADRÃO DA POPULAÇÃO\n",
        "s = 984               # DEVIO PADRÃO DA AMOSTRA\n",
        "tth = 1               # TIPO DO TESTE (0 - BILATERAL)\n",
        "ts = False\n",
        "print(ns,nc)\n",
        "\n",
        "thpv(Xs,mu,n,nc,ns,sigma,s,ts)\n"
      ],
      "metadata": {
        "id": "91zZisNiTG0y"
      },
      "execution_count": null,
      "outputs": []
    },
    {
      "cell_type": "markdown",
      "source": [
        "EXEMPLO-03-  Pesquisadores coletaram valores de amilase no soro de **uma amostra aleatória de 15  pessoas** aparentemente  saudáveis.  Os pesquisadores  desejam saber, com um nível de significância de **α = 0,05** se é possível concluir que **o valor médio de amilase no soro da população de pessoas saudáveis** é diferente de **120 unidades/ml**. O valor médio para a amostra foi de **96 unidades/ml** e o seu **desvio padrão s foi de 35 unidades/ml**\n",
        "\n"
      ],
      "metadata": {
        "id": "RiVQWiZFZmNq"
      }
    },
    {
      "cell_type": "code",
      "source": [
        "Xs = 96               # MÉDIA NA AMOSTRA\n",
        "mu = 120              # MÉDIA POPULAÇÃO\n",
        "n  = 15               # TAMANHO DA AMOSTRA\n",
        "ns = 0.05             # NÍVEL DE SIGNIFICÂNCIA  \n",
        "nc = 0.5 - ns         # NÍVEL DE CONFIANÇA\n",
        "sigma = -1            # DEVIO PADRÃO DA POPULAÇÃO\n",
        "s = 35                # DEVIO PADRÃO DA AMOSTRA\n",
        "tth = 0               # TIPO DO TESTE (0 - BILATERAL)\n",
        "ts = False\n",
        "print(ns,nc)\n",
        "\n",
        "thpv(Xs,mu,n,nc,ns,sigma,s,ts)\n"
      ],
      "metadata": {
        "id": "euDnmMKpZ7QI"
      },
      "execution_count": null,
      "outputs": []
    },
    {
      "cell_type": "markdown",
      "source": [
        "EXEMPLO-04- Um fabricante afirma que uma lajota de um certo tipo de piso produzido por ele **suportar um peso superior a 1000 kg** sem trincar. \n",
        "Uma agência de controle de qualidade seleciona uma amostra de **7 lajotas** produzidas pela fábrica e determina que o peso médio suportado pela amostra sem trincar é de **1225 kg** com **desvio padrão de 425 kg**. Esse estudo experimental permite concluir, com um **nível de significância de 5%** que a afirmação do fabricante de pisos esta correta? \n"
      ],
      "metadata": {
        "id": "dgF1A1GHX1qm"
      }
    },
    {
      "cell_type": "code",
      "source": [
        "Xs = 1225             # MÉDIA NA AMOSTRA\n",
        "mu = 800              # MÉDIA POPULAÇÃO\n",
        "n  = 7                # TAMANHO DA AMOSTRA\n",
        "ns = 0.05             # NÍVEL DE SIGNIFICÂNCIA  \n",
        "nc = 0.5 - ns         # NÍVEL DE CONFIANÇA\n",
        "sigma = -1            # DEVIO PADRÃO DA POPULAÇÃO\n",
        "s = 425               # DEVIO PADRÃO DA AMOSTRA\n",
        "tth = 1               # TIPO DO TESTE (0 - BILATERAL)\n",
        "ts = False\n",
        "print(ns,nc)\n",
        "\n",
        "thpv(Xs,mu,n,nc,ns,sigma,s,ts)\n",
        "\n",
        "#------------------------------------\n",
        "#t = (Xs-mu)/(s/np.sqrt(n))\n",
        "#print(\"t:\",t)\n",
        "#n = 7\n",
        "#p = scipy.stats.t.cdf(t, n-1)\n",
        "#print(p)\n",
        "#p = scipy.stats.t.sf(t, n-1)\n",
        "#print(p)\n",
        "#print(1-p)\n",
        "#t=scipy.stats.t.ppf(p,n-1)\n",
        "#print(t)\n"
      ],
      "metadata": {
        "id": "gj43OKzG4qq5"
      },
      "execution_count": null,
      "outputs": []
    },
    {
      "cell_type": "markdown",
      "source": [
        "EXEMPLPO-5-  Em um estudo sobre condições de saúde de certa comunidade, entrevistou-se **150 pessoas**. Uma das perguntas dizia respeito à quantidade de remédios diferentes consumida por cada pessoa no último ano. Na amostra,**o número médio de remédios consumidos foi de 5,8 com desvio padrão de 3,1**. \n",
        "Esses dados fornecem evidências suficientes para indicar com **nível de significância de 5%** que a média do número de remédios diferentes consumidos pela comunidade **é maior do que 5**?\n"
      ],
      "metadata": {
        "id": "QA9dp14hdse7"
      }
    },
    {
      "cell_type": "code",
      "source": [
        "Xs = 5.8              # MÉDIA NA AMOSTRA\n",
        "mu = 5                # MÉDIA POPULAÇÃO\n",
        "n  = 150              # TAMANHO DA AMOSTRA\n",
        "ns = 0.05             # NÍVEL DE SIGNIFICÂNCIA  \n",
        "nc = 0.5 - ns         # NÍVEL DE CONFIANÇA\n",
        "sigma = -1            # DEVIO PADRÃO DA POPULAÇÃO\n",
        "s = 3.1               # DEVIO PADRÃO DA AMOSTRA\n",
        "tth = 1               # TIPO DO TESTE (0 - BILATERAL)\n",
        "ts = False\n",
        "\n",
        "\n",
        "thpv(Xs,mu,n,nc,ns,sigma,s,ts)\n",
        "\n"
      ],
      "metadata": {
        "id": "vYwqcezSePV0"
      },
      "execution_count": null,
      "outputs": []
    },
    {
      "cell_type": "markdown",
      "source": [
        "Exemplo-06- Uma companhia de ônibus planeja uma nova rota. Um estudo preliminar afirma que a duração da viagem pode ser considerada uma variável aleatória com distribuição normal com **média de 300 minutos e desvio padrão de 30 minutos**. As **10 primeiras viagens resultaram em uma média de 314 minutos**. Esse resultado comprova o estudo preliminar? "
      ],
      "metadata": {
        "id": "pgvdJJqHasm8"
      }
    },
    {
      "cell_type": "code",
      "source": [
        "Xs = 314              # MÉDIA NA AMOSTRA\n",
        "mu = 300              # MÉDIA POPULAÇÃO\n",
        "n  = 10               # TAMANHO DA AMOSTRA\n",
        "ns = 0.07             # NÍVEL DE SIGNIFICÂNCIA  \n",
        "nc = 0.5 - ns         # NÍVEL DE CONFIANÇA\n",
        "sigma = 30            # DEVIO PADRÃO DA POPULAÇÃO\n",
        "s = 1                 # DEVIO PADRÃO DA AMOSTRA\n",
        "tth = 1               # TIPO DO TESTE (0 - BILATERAL)\n",
        "ts = False\n",
        "\n",
        "thpv(Xs,mu,n,nc,ns,sigma,s,ts)"
      ],
      "metadata": {
        "id": "mpsPtBldb_hw"
      },
      "execution_count": null,
      "outputs": []
    }
  ]
}