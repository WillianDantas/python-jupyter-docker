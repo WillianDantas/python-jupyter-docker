{
  "nbformat": 4,
  "nbformat_minor": 0,
  "metadata": {
    "colab": {
      "provenance": []
    },
    "kernelspec": {
      "name": "python3",
      "display_name": "Python 3"
    },
    "language_info": {
      "name": "python"
    }
  },
  "cells": [
    {
      "cell_type": "markdown",
      "source": [
        "\n",
        "UNICARIOCA - PÓS GRADUAÇÃO EM CIÊNCIA DE DADOS\n",
        "\n",
        "ESTATÍSTICA APLICADA A NEGÓCIOS - AMOSTRAGEM - INTERVALO DE CONFIANÇA - AULA_03_IC_02\n",
        "\n",
        "Manuel Martins"
      ],
      "metadata": {
        "id": "w-4hsnKVmk47"
      }
    },
    {
      "cell_type": "markdown",
      "source": [
        "INTERVALO DE CONFIANÇA - CONCEITO - INTERPRETAÇÃO GRÁFICA"
      ],
      "metadata": {
        "id": "F9q7r1V3cmMz"
      }
    },
    {
      "cell_type": "code",
      "execution_count": 1,
      "metadata": {
        "colab": {
          "base_uri": "https://localhost:8080/",
          "height": 706
        },
        "id": "PUq7t22n4l7X",
        "outputId": "a71cfcdb-3d87-4636-f531-63655978f001"
      },
      "outputs": [
        {
          "output_type": "stream",
          "name": "stdout",
          "text": [
            "VALOR DE Z CALCULADO COM NORM.PDF: 1.9600\n"
          ]
        },
        {
          "output_type": "display_data",
          "data": {
            "text/plain": [
              "<Figure size 1008x720 with 1 Axes>"
            ],
            "image/png": "[encoded data removed]"
          },
          "metadata": {
            "needs_background": "light"
          }
        },
        {
          "output_type": "stream",
          "name": "stdout",
          "text": [
            "Nível de confiança: 0.95\n",
            "Número de intervalos (simulações) Ns: 100\n",
            "Número de intervalos que contém a média c: 97\n",
            "Fraçao de intervalos que contém a média: 0.97\n"
          ]
        }
      ],
      "source": [
        "import numpy as np\n",
        "import matplotlib.pyplot as plt\n",
        "import scipy.stats\n",
        "from scipy.stats import norm\n",
        "\n",
        "n = 50          # tamanho da amostra\n",
        "Ns = 100        # numero de intervalos (simulações) = número de amostras \n",
        "mu = 2          # media populacional\n",
        "sigma = 2       # desvio padrão populacional\n",
        "beta = 0.95     # nivel de confianca (95%)\n",
        "z = 1.96        # valor de z (a partir de beta)  # VALOR OBTIDO NA TABELA NORMAL\n",
        "c = 0           # conta o numero de intervalos que contem a media\n",
        "plt.figure(figsize=(14,10))\n",
        "z = abs(norm.ppf((1 - beta)/2)) # VALOR DO Z CALCULADO COM A FUNÇÃO NORM.PPF\n",
        "print(\"VALOR DE Z CALCULADO COM NORM.PDF: {:.4f}\".format(z))\n",
        "for s in range(0,Ns):\n",
        "    x = np.random.normal(mu, sigma, n) # sorteia uma amostra de tamanho n\n",
        "    IC1 = np.mean(x) - z*sigma/np.sqrt(n) #intervalo inferior\n",
        "    IC2 = np.mean(x) + z*sigma/np.sqrt(n) #intervalo superior\n",
        "    if(mu > IC1 and mu < IC2):\n",
        "        c =  c + 1\n",
        "        # mostra o intervalo em cinza se contiver a média\n",
        "        plt.vlines(s, ymin=IC1, ymax=IC2, color = 'gray')\n",
        "        plt.plot(s,np.mean(x), 'o', color = 'gray', \n",
        "                 markersize=5)\n",
        "    else:\n",
        "        # mostra os intervalos que não contém a media\n",
        "        plt.vlines(s, ymin=IC1, ymax=IC2, color = 'black', linestyles = 'dashed')\n",
        "        plt.plot(s,np.mean(x), 'o', color = 'black',\n",
        "                 markersize=5)\n",
        "\n",
        "plt.axhline(y = mu, color = 'black') # mostra a media populacional\n",
        "plt.xlabel('Amostra', fontsize=20)\n",
        "plt.show()\n",
        "print('Nível de confiança:', beta)\n",
        "print(\"Número de intervalos (simulações) Ns: {}\".format(Ns))\n",
        "print(\"Número de intervalos que contém a média c: {}\".format(c))\n",
        "print('Fraçao de intervalos que contém a média:', c/Ns)"
      ]
    },
    {
      "cell_type": "markdown",
      "source": [],
      "metadata": {
        "id": "OuGovLBH5Gkx"
      }
    }
  ]
}