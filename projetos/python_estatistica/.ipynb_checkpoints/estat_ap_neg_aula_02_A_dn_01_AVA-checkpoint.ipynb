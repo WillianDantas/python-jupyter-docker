{
 "cells": [
  {
   "cell_type": "markdown",
   "metadata": {
    "id": "UpcjGfp7BWUw"
   },
   "source": [
    "## UNICARIOCA - PÓS GRADUAÇÃO EM CIÊNCIA DE DADOS\n",
    "\n",
    "ESTATÍSTICA APLICADA A NEGÓCIOS - DISTRIBUIÇÃO NORMAL - aula_02_A \n",
    "\n",
    "Manuel Martins"
   ]
  },
  {
   "cell_type": "code",
   "execution_count": 1,
   "metadata": {
    "id": "uvMBLHNSBVFK"
   },
   "outputs": [],
   "source": [
    "#!pip install openpyxl --upgrade  # SE PRECISAR DE UPGRADE\n",
    "#!pip install pandas --upgrade    # SE PRECISAR DE UPGRADE\n",
    "import numpy as np\n",
    "import matplotlib.pyplot as plt\n",
    "from numpy.random import seed\n",
    "from numpy.random import normal\n"
   ]
  },
  {
   "cell_type": "markdown",
   "metadata": {
    "id": "ROQj3Ju46xi9"
   },
   "source": [
    "# DISTRIBUIÇÃO NORMAL"
   ]
  },
  {
   "cell_type": "code",
   "execution_count": 2,
   "metadata": {
    "colab": {
     "base_uri": "https://localhost:8080/",
     "height": 54
    },
    "id": "f8AxRqgKBf54",
    "outputId": "2b64ac00-0f13-4a91-9b65-7af4a5f1b8ec"
   },
   "outputs": [
    {
     "data": {
      "text/plain": [
       "<Figure size 1440x1440 with 0 Axes>"
      ]
     },
     "execution_count": 2,
     "metadata": {},
     "output_type": "execute_result"
    },
    {
     "data": {
      "text/plain": [
       "<Figure size 1440x1440 with 0 Axes>"
      ]
     },
     "metadata": {},
     "output_type": "display_data"
    }
   ],
   "source": [
    "#=============================================================\n",
    "#  DADOS PARA GERAÇÃO DE UMA AMOSTRA COM DISTRIBUIÇÃO NORMAL\n",
    "#=============================================================\n",
    "n = 100  # tamanho da amostra\n",
    "media = 5 # media populacional\n",
    "dp = 4    # desvio padrão populacional\n",
    "plt.figure(figsize=(20,20))"
   ]
  },
  {
   "cell_type": "code",
   "execution_count": 3,
   "metadata": {
    "colab": {
     "base_uri": "https://localhost:8080/"
    },
    "id": "rOHLZjxdCHQO",
    "outputId": "ec4f8a4e-2840-4adb-d21b-c4067df8a613"
   },
   "outputs": [
    {
     "name": "stdout",
     "output_type": "stream",
     "text": [
      "[10.89359823  4.27456623 10.00709306 10.12726376  8.01315019  5.76372642\n",
      "  1.23017799  6.98271213  6.97945077  7.39250318 11.62194648 -0.17348788\n",
      " 10.46596689 10.68727759  2.61061967  0.13244398  7.27884763  5.27970053\n",
      "  4.06877173  9.60718283  9.70797304  4.03609156  4.53798594 13.58069354\n",
      "  8.15251967 11.57909938  6.38131985 -1.99260677  9.28996118  3.67658932\n",
      "  3.65833592  1.59818156  0.72216122  2.84792193  2.25792368  9.70031874\n",
      " -0.42467743  8.70744886  6.16115306  2.80619416 -0.57910595 14.73768603\n",
      "  3.31976063  3.09496008 10.56739968 -0.0458145   5.29396139  1.95148285\n",
      " 10.18770754  2.19085633  5.57109097  5.26840131 -0.49719533  5.66145522\n",
      "  3.20719676  6.91297684  1.15857791 10.5724883   6.61566871  9.46205087\n",
      "  3.17437682  1.83692228  0.50750838  5.35984486 12.12319701 10.0465206\n",
      "  7.97936647  7.39715384  5.06297595  8.03372034  1.89949216 -1.4528713\n",
      "  1.16152272 -1.30295036  6.68807311  1.34088753  8.1908681   1.39707783\n",
      "  9.91469695  4.66387112  0.23213484 -1.7194641   6.81749667 11.52932567\n",
      "  7.44173403  5.29886665  6.49907475  5.07847861  6.01425614  6.37720683\n",
      "  5.2550021  13.24053439  2.87151168  9.15991258  8.83531652 12.38714304\n",
      " -1.02125658  6.99714568  9.60987784  3.89880926]\n",
      "5.637050664380803 5.637050664380803\n",
      "3.998335347551436 3.998335347551436\n"
     ]
    }
   ],
   "source": [
    "#=================================================================================================================\n",
    "x = np.random.normal(media, dp, n)          # GERA UMA AMOSTRA COM UMA DISTRIBUIÇÃO NORMAL (media,dp,n) \n",
    "#=================================================================================================================\n",
    "x.mean()\n",
    "print(x)\n",
    "\n",
    "dados=x                       # CÓPIA DE X PARA DADOS\n",
    "print(x.mean(),dados.mean())  # MÉDIA X = MÉDIA DADOS \n",
    "print(x.std(),dados.std())    # DP X = DP DADOS\n",
    "\n"
   ]
  },
  {
   "cell_type": "code",
   "execution_count": 4,
   "metadata": {
    "id": "LMMA-geHCaCE"
   },
   "outputs": [
    {
     "name": "stdout",
     "output_type": "stream",
     "text": [
      "dados: [11.49738145  2.55297435  2.88731299  0.70812551  8.46163052 -4.20615479\n",
      " 11.97924706  1.9551724   6.27615638  4.0025185  10.84843175 -3.24056284\n",
      "  3.71033118  3.46378258  9.53507777  0.60043493  4.31028717  1.48856633\n",
      "  5.16885499  7.33126085  0.59752329  9.57889484  8.60636288  7.00997736\n",
      "  8.6034238   2.26508856  4.5084391   1.25692226  3.92844768  7.12142187\n",
      "  2.23335699  3.41298589  2.2513092   1.61917743  2.31501548  4.9493416\n",
      "  0.53075861  5.93766279 11.63920871  7.96817664  4.23265779  1.44948414\n",
      "  2.01136682 11.7698184   5.20323102  2.45201741  5.76366194 13.40102055\n",
      "  5.48063581  7.46881244  6.20068128  3.59100061  0.42992721  3.60262911\n",
      "  4.16442307  7.34649276  8.35593366  8.72440833  6.1423493   8.54056466\n",
      "  1.98240824 10.01147262  7.05171928  3.80762866  6.95407259  4.69771315\n",
      "  9.52651755 11.07926727 13.74230163 -0.58598534 -0.77645522  2.98213655\n",
      "  5.64014828  8.50467568  6.26253979 -3.08880486  3.77518395  8.31189857\n",
      "  5.92037894  8.04804472  4.11068743  4.19696772  5.74624556  6.64020659\n",
      "  5.79319888  5.47603458  2.31735085  6.51025515  5.48728508  9.51793563\n",
      "  9.79567152  5.74062567  3.4988602   2.44507837  6.69397742  5.30936027\n",
      "  3.6245853   5.17438743  2.51999662  7.79212814]\n"
     ]
    },
    {
     "data": {
      "text/plain": [
       "3.5406248553263397"
      ]
     },
     "execution_count": 4,
     "metadata": {},
     "output_type": "execute_result"
    }
   ],
   "source": [
    "seed(1)     # ALTERNATIVA PARA GERAR UMA AMOSTRA FORNECENDO A SEMENTE-ENTRE 0 e 2^32 - 1 #\n",
    "n = 100     # tamanho da amostra\n",
    "media = 5   # media populacional\n",
    "dp = 4      # desvio padrão populacional\n",
    "dados = normal(loc=media, scale=dp, size=n) # GERA UMA DISTRIBUIÇÀO NORMAL (media,dp,tamanho n)\n",
    "print(\"dados: {}\".format(dados))\n",
    "dados.mean()\n",
    "dados.std()"
   ]
  },
  {
   "cell_type": "code",
   "execution_count": 5,
   "metadata": {
    "id": "COAqysriIIbz"
   },
   "outputs": [],
   "source": [
    "from scipy import stats\n",
    "import math"
   ]
  },
  {
   "cell_type": "markdown",
   "metadata": {
    "id": "RaLhKwn5tyhL"
   },
   "source": [
    "CÁLCULO DAS ESTATÍSTICAS DA AMOSTRA"
   ]
  },
  {
   "cell_type": "code",
   "execution_count": 6,
   "metadata": {
    "id": "qu9h5_3MFZYz"
   },
   "outputs": [],
   "source": [
    "media = dados.mean()\n",
    "dp=dados.std()\n",
    "var=dados.var()\n",
    "minimo = dados.min()\n",
    "maximo = dados.max()\n",
    "mediana = np.median(dados)   \n",
    "moda = stats.mode(dados)\n"
   ]
  },
  {
   "cell_type": "markdown",
   "metadata": {
    "id": "aS2yYQReQ0dp"
   },
   "source": [
    "IMPRESSÃO ESTATÍSTICAS DA AMOSTRA"
   ]
  },
  {
   "cell_type": "code",
   "execution_count": 7,
   "metadata": {
    "colab": {
     "base_uri": "https://localhost:8080/"
    },
    "id": "UC20TyxeQus7",
    "outputId": "d72e1ec2-7a6b-42a0-d840-52ee4b96a30c"
   },
   "outputs": [
    {
     "name": "stdout",
     "output_type": "stream",
     "text": [
      "media:5.2423\n",
      "desvio padrão:3.5406\n",
      "variância:12.5360\n",
      "mínimo:-4.2062\n",
      "máximo:13.7423\n",
      "mediana:5.2563\n",
      "moda:[-4.20615479]; quantidade:[1]\n"
     ]
    }
   ],
   "source": [
    "print(\"media:{:.4f}\".format(media))\n",
    "print(\"desvio padrão:{:.4f}\".format(dp))\n",
    "print(\"variância:{:.4f}\".format(var))\n",
    "print(\"mínimo:{:.4f}\".format(minimo))\n",
    "print(\"máximo:{:.4f}\".format(maximo))\n",
    "print(\"mediana:{:.4f}\".format(mediana))\n",
    "print(\"moda:{}; quantidade:{}\".format(moda.mode,moda.count))"
   ]
  },
  {
   "cell_type": "markdown",
   "metadata": {
    "id": "7yKmODheRO8y"
   },
   "source": [
    "VALORES DE X PARA O GRÁFICO "
   ]
  },
  {
   "cell_type": "code",
   "execution_count": 8,
   "metadata": {
    "id": "JYn0SJXcMDae"
   },
   "outputs": [
    {
     "name": "stdout",
     "output_type": "stream",
     "text": [
      "[-5.37954316e+00 -5.16495983e+00 -4.95037651e+00 -4.73579318e+00\n",
      " -4.52120986e+00 -4.30662653e+00 -4.09204321e+00 -3.87745989e+00\n",
      " -3.66287656e+00 -3.44829324e+00 -3.23370991e+00 -3.01912659e+00\n",
      " -2.80454326e+00 -2.58995994e+00 -2.37537661e+00 -2.16079329e+00\n",
      " -1.94620996e+00 -1.73162664e+00 -1.51704332e+00 -1.30245999e+00\n",
      " -1.08787667e+00 -8.73293342e-01 -6.58710017e-01 -4.44126693e-01\n",
      " -2.29543368e-01 -1.49600435e-02  1.99623281e-01  4.14206606e-01\n",
      "  6.28789930e-01  8.43373255e-01  1.05795658e+00  1.27253990e+00\n",
      "  1.48712323e+00  1.70170655e+00  1.91628988e+00  2.13087320e+00\n",
      "  2.34545653e+00  2.56003985e+00  2.77462318e+00  2.98920650e+00\n",
      "  3.20378982e+00  3.41837315e+00  3.63295647e+00  3.84753980e+00\n",
      "  4.06212312e+00  4.27670645e+00  4.49128977e+00  4.70587310e+00\n",
      "  4.92045642e+00  5.13503975e+00  5.34962307e+00  5.56420640e+00\n",
      "  5.77878972e+00  5.99337304e+00  6.20795637e+00  6.42253969e+00\n",
      "  6.63712302e+00  6.85170634e+00  7.06628967e+00  7.28087299e+00\n",
      "  7.49545632e+00  7.71003964e+00  7.92462297e+00  8.13920629e+00\n",
      "  8.35378961e+00  8.56837294e+00  8.78295626e+00  8.99753959e+00\n",
      "  9.21212291e+00  9.42670624e+00  9.64128956e+00  9.85587289e+00\n",
      "  1.00704562e+01  1.02850395e+01  1.04996229e+01  1.07142062e+01\n",
      "  1.09287895e+01  1.11433728e+01  1.13579562e+01  1.15725395e+01\n",
      "  1.17871228e+01  1.20017061e+01  1.22162895e+01  1.24308728e+01\n",
      "  1.26454561e+01  1.28600394e+01  1.30746228e+01  1.32892061e+01\n",
      "  1.35037894e+01  1.37183727e+01  1.39329561e+01  1.41475394e+01\n",
      "  1.43621227e+01  1.45767060e+01  1.47912894e+01  1.50058727e+01\n",
      "  1.52204560e+01  1.54350393e+01  1.56496226e+01  1.58642060e+01]\n",
      "[0.00125171 0.00149855 0.00178747 0.00212429 0.00251532 0.00296741\n",
      " 0.00348792 0.00408471 0.00476606 0.00554068 0.00641758 0.00740601\n",
      " 0.00851534 0.00975494 0.01113401 0.01266146 0.01434567 0.01619432\n",
      " 0.01821416 0.02041083 0.02278855 0.02534998 0.02809593 0.03102515\n",
      " 0.03413416 0.03741703 0.04086526 0.04446763 0.04821015 0.05207602\n",
      " 0.05604564 0.06009672 0.06420435 0.06834125 0.072478   0.07658333\n",
      " 0.08062452 0.08456775 0.08837863 0.0920226  0.09546552 0.09867415\n",
      " 0.10161668 0.1042633  0.10658662 0.10856222 0.11016903 0.11138973\n",
      " 0.11221103 0.11262395 0.11262395 0.11221103 0.11138973 0.11016903\n",
      " 0.10856222 0.10658662 0.1042633  0.10161668 0.09867415 0.09546552\n",
      " 0.0920226  0.08837863 0.08456775 0.08062452 0.07658333 0.072478\n",
      " 0.06834125 0.06420435 0.06009672 0.05604564 0.05207602 0.04821015\n",
      " 0.04446763 0.04086526 0.03741703 0.03413416 0.03102515 0.02809593\n",
      " 0.02534998 0.02278855 0.02041083 0.01821416 0.01619432 0.01434567\n",
      " 0.01266146 0.01113401 0.00975494 0.00851534 0.00740601 0.00641758\n",
      " 0.00554068 0.00476606 0.00408471 0.00348792 0.00296741 0.00251532\n",
      " 0.00212429 0.00178747 0.00149855 0.00125171]\n"
     ]
    },
    {
     "data": {
      "text/plain": [
       "[<matplotlib.lines.Line2D at 0x7f44985f7580>]"
      ]
     },
     "execution_count": 8,
     "metadata": {},
     "output_type": "execute_result"
    },
    {
     "data": {
      "image/png": "[encoded data removed]",
      "text/plain": [
       "<Figure size 432x288 with 1 Axes>"
      ]
     },
     "metadata": {
      "needs_background": "light"
     },
     "output_type": "display_data"
    }
   ],
   "source": [
    "x = np.linspace(media - 3*dp, media + 3*dp, 100)   # CRIA 100 VALORES PARA X NO INTERVALO [media-3*dp,media+3*dp]\n",
    "print(x)                                          # ESPERIMENTE UZAR X = 5 , 10, 50 100, 1000... OBSERVE O GRÁFICO!\n",
    "min(x)\n",
    "max(x)\n",
    "x.mean()\n",
    "vetx=stats.norm.pdf(x,media,dp)                   # VALORES DA FUNÇÃO DISTRIBUIÇÀO PARA OS VALORES DE X \n",
    "print(vetx)\n",
    "plt.plot((x))                                     # OBSERVE O GRÁFICO DDOS VALORES DE X (CRIADOS PELO LINESPACE\n",
    "plt.plot((vetx))                                  # GRÁFICO DE VETX   \n",
    "\n"
   ]
  },
  {
   "cell_type": "markdown",
   "metadata": {
    "id": "D94PuhqzRoFx"
   },
   "source": [
    "FONTES "
   ]
  },
  {
   "cell_type": "code",
   "execution_count": 9,
   "metadata": {
    "id": "h_kJ-BBe-wjx"
   },
   "outputs": [],
   "source": [
    "font1 = {'family':'serif','color':'blue','size':12}\n",
    "font2 = {'family':'serif','color':'darkred','size':15}"
   ]
  },
  {
   "cell_type": "markdown",
   "metadata": {
    "id": "FIutYhsbRrPo"
   },
   "source": [
    "IMPRESSÃO DOS GRÁFICOS"
   ]
  },
  {
   "cell_type": "code",
   "execution_count": 10,
   "metadata": {
    "colab": {
     "base_uri": "https://localhost:8080/",
     "height": 283
    },
    "id": "v1aekXmV2kqh",
    "outputId": "ecb3aa6e-cac3-459a-f2bf-9176b7721a50"
   },
   "outputs": [
    {
     "data": {
      "text/plain": [
       "[<matplotlib.lines.Line2D at 0x7f44904e48b0>]"
      ]
     },
     "execution_count": 10,
     "metadata": {},
     "output_type": "execute_result"
    },
    {
     "data": {
      "image/png": "[encoded data removed]",
      "text/plain": [
       "<Figure size 432x288 with 1 Axes>"
      ]
     },
     "metadata": {
      "needs_background": "light"
     },
     "output_type": "display_data"
    }
   ],
   "source": [
    "plt.xlabel(\"Valores de x\", fontdict = font1)      # EIXO X \n",
    "plt.ylabel(\"Probbilidade\", fontdict = font1)      # EIXO Y\n",
    "plt.plot(vetx)                                    # PLOTA OS VALORES DE VETX  \n",
    "plt.plot(x, stats.norm.pdf(x,media,dp))           # PLOTA OS VALORES DE VETX NO INTERVALO GERADO\n"
   ]
  },
  {
   "cell_type": "markdown",
   "metadata": {
    "id": "qgyIBSTaTBeC"
   },
   "source": [
    "plot(x, y)        # plot x and y using default line style and color\n",
    "\n",
    "plot(x, y, 'bo')  # plot x and y using blue circle markers\n",
    "\n",
    "plot(y)           # plot y using x as index array 0..N-1\n",
    "\n",
    "plot(y, 'r+')     # ditto, but with red plusses\n",
    "\n",
    "[MATPLOTLIB_MANUAL](https://matplotlib.org/stable/api/_as_gen/matplotlib.pyplot.plot.html)"
   ]
  },
  {
   "cell_type": "markdown",
   "metadata": {
    "id": "BnGjXNwY4AEb"
   },
   "source": [
    "TESTE DE NORMALIDADE\n",
    "https://andersonmdcanteli.github.io/Shapiro-Wilk/ "
   ]
  },
  {
   "cell_type": "markdown",
   "metadata": {
    "id": "g05Z400Gr65r"
   },
   "source": [
    "CÁLCULO DA VARIÁVEL TRANSFORMADA    z = (x-médiax)dpx"
   ]
  },
  {
   "cell_type": "code",
   "execution_count": 11,
   "metadata": {
    "id": "Cn26Sh8rsCSk"
   },
   "outputs": [
    {
     "name": "stdout",
     "output_type": "stream",
     "text": [
      "[ 1.76665145 -0.75957131 -0.66514203 -1.28062308  0.90924603 -2.66859286\n",
      "  1.90274766 -0.92841212  0.29198941 -0.35016783  1.58336468 -2.39587491\n",
      " -0.43269205 -0.50232626  1.21242621 -1.31103878 -0.26324287 -1.06019848\n",
      " -0.02075239  0.58998892 -1.31186113  1.22480173  0.95012367  0.49924689\n",
      "  0.94929356 -0.84088063 -0.20727762 -1.12562311 -0.37108809  0.53072283\n",
      " -0.84984276 -0.51667307 -0.84477241 -1.0233092  -0.82677947 -0.08275087\n",
      " -1.33071788  0.19638663  1.80670858  0.76987688 -0.2851682  -1.07123669\n",
      " -0.91254078  1.84359746 -0.01104336 -0.78808519  0.14724252  2.30430771\n",
      "  0.06730575  0.62883845  0.27067253 -0.4663953  -1.3591963  -0.46311099\n",
      " -0.30444014  0.59429096  0.87939343  0.98346395  0.25419747  0.93153988\n",
      " -0.92071973  1.34697727  0.51103631 -0.40521174  0.48345737 -0.15381982\n",
      "  1.21000849  1.64856094  2.40069778 -1.6461266  -1.69992215 -0.63836045\n",
      "  0.11235781  0.92140354  0.2881436  -2.35301299 -0.41437529  0.86695634\n",
      "  0.19150505  0.79243451 -0.31961702 -0.29524836  0.14232351  0.39481031\n",
      "  0.15558482  0.0660062  -0.82611987  0.35810734  0.06918374  1.20758465\n",
      "  1.28602727  0.14073625 -0.49241907 -0.79004502  0.40999712  0.01893137\n",
      " -0.45690978 -0.01918983 -0.76888541  0.72015445]\n"
     ]
    }
   ],
   "source": [
    "# ------------------------------------------------------------------------------------------\n",
    "# CÁLCULO DA VARIÁVEL TRANSFORMADA Z = (X - MEDIAX) / DPX - NORMAL PADRÃO MÉDIA=0 VAR/DP=1\n",
    "# ------------------------------------------------------------------------------------------\n",
    "z=(dados-media)/dp   # NO NOSSO EXEMPLO X = DADOS\n",
    "print(z)\n",
    "mediaz=z.mean()\n",
    "varz=z.var()\n"
   ]
  },
  {
   "cell_type": "code",
   "execution_count": 12,
   "metadata": {
    "colab": {
     "base_uri": "https://localhost:8080/",
     "height": 338
    },
    "id": "ssQnXOAdXiOT",
    "outputId": "f6eceffe-fc5e-482b-a398-038d545abb69"
   },
   "outputs": [
    {
     "name": "stdout",
     "output_type": "stream",
     "text": [
      "mediaz: 0.0000\n",
      "varz: 1.0000\n",
      "dpz: 1.0000\n"
     ]
    },
    {
     "data": {
      "text/plain": [
       "[<matplotlib.lines.Line2D at 0x7f449045a670>]"
      ]
     },
     "execution_count": 12,
     "metadata": {},
     "output_type": "execute_result"
    },
    {
     "data": {
      "image/png": "[encoded data removed]",
      "text/plain": [
       "<Figure size 432x288 with 1 Axes>"
      ]
     },
     "metadata": {
      "needs_background": "light"
     },
     "output_type": "display_data"
    }
   ],
   "source": [
    "# ESTATÍSTICAS DE Z (NORMAL PADRÃO) - IMPRESSÃO - GRÁFICO\n",
    "print(\"mediaz: {:.4f}\".format(mediaz))\n",
    "print(\"varz: {:.4f}\".format(varz))\n",
    "dpz = math.sqrt(varz)\n",
    "print(\"dpz: {:.4f}\".format(dpz))\n",
    "plt.plot(z,)"
   ]
  },
  {
   "cell_type": "markdown",
   "metadata": {
    "id": "9BQfUvINYGmE"
   },
   "source": [
    "GRÁFICO DE Z - FUNÇÃO DENSIDADE"
   ]
  },
  {
   "cell_type": "code",
   "execution_count": 13,
   "metadata": {
    "colab": {
     "base_uri": "https://localhost:8080/",
     "height": 283
    },
    "id": "cmsf17kdsL29",
    "outputId": "bb06561f-ec30-4633-91ae-877dbb9af7a6"
   },
   "outputs": [
    {
     "data": {
      "image/png": "[encoded data removed]",
      "text/plain": [
       "<Figure size 432x288 with 1 Axes>"
      ]
     },
     "metadata": {
      "needs_background": "light"
     },
     "output_type": "display_data"
    }
   ],
   "source": [
    "z = np.linspace(mediaz - 3*dpz, mediaz + 3*dpz, 100)\n",
    "plt.xlabel(\"Valores de z\", fontdict = font1)\n",
    "plt.ylabel(\"Probbilidade\", fontdict = font1)\n",
    "plt.title('Normal Padrão')            \n",
    "plt.plot(z, stats.norm.pdf(z,mediaz,dpz))\n",
    "plt.show()"
   ]
  },
  {
   "cell_type": "markdown",
   "metadata": {
    "id": "Mw6gEwesM8O3"
   },
   "source": [
    "ALGUMAS ROTINAS GRÁFICAS E MANUAIS\n"
   ]
  },
  {
   "cell_type": "code",
   "execution_count": 14,
   "metadata": {
    "id": "fpleN2G_DRy4"
   },
   "outputs": [],
   "source": [
    "# ROTINAS GRÁFICAS\n",
    "import matplotlib.pyplot as plt"
   ]
  },
  {
   "cell_type": "markdown",
   "metadata": {
    "id": "nt7yjUy0MDsB"
   },
   "source": [
    "[NUMPY.LINSPACE_MANUAL]( https://numpy.org/doc/stable/reference/generated/numpy.linspace.html)"
   ]
  },
  {
   "cell_type": "markdown",
   "metadata": {
    "id": "H4oO89GSPQWX"
   },
   "source": [
    "[NUMPY.ZEROS_MANUAL](https://numpy.org/doc/stable/reference/generated/numpy.zeros.html)"
   ]
  },
  {
   "cell_type": "markdown",
   "metadata": {
    "id": "XtP_bYbmYOsE"
   },
   "source": [
    "[MATPLOTLIB_INFINITE_LINES](https://matplotlib.org/stable/gallery/pyplots/axline.html#sphx-glr-gallery-pyplots-axline-py)"
   ]
  },
  {
   "cell_type": "markdown",
   "metadata": {
    "id": "_7m5PxMk1b02"
   },
   "source": [
    "### FUNÇÕES PARA CÁLCULO DE PROBABILIDADE E QUANTIS"
   ]
  },
  {
   "cell_type": "code",
   "execution_count": 15,
   "metadata": {
    "id": "MfXVlvn3icKt"
   },
   "outputs": [],
   "source": [
    "#---------------------------------------------------------\n",
    "# FUNÇÕES PARA CÁLCULO DE PROBABILIDADE E QUANTIS\n",
    "#---------------------------------------------------------\n",
    "from scipy.stats import norm\n",
    "#print(norm.cdf(norm.ppf(0.25))) \n",
    "#print(norm.ppf(norm.cdf(0.25)))\n"
   ]
  },
  {
   "cell_type": "code",
   "execution_count": 16,
   "metadata": {
    "colab": {
     "base_uri": "https://localhost:8080/"
    },
    "id": "9dOeaWVzkbXc",
    "outputId": "44c5c918-ec90-4cbf-c3f9-457e7245e507"
   },
   "outputs": [
    {
     "data": {
      "text/plain": [
       "0.12566134685507416"
      ]
     },
     "execution_count": 16,
     "metadata": {},
     "output_type": "execute_result"
    }
   ],
   "source": [
    "norm.cdf(1)           # RECEBE QUANTIL DEVOLVE PROBABILIDADE ATÉ O QUANTIL\n",
    "norm.cdf(1,0,1)       # (quantil,média,dp)\n",
    "\n",
    "norm.ppf(0.84)        # RECEBE PROBABILIDADE DEVOLVE QUANTIL\n",
    "norm.ppf(0.55,0,1)    # (probabilidade,média,dp)\n"
   ]
  },
  {
   "cell_type": "code",
   "execution_count": 17,
   "metadata": {
    "id": "rZbLN7uqF_5z"
   },
   "outputs": [
    {
     "data": {
      "text/plain": [
       "0.24999999999999997"
      ]
     },
     "execution_count": 17,
     "metadata": {},
     "output_type": "execute_result"
    }
   ],
   "source": [
    "norm.sf(1)            # RECEBE QUANTIL DEVOLVE PROBABILIDADE  SF = 1 - CDF \n",
    "norm.sf(0,0,1)        # (quantil,média,dp)\n",
    "\n",
    "norm.sf(0)            # DEVOLVE PROBABILIDADE ACIMA DE X\n",
    "1-norm.cdf(0)           # DEVOLVE PROBABILIDADE ATÉ X\n",
    "norm.cdf(-1)\n",
    "1-norm.cdf(1)\n",
    "\n",
    "norm.cdf(1)-norm.cdf(-1)  # 68% das Observações estão entre (média + 1DP) e (média - 1DP)  \n",
    "#d = norm.sf(1)\n",
    "#print(d)\n",
    "#print(\"q1:{:.1f}\".format(norm.ppf(d)))  # RECEBE PROBABILIDADE DEVOLVE QUANTIL\n",
    "\n",
    "norm.ppf(norm.cdf(0.25))         # RECEBE PROBABILIDADE DEVOLVE QUANTIL\n"
   ]
  },
  {
   "cell_type": "code",
   "execution_count": 18,
   "metadata": {
    "id": "MmyDsTbn1p1M"
   },
   "outputs": [
    {
     "data": {
      "text/plain": [
       "1.0"
      ]
     },
     "execution_count": 18,
     "metadata": {},
     "output_type": "execute_result"
    }
   ],
   "source": [
    "norm.sf(1)            # DEVOLVE PROBABILIDADE ACIMA DE X\n",
    "norm.cdf(1)           # DEVOLVE PROBABILIDADE ATÉ X\n",
    "\n",
    "norm.sf(1)+norm.cdf(1)\n"
   ]
  },
  {
   "cell_type": "markdown",
   "metadata": {
    "id": "oL-pNYJr1n81"
   },
   "source": [
    "EXERCÍCIOS DO MATERIAL TEÓRICO RESOLVIDOS EM PYTHON \n",
    "*  **EST_APLIC_NEG_AULA_02_A.pdf**\n",
    "\n"
   ]
  },
  {
   "cell_type": "code",
   "execution_count": 19,
   "metadata": {
    "id": "AiU1qDrpfOL8"
   },
   "outputs": [],
   "source": [
    "#---------------------------------------------------------\n",
    "# FUNÇÕES PARA CÁLCULO DE PROBABILIDADE E QUANTIS\n",
    "#---------------------------------------------------------\n",
    "from scipy.stats import norm"
   ]
  },
  {
   "cell_type": "markdown",
   "metadata": {
    "id": "qeleDywqJdi7"
   },
   "source": [
    "Exemplo-01: Seja X a variável aleatória que representa os diâmetros de parafusos produzidos por determinada máquina. Suponha que essa variável tenha distribuição normal com média =2,0 cm e desvio padrão = 0,04 cm.\n",
    "\n",
    "*   a) um parafuso produzido pela máquina ter um diâmetro maior que 2,0 cm.\n",
    "*   b) um parafuso produzido pela máquina ter um diâmetro maior do que 2,04 cm. \n",
    "*   c) um parafuso produzido pela máquina ter um diâmetro maior do que \n",
    "2,05 cm.\n",
    "\n",
    "\n",
    "\n"
   ]
  },
  {
   "cell_type": "code",
   "execution_count": 20,
   "metadata": {
    "colab": {
     "base_uri": "https://localhost:8080/"
    },
    "id": "R3MRQNaV1sZK",
    "outputId": "423fe78d-443d-4f32-9808-9756162515c4"
   },
   "outputs": [
    {
     "name": "stdout",
     "output_type": "stream",
     "text": [
      "p: 0.5000\n",
      "p: 0.5000\n"
     ]
    }
   ],
   "source": [
    "#----------------------------------------------\n",
    "# EXEMPLO-01 \n",
    "#----------------------------------------------\n",
    "mu=2.0            # MÉDIA\n",
    "dp=0.04           # DESVIO PADRÃO \n",
    "x=2.0             # PONTO DE CORTE (QUANTIL)\n",
    "\n",
    "#-----------------------\n",
    "# SOLUCÃO DA LETRA a) \n",
    "#-----------------------\n",
    "norm.cdf(x,mu,dp) # USANDO NORM.CDF (precisa subtriar de 1 porque é probabilidade acumulada até x)\n",
    "p=1-norm.cdf(x,mu,dp)\n",
    "print(\"p: {:.4F}\".format(p))\n",
    "\n",
    "print(\"p: {:.4F}\".format(norm.sf(x,mu,dp)))              # USANDO NORM.SF (Já calcula o resultado direto - acima de x)"
   ]
  },
  {
   "cell_type": "code",
   "execution_count": 21,
   "metadata": {
    "colab": {
     "base_uri": "https://localhost:8080/"
    },
    "id": "RYE3JcTgqc_Z",
    "outputId": "7d3c716f-2863-4d2b-f49b-b2f4d3a02478"
   },
   "outputs": [
    {
     "name": "stdout",
     "output_type": "stream",
     "text": [
      "p: 0.1587\n",
      "p: 0.1587\n"
     ]
    }
   ],
   "source": [
    "#-----------------------\n",
    "# SOLUCÃO DA LETRA b) \n",
    "#-----------------------\n",
    "mu=2.0            # MÉDIA\n",
    "dp=0.04           # DESVIO PADRÃO \n",
    "x=2.04            # PONTO DE CORTE (QUANTIL)\n",
    "\n",
    "# SOLUÁCÃO DA LETRA a) AS DEMAIS b) e c) SÃO IGUAIS\n",
    "norm.cdf(x,mu,dp) # USANDO NORM.CDF (precisa subtriar de 1 porque é probabilidade acumulada até x)\n",
    "p=1-norm.cdf(x,mu,dp)\n",
    "print(\"p: {:.4F}\".format(p))\n",
    "\n",
    "print(\"p: {:.4F}\".format(norm.sf(x,mu,dp)))              # USANDO NORM.SF (Já calcula o resultado direto - acima de x)"
   ]
  },
  {
   "cell_type": "code",
   "execution_count": 22,
   "metadata": {
    "colab": {
     "base_uri": "https://localhost:8080/"
    },
    "id": "6sYCnaMgrJ2f",
    "outputId": "a964d293-5bd9-42a8-ad2f-0828388da251"
   },
   "outputs": [
    {
     "name": "stdout",
     "output_type": "stream",
     "text": [
      "p: 0.1056\n",
      "p: 0.1056\n"
     ]
    }
   ],
   "source": [
    "#-----------------------\n",
    "# SOLUCÃO DA LETRA c) \n",
    "#-----------------------\n",
    "mu=2.0            # MÉDIA\n",
    "dp=0.04           # DESVIO PADRÃO \n",
    "x=2.05            # PONTO DE CORTE (QUANTIL)\n",
    "\n",
    "# SOLUÁCÃO DA LETRA a) AS DEMAIS b) e c) SÃO IGUAIS\n",
    "norm.cdf(x,mu,dp) # USANDO NORM.CDF (precisa subtriar de 1 porque é probabilidade acumulada até x)\n",
    "p=1-norm.cdf(x,mu,dp)\n",
    "print(\"p: {:.4F}\".format(p))\n",
    "\n",
    "print(\"p: {:.4F}\".format(norm.sf(x,mu,dp)))              # USANDO NORM.SF (Já calcula o resultado direto - acima de x)"
   ]
  },
  {
   "cell_type": "markdown",
   "metadata": {
    "id": "TVJWfmBErooH"
   },
   "source": [
    "* PARA OUTROS VALORES BASTA SUBSTITUIR O VALOR DE X \n",
    "* ALTERNATIVA MAIS ELEGANTE: CRIAR UMA FUNÇÃO..."
   ]
  },
  {
   "cell_type": "markdown",
   "metadata": {
    "id": "MbOiKBQ9KTEp"
   },
   "source": [
    "Exemplo-02: Considere que X é a variável aleatória que representa a nota de uma prova de Estatística de 60 alunos. Suponha que X tenha distribuição normal com média = 5,0 e desvio padrão = 1,2.\n",
    "* Calcular a probabilidade de:\n",
    "* a) Um aluno tirar nota maior do que 7,0 na prova.  Item da lista\n",
    "* b) Um aluno tirar nota maior do que 8,0 na prova.  Item da lista\n",
    "* c) Quantos alunos tiraram nota maior do que 5,0 na prova ?  Item da lista\n",
    "* d) Quantos alunos tiraram nota maior do que 6,0 na prova ?\n",
    "\n"
   ]
  },
  {
   "cell_type": "code",
   "execution_count": 23,
   "metadata": {
    "colab": {
     "base_uri": "https://localhost:8080/"
    },
    "id": "HiKF38083-ku",
    "outputId": "41d904f7-e72d-4dde-e08a-8e630ca6ad11"
   },
   "outputs": [
    {
     "name": "stdout",
     "output_type": "stream",
     "text": [
      "p: 0.2023\n",
      "12.139702857818587\n",
      "p: 0.2023\n"
     ]
    }
   ],
   "source": [
    "#----------------------------------------------\n",
    "# EXEMPLO-02\n",
    "#----------------------------------------------\n",
    "mu=5.0            # MÉDIA\n",
    "dp=1.2            # DESVIO PADRÃO \n",
    "n = 60            # NÚMERO DE ALUNOS\n",
    "x=6.0             # PONTO DE CORTE (QUANTIL)\n",
    "norm.cdf(x,mu,dp)  \n",
    "p=1-norm.cdf(x,mu,dp)         # USANDO NORM.CDF\n",
    "print(\"p: {:.4F}\".format(p)) \n",
    "print(p*60)\n",
    "\n",
    "print(\"p: {:.4F}\".format(norm.sf(x,mu,dp)))  # USANDO NORM.SF  "
   ]
  },
  {
   "cell_type": "markdown",
   "metadata": {
    "id": "BoC5i5VJi8K1"
   },
   "source": [
    "COMO NO EXEMPLO-01\n",
    "\n",
    "* PARA OUTROS VALORES BASTA SUBSTITUIR O VALOR DE X \n",
    "* ALTERNATIVA MAIS ELEGANTE: CRIAR UMA FUNÇÃO...\n",
    "\n",
    "\n",
    "\n",
    " "
   ]
  },
  {
   "cell_type": "markdown",
   "metadata": {
    "id": "JevIi2ZVLDRH"
   },
   "source": [
    "Um parâmetro de malha de determinado tributo tem distribuição Normal com média **12** e desvio padrão **4**. Considerando que ficarão retidas em malha declarações que apresentarem o valor do parâmetro maior do que **22**, e que a população é de **10.000.000** declarantes, calcule o número de declarações retidas no atual exercício fiscal."
   ]
  },
  {
   "cell_type": "code",
   "execution_count": 24,
   "metadata": {
    "colab": {
     "base_uri": "https://localhost:8080/"
    },
    "id": "MgQLt3zt6NRL",
    "outputId": "25e002cc-1a09-40b7-e35e-56d4b3dd48cf"
   },
   "outputs": [
    {
     "name": "stdout",
     "output_type": "stream",
     "text": [
      "Probabilidade: 0.0062\n",
      "Retidos na malha: 62097 declarantes\n",
      "Retidos na malha: 62097 declarantes\n"
     ]
    }
   ],
   "source": [
    "#----------------------------------------------\n",
    "# EXEMPLO-03\n",
    "#----------------------------------------------\n",
    "mu=12.0           # MÉDIA\n",
    "dp=4.0            # DESVIO PADRÃO \n",
    "n = 10000000      # NÚMERO DE DECLARANTES\n",
    "x=22.             # PONTO DE CORTE (QUANTIL)\n",
    "norm.cdf(x,mu,dp)  \n",
    "p=1-norm.cdf(x,mu,dp)       # USANDO NORM.CDF\n",
    "print(\"Probabilidade: {:.4f}\".format(p))\n",
    "\n",
    "r=p*n\n",
    "print(\"Retidos na malha: {:.0f} declarantes\".format(r))\n",
    "\n",
    "r=norm.sf(x,mu,dp)*n        # USANDO NORM.SF \n",
    "print(\"Retidos na malha: {:.0f} declarantes\".format(r)) "
   ]
  },
  {
   "cell_type": "markdown",
   "metadata": {
    "id": "hh3DIzoijV1N"
   },
   "source": [
    "COMO NOS EXEMPLOS: 01 - 02\n",
    "* PARA OUTROS VALORES BASTA SUBSTITUIR O VALOR DE X \n",
    "* ALTERNATIVA MAIS ELEGANTE: CRIAR UMA FUNÇÃO...\n",
    "\n",
    "\n",
    "\n",
    " "
   ]
  },
  {
   "cell_type": "code",
   "execution_count": null,
   "metadata": {},
   "outputs": [],
   "source": []
  }
 ],
 "metadata": {
  "colab": {
   "provenance": []
  },
  "kernelspec": {
   "display_name": "Python 3 (ipykernel)",
   "language": "python",
   "name": "python3"
  },
  "language_info": {
   "codemirror_mode": {
    "name": "ipython",
    "version": 3
   },
   "file_extension": ".py",
   "mimetype": "text/x-python",
   "name": "python",
   "nbconvert_exporter": "python",
   "pygments_lexer": "ipython3",
   "version": "3.9.7"
  }
 },
 "nbformat": 4,
 "nbformat_minor": 4
}
