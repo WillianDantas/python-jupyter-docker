{
  "nbformat": 4,
  "nbformat_minor": 0,
  "metadata": {
    "colab": {
      "provenance": []
    },
    "kernelspec": {
      "name": "python3",
      "display_name": "Python 3"
    },
    "language_info": {
      "name": "python"
    }
  },
  "cells": [
    {
      "cell_type": "markdown",
      "source": [
        "UNICARIOCA - PÓS GRADUAÇÃO EM CIÊNCIA DE DADOS\n",
        "\n",
        "ESTATÍSTICA APLICADA A NEGÓCIOS - AMOSTRAGEM - aula_02_C - DATASET - ÍRIS\n",
        "\n",
        "Manuel Martins"
      ],
      "metadata": {
        "id": "dvrvm5UGzfNe"
      }
    },
    {
      "cell_type": "markdown",
      "source": [
        "## AMOSTRAGEM - DATASET IRIS"
      ],
      "metadata": {
        "id": "ln2wxWCA5Ul5"
      }
    },
    {
      "cell_type": "code",
      "source": [
        "import pandas as pd\n",
        "import seaborn as sns\n",
        "\n",
        "# Carregando a base de dados IRIS:\n",
        "iris = sns.load_dataset('iris')"
      ],
      "metadata": {
        "id": "IN8IE9K8zvva"
      },
      "execution_count": null,
      "outputs": []
    },
    {
      "cell_type": "code",
      "source": [
        "# Visualizando as linhas iniciais do dataframe:\n",
        "iris.head()"
      ],
      "metadata": {
        "id": "EETn2KoMYE6T"
      },
      "execution_count": null,
      "outputs": []
    },
    {
      "cell_type": "markdown",
      "source": [
        "INFORMAÇÕES DO DATASET IRIS\n",
        "*   sepal_length  150 non-null    float64 Comprimento da sépala \n",
        "*   sepal_width   150 non-null    float64 Largura da sépala \n",
        "*   petal_length  150 non-null    float64 Comprimento da pétala\n",
        "*   petal_width   150 non-null    float64 Largura da pétala\n",
        "*   species                       Espécie\n"
      ],
      "metadata": {
        "id": "iEgSpU4-mHHg"
      }
    },
    {
      "cell_type": "code",
      "source": [
        "iris.info()"
      ],
      "metadata": {
        "id": "EKwt7-M-j6_n"
      },
      "execution_count": null,
      "outputs": []
    },
    {
      "cell_type": "code",
      "source": [
        "print(\"MAX n ROWS  m COLUMNS\")\n",
        "with pd.option_context('display.max_rows',10,'display.max_columns',6):\n",
        "   print(iris)"
      ],
      "metadata": {
        "id": "WmCp3NPTkLsG"
      },
      "execution_count": null,
      "outputs": []
    },
    {
      "cell_type": "code",
      "source": [
        "# ---------------------------------------------------------------\n",
        "# AMOSTRA ALEATÓRIA SIMPLES SEM REPOSIÇÃO (PADRÃO) - TAMANHO n\n",
        "# ---------------------------------------------------------------\n",
        "df_sample = iris.sample(n=10)\n",
        "\n",
        "# Informações do dataframe criado:\n",
        "df_sample.shape\n",
        "df_sample.info()\n"
      ],
      "metadata": {
        "id": "2h6D0g_uQwv6"
      },
      "execution_count": null,
      "outputs": []
    },
    {
      "cell_type": "code",
      "source": [
        "# ------------------------------------------------------------------------------\n",
        "# AMOSTRA ALEATÓRIA SIMPLES SEM REPOSIÇÃO (PADRÃO) - FRAÇÃO AMOSTRAL (frac=0.10)\n",
        "# ------------------------------------------------------------------------------\n",
        "df_sample = iris.sample(frac=0.10)\n",
        "\n",
        "df_sample.shape\n",
        "# Informações do dataframe criado:\n",
        "df_sample.info()"
      ],
      "metadata": {
        "id": "obq9ZWxeaHT7"
      },
      "execution_count": null,
      "outputs": []
    },
    {
      "cell_type": "code",
      "source": [
        "# ---------------------------------------------------------------\n",
        "# AMOSTRA ALEATÓRIA SIMPLES COM REPOSIÇÃO  - TAMANHO n\n",
        "# ---------------------------------------------------------------\n",
        "df_sample = iris.sample(n=10,replace=True)\n",
        "\n",
        "# Informações do dataframe criado:\n",
        "df_sample.info()\n"
      ],
      "metadata": {
        "id": "y1zz8DMxe2D8"
      },
      "execution_count": null,
      "outputs": []
    },
    {
      "cell_type": "code",
      "source": [
        "# ---------------------------------------------------------------\n",
        "# AMOSTRA ESTRATIFICADA - SKLEARN MODEL - TRAIN TEST SPLIT\n",
        "# ---------------------------------------------------------------\n",
        "from sklearn.model_selection import train_test_split\n",
        "\n",
        "# Número de registros de cada instancia:\n",
        "iris['species'].value_counts()"
      ],
      "metadata": {
        "id": "13XcTMfkqvoF"
      },
      "execution_count": null,
      "outputs": []
    },
    {
      "cell_type": "code",
      "source": [
        "# Geraçào da amostra de teste estratificada:\n",
        "X_train, X_test, y_train, y_test = train_test_split(iris.drop('species',axis=1),\n",
        "iris['species'], stratify=iris['species'], test_size=0.20)\n",
        "# Quantidade de registros no conjunto de teste:\n",
        "y_test.shape"
      ],
      "metadata": {
        "id": "t8FJSL5oraID"
      },
      "execution_count": null,
      "outputs": []
    },
    {
      "cell_type": "code",
      "source": [
        "y_test.value_counts()"
      ],
      "metadata": {
        "id": "ULLf7McH8Tge"
      },
      "execution_count": null,
      "outputs": []
    },
    {
      "cell_type": "code",
      "source": [
        "# -------------------------------------------------------------------------------------------\n",
        "# AMOSTRA SISTEMÁTICA - SELECIONA DE n EM n A PARTIR DE UMA SEMENTE (gerada aleatoriamente)\n",
        "# -------------------------------------------------------------------------------------------\n",
        "import numpy as np\n",
        "# Seleciona um valor aleatório entre os valores de 0 a 10:\n",
        "semente = np.random.choice(10, 1)        # O VALOR DA SEMENTE É GERADO ALEATORIAMENTE\n",
        "semente\n",
        "print(semente)"
      ],
      "metadata": {
        "colab": {
          "base_uri": "https://localhost:8080/"
        },
        "id": "U1YdZnKmB617",
        "outputId": "cf7c81f9-f4ca-4e33-891b-ff8fdc278df9"
      },
      "execution_count": null,
      "outputs": [
        {
          "output_type": "stream",
          "name": "stdout",
          "text": [
            "[6]\n"
          ]
        }
      ]
    },
    {
      "cell_type": "code",
      "source": [
        "# Gera um array que inicia em 0 e termina em 100:  \n",
        "indices = np.arange(0,100,semente)\n",
        "indices"
      ],
      "metadata": {
        "id": "IIKtEetxCb8S"
      },
      "execution_count": null,
      "outputs": []
    },
    {
      "cell_type": "code",
      "source": [
        "# Gera a amostra da base [iris] a partir do arquivo de índice  \n",
        "amostra = iris.loc[indices,:]\n",
        "amostra"
      ],
      "metadata": {
        "id": "qW9T_v5tCj2Z"
      },
      "execution_count": null,
      "outputs": []
    },
    {
      "cell_type": "code",
      "source": [
        "amostra.shape\n",
        "amostra.info()"
      ],
      "metadata": {
        "id": "ujcGeUluJCkd"
      },
      "execution_count": null,
      "outputs": []
    }
  ]
}