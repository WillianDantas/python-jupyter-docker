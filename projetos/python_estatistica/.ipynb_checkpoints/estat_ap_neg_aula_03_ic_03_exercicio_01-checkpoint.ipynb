{
  "nbformat": 4,
  "nbformat_minor": 0,
  "metadata": {
    "colab": {
      "provenance": []
    },
    "kernelspec": {
      "name": "python3",
      "display_name": "Python 3"
    },
    "language_info": {
      "name": "python"
    }
  },
  "cells": [
    {
      "cell_type": "markdown",
      "source": [
        "UNICARIOCA - PÓS GRADUAÇÃO EM CIÊNCIA DE DADOS\n",
        "\n",
        "ESTATÍSTICA APLICADA A NEGÓCIOS - AMOSTRAGEM - INTERVALO DE CONFIANÇA - AULA_03_IC_03 - EXERCÍCIO_01\n",
        "\n",
        "Manuel Martins"
      ],
      "metadata": {
        "id": "TBuY3kh96WQN"
      }
    },
    {
      "cell_type": "code",
      "source": [
        "#==================================================================================\n",
        "# FUNÇÃO PARA CALCULAR INTERVALO CONFIANÇA DE FORMA AUTOMÁTICA (NORMAL/T_STUDENT)\n",
        "#==================================================================================\n",
        "# PARÂMETROS Xs = média amostra / n = tam amostra # nc = nível confiança \n",
        "# sigma = desvio padrão pop (-1=desconhecido) / s = desvio padrão amostra    \n",
        "#==================================================================================\n",
        "import scipy.stats\n",
        "import numpy as np\n",
        "\n",
        "def confident_interval(Xs, n, nc , sigma , s):\n",
        "    global IC1,IC2\n",
        "    z = abs(scipy.stats.norm.ppf((1 - nc)/2.)) # RECEBE PROB DEVOLVE (z) QUANTIL(prob,média,dp)\n",
        "    print(\"z: {:.2f}\".format(z))                                          \n",
        "    print(\"sigma:\",sigma) \n",
        "    if(sigma != -1):   # SE VARIÂNCIA POP É CONHECIDA DISTRIBUIÇÃO NORMAL(CASO-1)\n",
        "        IC1 = Xs - z*sigma/np.sqrt(n) # LIMITE INFERIOR\n",
        "        IC2 = Xs + z*sigma/np.sqrt(n) # LIMITE SUPERIOR\n",
        "        print(\"CASO-1 - VARIÂNCIA/DP - POP - CONHECIDA\")\n",
        "    else:              # SE VAR POP É DESCONHECIDA ==> TESTA n (AMOSTRA) \n",
        "        if(n >= 30):   # SE n (AMOSTRA) > 30 DISTRIBUIÇÃO NORMAL (CASO-2)\n",
        "            print(\"s:\",s)\n",
        "            print(\"CASO-2 - VARIÂNCIA/DP-POP-DESCONHECIDO - n >= 30\")\n",
        "            IC1 = Xs - z*s/np.sqrt(n) # LIMITE INFERIOR (usa s em vez de sigma)\n",
        "            IC2 = Xs + z*s/np.sqrt(n) # LIMITE SUPERIOR (usa s em vez de sigma) \n",
        "        else: # SE n (AMOSTRA) < 30 ENTÃO T-STUDENT (CASO-3)\n",
        "            t = scipy.stats.t.ppf((1 + nc) / 2., n-1) \n",
        "            print(\"t:\",t)\n",
        "            print(\"s:\",s)\n",
        "            print(\"CASO-3 - VAR/DP POP DECONHECIDO n < 30\")\n",
        "            IC1 = Xs - t*s/np.sqrt(n)\n",
        "            IC2 = Xs + t*s/np.sqrt(n)\n",
        "    return [IC1, IC2]"
      ],
      "metadata": {
        "id": "Qz8J83OpJBgp"
      },
      "execution_count": null,
      "outputs": []
    },
    {
      "cell_type": "markdown",
      "source": [
        "EXEMPLO-01 - Uma amostra de 120 crianças tem média de altura de 120 cm e desvio padrão 5,6 cm. Qual o intervalo de confiança de 95% para a média POPULACIONAL?"
      ],
      "metadata": {
        "id": "XKUHPBLSIisa"
      }
    },
    {
      "cell_type": "code",
      "source": [
        "global IC1\n",
        "Xs = 120          # MÉDIA NA AMOSTRA\n",
        "n  = 120          # TAMANHO DA AMOSTRA\n",
        "nc = 0.95         # NÍVEL DE CONFIANÇA\n",
        "sigma = -1        # DEVIO PADRÃO DA POPULAÇÃO \n",
        "s= 5.6            # DEVIO PADRÃO DA AMOSTRA\n",
        "print(\"s:\",s)\n",
        "IC = confident_interval(Xs,n,nc,sigma,s)\n",
        "print('Intervalo Confiança:', IC)\n",
        "print(\"Amplitude Intervalo: {:.4f}\".format(IC2-IC1))\n",
        "print(\"nc:\",nc)\n",
        "\n"
      ],
      "metadata": {
        "id": "x-sinsdgJSZ5",
        "colab": {
          "base_uri": "https://localhost:8080/"
        },
        "outputId": "44b4c704-e82c-41d2-ffd8-ba4f7a3abbc9"
      },
      "execution_count": null,
      "outputs": [
        {
          "output_type": "stream",
          "name": "stdout",
          "text": [
            "s: 5.6\n",
            "z: 1.96\n",
            "sigma: -1\n",
            "s: 5.6\n",
            "CASO-2 - VARIÂNCIA/DP-POP-DESCONHECIDO - n >= 30\n",
            "Intervalo Confiança: [118.99805127951839, 121.00194872048161]\n",
            "Amplitude Intervalo: 2.0039\n",
            "nc: 0.95\n"
          ]
        }
      ]
    },
    {
      "cell_type": "markdown",
      "source": [
        "EXERCÍCIOS"
      ],
      "metadata": {
        "id": "C3GIVYgubnjV"
      }
    },
    {
      "cell_type": "markdown",
      "source": [
        "01- Em uma empresa de distribuição de alimentos pela internet, verificou-se que o tempo necessário para uma entrega tem **distribuição normal com média de 30 minutos e desvio padrão de 10 minutos**. Em uma amostra de **50** entregadores, observou-se um tempo médio de entrega de **25 minutos**. Determine o intervalo de **95% de confiança para a média** de todos os entregadores da empresa."
      ],
      "metadata": {
        "id": "Th9PBk6IMoZN"
      }
    },
    {
      "cell_type": "markdown",
      "source": [
        "02- Uma amostra de tamanho 25 foi extraída de uma população com média  e desvio padrão desconhecidos. Suponha que a média amostral seja 4,004 e o desvio padrão amostral seja 0,366. Qual o  intervalo para média com 95% de confiança ?"
      ],
      "metadata": {
        "id": "OYwbxlde-2hX"
      }
    },
    {
      "cell_type": "markdown",
      "source": [
        "03- Em um provedor de videos na Internet, verificou-se que para **uma amostra de 15 usuários**, o tempo médio de exibição é igual a **xamt = 39,3** **minutos** e o **desvio padrão da amostra S = 2,6  minutos**. Qual o intervalo de 90% de confiança para a **média populacional**."
      ],
      "metadata": {
        "id": "r2NlDWGQ8Bq9"
      }
    }
  ]
}