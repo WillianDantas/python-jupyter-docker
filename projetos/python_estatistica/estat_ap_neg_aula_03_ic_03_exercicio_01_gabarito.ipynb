{
 "cells": [
  {
   "cell_type": "markdown",
   "metadata": {
    "id": "TBuY3kh96WQN"
   },
   "source": [
    "UNICARIOCA - PÓS GRADUAÇÃO EM CIÊNCIA DE DADOS\n",
    "\n",
    "ESTATÍSTICA APLICADA A NEGÓCIOS - AMOSTRAGEM - INTERVALO DE CONFIANÇA - AULA_03_IC_03\n",
    "\n",
    "Manuel Martins"
   ]
  },
  {
   "cell_type": "code",
   "execution_count": null,
   "metadata": {
    "id": "Qz8J83OpJBgp"
   },
   "outputs": [],
   "source": [
    "#==================================================================================\n",
    "# FUNÇÃO PARA CALCULAR INTERVALO CONFIANÇA DE FORMA AUTOMÁTICA (NORMAL/T_STUDENT)\n",
    "#==================================================================================\n",
    "# PARÂMETROS Xs = média amostra / n = tam amostra # nc = nível confiança \n",
    "# sigma = desvio padrão pop (-1=desconhecido) / s = desvio padrão amostra    \n",
    "#==================================================================================\n",
    "import scipy.stats\n",
    "import numpy as np\n",
    "\n",
    "def confident_interval(Xs, n, nc , sigma , s):\n",
    "    global IC1,IC2\n",
    "    z = abs(scipy.stats.norm.ppf((1 - nc)/2.)) # RECEBE PROB DEVOLVE (z) QUANTIL(prob,média,dp)\n",
    "    print(\"z: {:.2f}\".format(z))                                          \n",
    "    print(\"sigma:\",sigma) \n",
    "    if(sigma != -1):   # SE VARIÂNCIA POP É CONHECIDA DISTRIBUIÇÃO NORMAL(CASO-1)\n",
    "        IC1 = Xs - z*sigma/np.sqrt(n) # LIMITE INFERIOR\n",
    "        IC2 = Xs + z*sigma/np.sqrt(n) # LIMITE SUPERIOR\n",
    "        print(\"CASO-1 - VARIÂNCIA/DP - POP - CONHECIDA\")\n",
    "    else:              # SE VAR POP É DESCONHECIDA ==> TESTA n (AMOSTRA) \n",
    "        if(n >= 30):   # SE n (AMOSTRA) > 30 DISTRIBUIÇÃO NORMAL (CASO-2)\n",
    "            print(\"s:\",s)\n",
    "            print(\"CASO-2 - VARIÂNCIA/DP-POP-DESCONHECIDO - n >= 30\")\n",
    "            IC1 = Xs - z*s/np.sqrt(n) # LIMITE INFERIOR (usa s em vez de sigma)\n",
    "            IC2 = Xs + z*s/np.sqrt(n) # LIMITE SUPERIOR (usa s em vez de sigma) \n",
    "        else: # SE n (AMOSTRA) < 30 ENTÃO T-STUDENT (CASO-3)\n",
    "            t = scipy.stats.t.ppf((1 + nc) / 2., n-1) \n",
    "            print(\"t:\",t)\n",
    "            print(\"s:\",s)\n",
    "            print(\"CASO-3 - VAR/DP POP DECONHECIDO n < 30\")\n",
    "            IC1 = Xs - t*s/np.sqrt(n)\n",
    "            IC2 = Xs + t*s/np.sqrt(n)\n",
    "    return [IC1, IC2]"
   ]
  },
  {
   "cell_type": "markdown",
   "metadata": {
    "id": "XKUHPBLSIisa"
   },
   "source": [
    "EXEMPLO-01 - Uma amostra de 120 crianças tem média de altura de 120 cm e desvio padrão 5,6 cm. Qual o intervalo de confiança de 95% para a média POPULACIONAL?"
   ]
  },
  {
   "cell_type": "code",
   "execution_count": null,
   "metadata": {
    "colab": {
     "base_uri": "https://localhost:8080/"
    },
    "id": "x-sinsdgJSZ5",
    "outputId": "44b4c704-e82c-41d2-ffd8-ba4f7a3abbc9"
   },
   "outputs": [
    {
     "name": "stdout",
     "output_type": "stream",
     "text": [
      "s: 5.6\n",
      "z: 1.96\n",
      "sigma: -1\n",
      "s: 5.6\n",
      "CASO-2 - VARIÂNCIA/DP-POP-DESCONHECIDO - n >= 30\n",
      "Intervalo Confiança: [118.99805127951839, 121.00194872048161]\n",
      "Amplitude Intervalo: 2.0039\n",
      "nc: 0.95\n"
     ]
    }
   ],
   "source": [
    "global IC1\n",
    "Xs = 120          # MÉDIA NA AMOSTRA\n",
    "n  = 120          # TAMANHO DA AMOSTRA\n",
    "nc = 0.95         # NÍVEL DE CONFIANÇA\n",
    "sigma = -1        # DEVIO PADRÃO DA POPULAÇÃO  (-1 => DESCONHECIDO)\n",
    "s= 5.6            # DEVIO PADRÃO DA AMOSTRA\n",
    "print(\"s:\",s)\n",
    "IC = confident_interval(Xs,n,nc,sigma,s)\n",
    "print('Intervalo Confiança:', IC)\n",
    "print(\"Amplitude Intervalo: {:.4f}\".format(IC2-IC1))\n",
    "print(\"nc:\",nc)\n",
    "\n"
   ]
  },
  {
   "cell_type": "markdown",
   "metadata": {
    "id": "C3GIVYgubnjV"
   },
   "source": [
    "EXERCÍCIOS"
   ]
  },
  {
   "cell_type": "markdown",
   "metadata": {
    "id": "Th9PBk6IMoZN"
   },
   "source": [
    "01- Em uma empresa de distribuição de alimentos pela internet, verificou-se que o tempo necessário para uma entrega tem **distribuição normal com média de 30 minutos e desvio padrão de 10 minutos**. Em uma amostra de **50** entregadores, observou-se um tempo médio de entrega de **25 minutos**. Determine o intervalo de **95% de confiança para a média** de todos os entregadores da empresa."
   ]
  },
  {
   "cell_type": "code",
   "execution_count": null,
   "metadata": {
    "colab": {
     "base_uri": "https://localhost:8080/"
    },
    "id": "NrFx8oaR75dt",
    "outputId": "6a06665d-f766-4d90-e11e-27ba73e62298"
   },
   "outputs": [
    {
     "name": "stdout",
     "output_type": "stream",
     "text": [
      "s: 10\n",
      "z: 1.96\n",
      "sigma: -1\n",
      "s: 10\n",
      "CASO-2 - VARIÂNCIA/DP-POP-DESCONHECIDO - n >= 30\n",
      "Intervalo Confiança: [27.228192351300645, 32.77180764869936]\n",
      "Amplitude Intervalo: 5.5436\n",
      "nc: 0.95\n"
     ]
    }
   ],
   "source": [
    "Xs = 30           # MÉDIA NA AMOSTRA\n",
    "n  = 50           # TAMANHO DA AMOSTRA\n",
    "nc = 0.95         # NÍVEL DE CONFIANÇA\n",
    "sigma = -1        # DEVIO PADRÃO DA POPULAÇÃO\n",
    "s= 10             # DEVIO PADRÃO DA AMOSTRA\n",
    "print(\"s:\",s)\n",
    "IC = confident_interval(Xs,n,nc,sigma,s)\n",
    "print('Intervalo Confiança:', IC)\n",
    "print(\"Amplitude Intervalo: {:.4f}\".format(IC2-IC1))\n",
    "print(\"nc:\",nc)"
   ]
  },
  {
   "cell_type": "markdown",
   "metadata": {
    "id": "OYwbxlde-2hX"
   },
   "source": [
    "02- Uma amostra de tamanho 25 foi extraída de uma população com média  e desvio padrão desconhecidos. Suponha que a média amostral seja 4,004 e o desvio padrão amostral seja 0,366. Qual o  intervalo para média com 95% de confiança ?"
   ]
  },
  {
   "cell_type": "code",
   "execution_count": null,
   "metadata": {
    "colab": {
     "base_uri": "https://localhost:8080/"
    },
    "id": "Ag7MABv3CPEX",
    "outputId": "6a1eaa02-bd8e-4d28-edb2-e27f669df51a"
   },
   "outputs": [
    {
     "name": "stdout",
     "output_type": "stream",
     "text": [
      "s: 0.366\n",
      "z: 1.96\n",
      "sigma: -1\n",
      "t: 2.0638985616280205\n",
      "s: 0.366\n",
      "CASO-3 - VAR/DP POP DECONHECIDO n < 30\n",
      "Intervalo Confiança: [3.8529226252888282, 4.155077374711171]\n",
      "Amplitude Intervalo: 0.3022\n",
      "nc: 0.95\n"
     ]
    }
   ],
   "source": [
    "Xs = 4.004        # MÉDIA NA AMOSTRA\n",
    "n  = 25           # TAMANHO DA AMOSTRA\n",
    "nc = 0.95         # NÍVEL DE CONFIANÇA\n",
    "sigma = -1        # DEVIO PADRÃO DA POPULAÇÃO \n",
    "s= 0.366          # DEVIO PADRÃO DA AMOSTRA\n",
    "print(\"s:\",s)\n",
    "IC = confident_interval(Xs,n,nc,sigma,s)\n",
    "print('Intervalo Confiança:', IC)\n",
    "print(\"Amplitude Intervalo: {:.4f}\".format(IC2-IC1))\n",
    "print(\"nc:\",nc)"
   ]
  },
  {
   "cell_type": "markdown",
   "metadata": {
    "id": "r2NlDWGQ8Bq9"
   },
   "source": [
    "03- Em um provedor de videos na Internet, verificou-se que para **uma amostra de 15 usuários**, o tempo médio de exibição é igual a **xamt = 39,3** **minutos** e o **desvio padrão da amostra S = 2,6  minutos**. Qual o intervalo de 90% de confiança para a **média populacional**."
   ]
  },
  {
   "cell_type": "code",
   "execution_count": null,
   "metadata": {
    "colab": {
     "base_uri": "https://localhost:8080/"
    },
    "id": "1fBWFS3l8xQr",
    "outputId": "bf81628f-0d10-4f94-eb20-11a9371e439b"
   },
   "outputs": [
    {
     "name": "stdout",
     "output_type": "stream",
     "text": [
      "s: 2.6\n",
      "z: 1.64\n",
      "sigma: -1\n",
      "t: 1.7613101357748562\n",
      "s: 2.6\n",
      "CASO-3 - VAR/DP POP DECONHECIDO n < 30\n",
      "Intervalo Confiança: [38.117602363950525, 40.48239763604947]\n",
      "Amplitude Intervalo: 2.3648\n",
      "nc: 0.9\n"
     ]
    }
   ],
   "source": [
    "Xs = 39.3         # MÉDIA NA AMOSTRA\n",
    "n  = 15           # TAMANHO DA AMOSTRA\n",
    "nc = 0.90         # NÍVEL DE CONFIANÇA\n",
    "sigma = -1        # DEVIO PADRÃO DA POPULAÇÃO \n",
    "s= 2.6            # DEVIO PADRÃO DA AMOSTRA\n",
    "print(\"s:\",s)\n",
    "IC = confident_interval(Xs,n,nc,sigma,s)\n",
    "print('Intervalo Confiança:', IC)\n",
    "print(\"Amplitude Intervalo: {:.4f}\".format(IC2-IC1))\n",
    "print(\"nc:\",nc)"
   ]
  },
  {
   "cell_type": "markdown",
   "metadata": {
    "id": "Excj5wrA885K"
   },
   "source": [
    "### TESTES..."
   ]
  },
  {
   "cell_type": "markdown",
   "metadata": {
    "id": "gyZRzFs6LYTN"
   },
   "source": [
    "01- Félix é especialista de controle de qualidade em uma fábrica que pinta peças de carro. Seu processo de pintura consiste em uma primeira demão, revestimento de cor e revestimento transparente. \n",
    "Para uma certa peça, estas camadas têm juntas **uma espessura desejada de 150 mícrons**. \n",
    "Felix mediu a espessura de 50 pontos selecionados aleatoriamente em uma das peças para ver se ela estava pintada corretamente. \n",
    "\n",
    "A sua amostra teve uma **espessura média de 148 mícrons** e um **desvio-padrão de S = 3 mícrons**. (1 mícron = 10-3 mm)  \n",
    "Encontre um intervalo de confiança de 95% para a espessura média com base nos seus dados é (147,1 ; 148,9)\n"
   ]
  },
  {
   "cell_type": "code",
   "execution_count": null,
   "metadata": {
    "colab": {
     "base_uri": "https://localhost:8080/"
    },
    "id": "JEoU7dr8Lr9E",
    "outputId": "87088724-1518-45d0-bc7d-83ca57e46b89"
   },
   "outputs": [
    {
     "name": "stdout",
     "output_type": "stream",
     "text": [
      "s: 3\n",
      "z: 1.96\n",
      "sigma: -1\n",
      "s: 3\n",
      "CASO-2 - VARIÂNCIA/DP-POP-DESCONHECIDO - n >= 30\n",
      "Intervalo Confiança: [147.16845770539018, 148.83154229460982]\n",
      "Amplitude Intervalo: 1.6631\n",
      "nc: 0.95\n"
     ]
    }
   ],
   "source": [
    "Xs = 148          # MÉDIA NA AMOSTRA\n",
    "n  = 50           # TAMANHO DA AMOSTRA\n",
    "nc = 0.95         # NÍVEL DE CONFIANÇA\n",
    "sigma = -1        # DEVIO PADRÃO DA POPULAÇÃO \n",
    "s= 3              # DEVIO PADRÃO DA AMOSTRA\n",
    "print(\"s:\",s)\n",
    "IC = confident_interval(Xs,n,nc,sigma,s)\n",
    "print('Intervalo Confiança:', IC)\n",
    "print(\"Amplitude Intervalo: {:.4f}\".format(IC2-IC1))\n",
    "print(\"nc:\",nc)\n"
   ]
  },
  {
   "cell_type": "markdown",
   "metadata": {
    "id": "kVL6tP_uQNta"
   },
   "source": [
    "**PERGUNTA**: Com base nesse intervalo, **é plausível** que a **espessura média nessa parte examinada** corresponda ao valor de espessura desejado (**150 microns**)? "
   ]
  },
  {
   "cell_type": "markdown",
   "metadata": {
    "id": "kOJCm9sbY4BF"
   },
   "source": [
    "02- **Martina** leu em uma publicação científica que um aluno de pós-graduação médio tem **33 anos de idade**. Ela queria **estimar a idade média dos alunos de pós-graduação** em sua **universidade**, então tomou uma amostra aleatória de 30 alunos de pós-graduação. Ela descobriu que a idade média dos elementos da amostra foi de **31,8 anos** com **desvio padrão S de 4,3 anos**. Determine um intervalo de confiança de 95% para a média com base nesses dados."
   ]
  },
  {
   "cell_type": "code",
   "execution_count": null,
   "metadata": {
    "colab": {
     "base_uri": "https://localhost:8080/"
    },
    "id": "dHQ2MLWhZmsj",
    "outputId": "097864fb-4c0d-4bed-d731-07ac9960f6a3"
   },
   "outputs": [
    {
     "name": "stdout",
     "output_type": "stream",
     "text": [
      "s: 4.3\n",
      "z: 1.96\n",
      "sigma: -1\n",
      "s: 4.3\n",
      "CASO-2 - VARIÂNCIA/DP-POP-DESCONHECIDO - n >= 30\n",
      "Intervalo Confiança: [30.261293036403245, 33.338706963596756]\n",
      "Amplitude Intervalo: 3.0774\n",
      "nc: 0.95\n"
     ]
    }
   ],
   "source": [
    "Xs = 31.8         # MÉDIA NA AMOSTRA\n",
    "n  = 30           # TAMANHO DA AMOSTRA\n",
    "nc = 0.95         # NÍVEL DE CONFIANÇA\n",
    "sigma = -1        # DEVIO PADRÃO DA POPULAÇÃO \n",
    "s= 4.3            # DEVIO PADRÃO DA AMOSTRA\n",
    "print(\"s:\",s)\n",
    "IC = confident_interval(Xs,n,nc,sigma,s)\n",
    "print('Intervalo Confiança:', IC)\n",
    "print(\"Amplitude Intervalo: {:.4f}\".format(IC2-IC1))\n",
    "print(\"nc:\",nc)"
   ]
  },
  {
   "cell_type": "markdown",
   "metadata": {
    "id": "KUFbAkpuaYF6"
   },
   "source": [
    "**PERGUNTA**- Com base nesse intervalo, é plausível que a idade média de todos os alunos de pós-graduação na universidade de Martina também seja de 33 anos? Justifique sua resposta..."
   ]
  },
  {
   "cell_type": "markdown",
   "metadata": {
    "id": "4tkVoUCDcMzN"
   },
   "source": [
    "03- Uma agência de proteção ambiental tem normas e regulamentos que dizem que o nível de chumbo no solo não pode exceder o limite de **400 partes por milhão (ppm)** em áreas públicas designadas para crianças. Lucas é um inspetor, e ele colhe 30 amostras de solo selecionadas aleatoriamente de um local que está sendo considerado para a construção de um playground. \n",
    "Esses dados mostram uma **média amostral de** **394** **ppm** e um desvio-padrão de **S de 26,3 ppm**. Qual o intervalo de confiança de 95% resultante para o nível médio de chumbo?  "
   ]
  },
  {
   "cell_type": "code",
   "execution_count": null,
   "metadata": {
    "colab": {
     "base_uri": "https://localhost:8080/"
    },
    "id": "8dEVvvcadFhj",
    "outputId": "ee05113d-0634-4b6b-d655-45935de6e462"
   },
   "outputs": [
    {
     "name": "stdout",
     "output_type": "stream",
     "text": [
      "s: 26.3\n",
      "z: 1.96\n",
      "sigma: -1\n",
      "s: 26.3\n",
      "CASO-2 - VARIÂNCIA/DP-POP-DESCONHECIDO - n >= 30\n",
      "Intervalo Confiança: [384.5888388040478, 403.4111611959522]\n",
      "Amplitude Intervalo: 18.8223\n",
      "nc: 0.95\n"
     ]
    }
   ],
   "source": [
    "Xs = 394          # MÉDIA NA AMOSTRA\n",
    "n  = 30           # TAMANHO DA AMOSTRA\n",
    "nc = 0.95         # NÍVEL DE CONFIANÇA\n",
    "sigma = -1        # DEVIO PADRÃO DA POPULAÇÃO \n",
    "s= 26.3           # DEVIO PADRÃO DA AMOSTRA\n",
    "print(\"s:\",s)\n",
    "IC = confident_interval(Xs,n,nc,sigma,s)\n",
    "print('Intervalo Confiança:', IC)\n",
    "print(\"Amplitude Intervalo: {:.4f}\".format(IC2-IC1))\n",
    "print(\"nc:\",nc)"
   ]
  },
  {
   "cell_type": "markdown",
   "metadata": {
    "id": "KFvhz3iMeGPg"
   },
   "source": [
    " **PERGUNTA**- O que esse intervalo sugere?\n",
    "*  O nível médio de chumbo nesse local quase certamente está abaixo do limite da agência.\n",
    "*   O nível médio de chumbo nesse local está potencialmente acima do limite da agência.\n",
    "*  O nível médio de chumbo nesse local é igual ao limite da agência.\n",
    "\n",
    "\n",
    "\n"
   ]
  },
  {
   "cell_type": "markdown",
   "metadata": {
    "id": "Iol0FImaeQGA"
   },
   "source": [
    "04- Sandra é engenheira e está trabalhando em um projeto para carregamento sem fio para um fabricante de celulares. As especificações de projeto dizem que **não deve levar mais de 2 horas** para carregar completamente uma bateria totalmente descarregada.\n",
    "Sandra tomou uma amostra aleatória de **40** desses celulares e carregadores. Ela descarregou completamente suas baterias e marcou o tempo necessário para cada um carregar completamente. A média na amostra foi de **124 minutos** com **desvio padrão de 8 minutos**. Utilizando essas métricas construa um intervalo de confiança de 95% para o tempo médio de carregamento. \n"
   ]
  },
  {
   "cell_type": "code",
   "execution_count": null,
   "metadata": {
    "colab": {
     "base_uri": "https://localhost:8080/"
    },
    "id": "22A7a0mofBcv",
    "outputId": "fe602289-a2fb-44ec-b944-490e4b95b515"
   },
   "outputs": [
    {
     "name": "stdout",
     "output_type": "stream",
     "text": [
      "s: 8\n",
      "z: 1.96\n",
      "sigma: -1\n",
      "s: 8\n",
      "CASO-2 - VARIÂNCIA/DP-POP-DESCONHECIDO - n >= 30\n",
      "Intervalo Confiança: [121.52081987078175, 126.47918012921825]\n",
      "Amplitude Intervalo: 4.9584\n",
      "nc: 0.95\n"
     ]
    }
   ],
   "source": [
    "Xs = 124          # MÉDIA NA AMOSTRA\n",
    "n  = 40           # TAMANHO DA AMOSTRA\n",
    "nc = 0.95         # NÍVEL DE CONFIANÇA\n",
    "sigma = -1        # DEVIO PADRÃO DA POPULAÇÃO \n",
    "s= 8              # DEVIO PADRÃO DA AMOSTRA\n",
    "print(\"s:\",s)\n",
    "IC = confident_interval(Xs,n,nc,sigma,s)\n",
    "print('Intervalo Confiança:', IC)\n",
    "print(\"Amplitude Intervalo: {:.4f}\".format(IC2-IC1))\n",
    "print(\"nc:\",nc)"
   ]
  },
  {
   "cell_type": "markdown",
   "metadata": {
    "id": "t6l3TgoeLWAh"
   },
   "source": [
    "**PERGUNTA-** O que esse intervalo sugere sobre os tempos de carregamento?\n",
    "*   \n",
    "É plausível que o tempo médio de carregamento seja de exatamente 2 horas\n",
    "\n",
    "*   É razoável que o tempo médio de carregamento cumpra a especificação\n",
    "*   É provável que os tempos de carregamento não cumpram a especificação\n",
    "   \n",
    "\n",
    "\n",
    "\n",
    "\n",
    "\n"
   ]
  }
 ],
 "metadata": {
  "colab": {
   "provenance": []
  },
  "kernelspec": {
   "display_name": "Python 3 (ipykernel)",
   "language": "python",
   "name": "python3"
  },
  "language_info": {
   "codemirror_mode": {
    "name": "ipython",
    "version": 3
   },
   "file_extension": ".py",
   "mimetype": "text/x-python",
   "name": "python",
   "nbconvert_exporter": "python",
   "pygments_lexer": "ipython3",
   "version": "3.9.7"
  }
 },
 "nbformat": 4,
 "nbformat_minor": 4
}
