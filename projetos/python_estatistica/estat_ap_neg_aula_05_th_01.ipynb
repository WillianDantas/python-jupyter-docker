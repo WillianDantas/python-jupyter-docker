{
 "cells": [
  {
   "cell_type": "markdown",
   "metadata": {
    "id": "TBuY3kh96WQN"
   },
   "source": [
    "UNICARIOCA - PÓS GRADUAÇÃO EM CIÊNCIA DE DADOS\n",
    "\n",
    "ESTATÍSTICA APLICADA A NEGÓCIOS -TESTE DE HIPÓTESES\n",
    "\n",
    "Manuel Martins"
   ]
  },
  {
   "cell_type": "code",
   "execution_count": 2,
   "metadata": {
    "id": "Qz8J83OpJBgp"
   },
   "outputs": [],
   "source": [
    "#==================================================================================\n",
    "# FUNÇÃO PARA TESTE DE HIPÓTESE (DRAFT)\n",
    "#==================================================================================\n",
    "# PARÂMETROS Xs = média amt / mu = média pop / n = tam amt / nc = nível confiânça \n",
    "# sigma = desvio padrão pop (-1=desconhecido) / s = dp amostra    \n",
    "#==================================================================================\n",
    "import scipy.stats\n",
    "import numpy as np\n",
    "import matplotlib.pyplot as plt\n",
    "from scipy.stats import norm\n",
    "\n",
    "def th(Xs, mu, n, nc , sigma , s):\n",
    "    ztab,zcalc,ttab,tcalc=[0,0,0,0]\n",
    "#   print(sigma) \n",
    "    ztab = abs(scipy.stats.norm.ppf(nc)) # RECEBE PROB DEVOLVE (z)\n",
    "    print(ztab)\n",
    "    if (Xs-mu < 0): \n",
    "        ue = -1\n",
    "        ztab = ue*ztab\n",
    "        print(\"TESTE UNILATERAL À ESQUERDA\")  \n",
    "    else: \n",
    "        print(\"TESTE UNILATERAL À DIREITA\")  \n",
    "#   print(ztab)\n",
    "    if(sigma != -1): # SE VAR POP É CONHECIDA - NORMAL\n",
    "         zcalc = (Xs-mu)/(sigma/np.sqrt(n))\n",
    "         print(\"ztab:{:.3f}\".format(ztab),\"zcalc:{:.3f}\".format(zcalc))\n",
    "         if (abs(zcalc) > abs(ztab)):\n",
    "           print(\"REJEITA HO\") \n",
    "         else:\n",
    "           print(\"ACEITA HO\")   \n",
    "    else: \n",
    "        if (n >= 30): \n",
    "          zcalc = (Xs-mu)/(s/np.sqrt(n))  # SE VAR POP É DESCONHECIDA E n >= 30 NORMAL\n",
    "          print(\"ztab:{:.3f}\".format(ztab),\"zcalc:{:.3f}\".format(zcalc)) \n",
    "          if (abs(zcalc) > abs(ztab)):\n",
    "           print(\"REJEITA HO\") \n",
    "          else:\n",
    "           print(\"ACEITA HO\")              \n",
    "        else: \n",
    "          ttab = ue*scipy.stats.t.ppf(nc, n-1) # T-STUDENT - VAR POP DESCONHECIDA E n < 30 \n",
    "          tcalc = (Xs-mu)/(s/np.sqrt(n))\n",
    "          if (abs(tcalc) > abs(ttab)):\n",
    "           print(\"REJEITA HO\") \n",
    "          else:\n",
    "           print(\"ACEITA HO\")   \n",
    "          print(\"ttab:{:.3f}\".format(ttab), \"tcalc:{:.3f}\".format(tcalc))\n",
    "    return#(ztab,zcalc,ttab,tcalc) "
   ]
  },
  {
   "cell_type": "markdown",
   "metadata": {
    "id": "t9_-vMT7gJdI"
   },
   "source": [
    "### EXERCÍCIOS"
   ]
  },
  {
   "cell_type": "markdown",
   "metadata": {
    "id": "pD7rIZxGgdDO"
   },
   "source": [
    "01- Em uma amostra de 10 elementos a média da amostra observada foi de 230. Sabe-se que a variância da população é igual a 160. Nesse caso para testar a hipótese de μ = 218 contra a alternativa μ > 218 ao nível de significância de 10% quais os valores da estatística tabelada e calculada? A HIPÓTESE NULA (H0) nula será aceita ou rejeitada?"
   ]
  },
  {
   "cell_type": "code",
   "execution_count": 3,
   "metadata": {
    "id": "hfIrY-nVgnQO"
   },
   "outputs": [
    {
     "name": "stdout",
     "output_type": "stream",
     "text": [
      "1.2815515655446004\n",
      "TESTE UNILATERAL À DIREITA\n",
      "ztab:1.282 zcalc:3.000\n",
      "REJEITA HO\n"
     ]
    }
   ],
   "source": [
    "Xs = 230             # MÉDIA NA AMOSTRA\n",
    "mu = 218             # MÉDIA POPULAÇÃO\n",
    "n  = 10              # TAMANHO DA AMOSTRA\n",
    "ns = 0.10            # NÍVEL DE SIGNIFICÂNCIA  \n",
    "nc = 1 - ns          # NÍVEL DE CONFIANÇA\n",
    "sigma = np.sqrt(160) # DEVIO PADRÃO DA POPULAÇÃO\n",
    "s=1                  # DEVIO PADRÃO DA AMOSTRA\n",
    "\n",
    "th(Xs,mu,n,nc,sigma,s)\n"
   ]
  },
  {
   "cell_type": "markdown",
   "metadata": {
    "id": "35GRu9YmhMub"
   },
   "source": [
    "02- O diâmetro médio de parafusos em uma amostra de 400 parafusos forneceu o valor de 25 mm. Sendo 4mm o desvio padrão do processo de fabricação, pode-se afirmar, ao nível de significância de 5%, que caso o diâmetro médio de todos os parafusos seja inferior a 25,4 mm a hipótese nula será.... ? "
   ]
  },
  {
   "cell_type": "code",
   "execution_count": 4,
   "metadata": {
    "id": "mOYkG4_KhhSk"
   },
   "outputs": [
    {
     "name": "stdout",
     "output_type": "stream",
     "text": [
      "1.6448536269514722\n",
      "TESTE UNILATERAL À ESQUERDA\n",
      "ztab:-1.645 zcalc:-2.000\n",
      "REJEITA HO\n"
     ]
    }
   ],
   "source": [
    "Xs = 25               # MÉDIA NA AMOSTRA\n",
    "mu = 25.4             # MÉDIA POPULAÇÃO\n",
    "n  = 400              # TAMANHO DA AMOSTRA\n",
    "ns = 0.05             # NÍVEL DE SIGNIFICÂNCIA  \n",
    "nc = 1 - ns           # NÍVEL DE CONFIANÇA\n",
    "sigma = np.sqrt(16)   # DEVIO PADRÃO DA POPULAÇÃO\n",
    "s = 4                 # DEVIO PADRÃO DA AMOSTRA\n",
    "\n",
    "th(Xs,mu,n,nc,sigma,s)\n"
   ]
  },
  {
   "cell_type": "markdown",
   "metadata": {
    "id": "o8SHs0gsh-bL"
   },
   "source": [
    "03- Um ensaio de tensões de ruptura de 6 cabos produzidos por uma companhia mostrou a tensão média de ruptura de 7.750 kg e o desvio padrão de 145 kg, ao passo que o fabricante declara que aquela tensão média é de 8.000 kg. A um nível de significância α = 0,05 a afirmação do fabricante é....: "
   ]
  },
  {
   "cell_type": "code",
   "execution_count": 5,
   "metadata": {
    "id": "0XjsExkiiC4g"
   },
   "outputs": [
    {
     "name": "stdout",
     "output_type": "stream",
     "text": [
      "1.6448536269514722\n",
      "TESTE UNILATERAL À ESQUERDA\n",
      "REJEITA HO\n",
      "ttab:-2.015 tcalc:-4.223\n"
     ]
    }
   ],
   "source": [
    "Xs = 7750             # MÉDIA NA AMOSTRA\n",
    "mu = 8000             # MÉDIA POPULAÇÃO\n",
    "n  = 6                # TAMANHO DA AMOSTRA\n",
    "ns = 0.05             # NÍVEL DE SIGNIFICÂNCIA  \n",
    "nc = 1 - ns           # NÍVEL DE CONFIANÇA\n",
    "sigma = -1            # DEVIO PADRÃO DA POPULAÇÃO\n",
    "s = 145               # DEVIO PADRÃO DA AMOSTRA\n",
    "\n",
    "th(Xs,mu,n,nc,sigma,s)\n"
   ]
  },
  {
   "cell_type": "markdown",
   "metadata": {
    "id": "cUmsPpuciuRB"
   },
   "source": [
    "04- Suponhamos que em indivíduos normais quanto à visão, a pressão intraocular seja uma variável aleatória normalmente distribuída com média 20 e variância 4 (em unidade de mm de mercúrio). Um cientista, querendo por à prova a sua hipótese de que o glaucoma causa um aumento tensional, mediu as pressões de 16 pacientes portadores de glaucoma, obtendo uma média igual a 24. Com um nível de significância α = 0,005 qual a conclusão do experimento para o cientista? \n",
    "\n",
    "* Quem é hipótese nula H0?\n",
    "* E a hipótese alternativa H1?\n",
    "\n"
   ]
  },
  {
   "cell_type": "code",
   "execution_count": 6,
   "metadata": {
    "id": "Vo8zrADljBKV"
   },
   "outputs": [
    {
     "name": "stdout",
     "output_type": "stream",
     "text": [
      "2.5758293035489004\n",
      "TESTE UNILATERAL À DIREITA\n",
      "ztab:2.576 zcalc:8.000\n",
      "REJEITA HO\n"
     ]
    }
   ],
   "source": [
    "Xs = 24               # MÉDIA NA AMOSTRA\n",
    "mu = 20               # MÉDIA POPULAÇÃO\n",
    "n  = 16               # TAMANHO DA AMOSTRA\n",
    "ns = 0.005            # NÍVEL DE SIGNIFICÂNCIA  \n",
    "nc = 1 - ns           # NÍVEL DE CONFIANÇA\n",
    "sigma = 2             # DEVIO PADRÃO DA POPULAÇÃO\n",
    "s = 2                 # DEVIO PADRÃO DA AMOSTRA\n",
    "\n",
    "th(Xs,mu,n,nc,sigma,s)\n"
   ]
  },
  {
   "cell_type": "markdown",
   "metadata": {
    "id": "bwSYrT5ikZHV"
   },
   "source": [
    "05- Os graus dos alunos de Estatística têm sido baixos, com média de 5,2 e desvio de 1,2. Optou-se por um curso de revisão e com ele pretende-se aumentar o rendimento dos alunos. Entre 36 alunos que frequentaram tal curso, a média foi de 6,4. Pode-se dizer, ao nível de significância de 8%, que o curso é eficiente?"
   ]
  },
  {
   "cell_type": "code",
   "execution_count": 7,
   "metadata": {
    "id": "Bn7BxOgvkmqB"
   },
   "outputs": [
    {
     "name": "stdout",
     "output_type": "stream",
     "text": [
      "1.4050715603096329\n",
      "TESTE UNILATERAL À DIREITA\n",
      "ztab:1.405 zcalc:6.000\n",
      "REJEITA HO\n"
     ]
    }
   ],
   "source": [
    "Xs = 6.4              # MÉDIA NA AMOSTRA\n",
    "mu = 5.2              # MÉDIA POPULAÇÃO\n",
    "n  = 36               # TAMANHO DA AMOSTRA\n",
    "ns = 0.08             # NÍVEL DE SIGNIFICÂNCIA  \n",
    "nc = 1 - ns           # NÍVEL DE CONFIANÇA\n",
    "sigma = 1.2           # DEVIO PADRÃO DA POPULAÇÃO\n",
    "s = 1.2               # DEVIO PADRÃO DA AMOSTRA\n",
    "\n",
    "th(Xs,mu,n,nc,sigma,s)\n"
   ]
  },
  {
   "cell_type": "code",
   "execution_count": null,
   "metadata": {},
   "outputs": [],
   "source": []
  }
 ],
 "metadata": {
  "colab": {
   "provenance": []
  },
  "kernelspec": {
   "display_name": "Python 3 (ipykernel)",
   "language": "python",
   "name": "python3"
  },
  "language_info": {
   "codemirror_mode": {
    "name": "ipython",
    "version": 3
   },
   "file_extension": ".py",
   "mimetype": "text/x-python",
   "name": "python",
   "nbconvert_exporter": "python",
   "pygments_lexer": "ipython3",
   "version": "3.9.7"
  }
 },
 "nbformat": 4,
 "nbformat_minor": 4
}
