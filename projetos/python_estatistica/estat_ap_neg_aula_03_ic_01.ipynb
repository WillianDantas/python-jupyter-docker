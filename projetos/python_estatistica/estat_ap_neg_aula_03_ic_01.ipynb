{
 "cells": [
  {
   "cell_type": "markdown",
   "metadata": {
    "id": "08GBSVzuw6oX"
   },
   "source": [
    "Uma cidade tem uma população de **10.000 habitantes**. Foi realizado um censo e se observou que a média das idades dessas pessoas era de **37 anos** com desvio padrão de **5 anos**. Caso seja selecionado uma **amostra de  100 pessoas**, qual é a probabilidade da média das idades dessa amostra pertencer ao intervalo **[36,5 ; 37,5]**? \n",
    "E se forem selecionadas **400** pessoas em vez de **100** qual seria o valor dessa probabilidade?\n"
   ]
  },
  {
   "cell_type": "code",
   "execution_count": 1,
   "metadata": {
    "id": "Aa1QDCfQwiZi"
   },
   "outputs": [],
   "source": [
    "#!pip install openpyxl --upgrade\n",
    "#!pip install pandas --upgrade\n",
    "import numpy as np\n",
    "import matplotlib.pyplot as plt\n",
    "from numpy.random import seed\n",
    "from numpy.random import normal\n",
    "from scipy import stats\n",
    "from scipy.stats import norm\n",
    "import math"
   ]
  },
  {
   "cell_type": "markdown",
   "metadata": {
    "id": "O4f4t47mw4_o"
   },
   "source": [
    "CÁLCULO DA PROBABILIDADE PARA n = 100 (tamanho da amostra)"
   ]
  },
  {
   "cell_type": "code",
   "execution_count": 8,
   "metadata": {
    "id": "u_iK8rxcqDee"
   },
   "outputs": [],
   "source": [
    "mu = 37                   # MÉDIA NA POPULAÇÃO\n",
    "dp= 5                     # DESVIO PADRÀO DA POPULAÇÃO  \n",
    "n = 100                   # TAMANHO DA AMOSTRA\n",
    "li = 36.5                 # LIMITE TNFERIOR DO INTERVALO \n",
    "ls = 37.5                 # LIMITE SUPERIOR DO INTERVALO"
   ]
  },
  {
   "cell_type": "markdown",
   "metadata": {
    "id": "ZFNMII3oqaR0"
   },
   "source": [
    "CÁLCULO DE Z"
   ]
  },
  {
   "cell_type": "code",
   "execution_count": 9,
   "metadata": {
    "colab": {
     "base_uri": "https://localhost:8080/"
    },
    "id": "eLmrXA4cqZat",
    "outputId": "bbddd022-2304-462e-a419-5a333e64fcfc"
   },
   "outputs": [
    {
     "name": "stdout",
     "output_type": "stream",
     "text": [
      "Erro padrão: 0.5\n",
      "Valor de z: 1.0\n"
     ]
    }
   ],
   "source": [
    "  ep = dp/(math.sqrt(n))      # ERRO PADRÃO DAS MÉDIAS AMOSTRAIS\n",
    "  print(\"Erro padrão:\",ep)    # SE NÀO FOR AMOSTRA USAMOS O DESVIO PADRÃO DA POPULAÇÃO (5 anos)\n",
    "  z = (ls-mu)/ep              # VARIÁVEL NORMALIZADA\n",
    "  print(\"Valor de z:\",z)\n",
    "  "
   ]
  },
  {
   "cell_type": "markdown",
   "metadata": {
    "id": "7lnyOEYAzlXi"
   },
   "source": [
    "CÁLCULO DA PROBABILIDADE - POR DIFERENÇA"
   ]
  },
  {
   "cell_type": "code",
   "execution_count": 10,
   "metadata": {
    "colab": {
     "base_uri": "https://localhost:8080/"
    },
    "id": "soAGQ2bHsGUJ",
    "outputId": "27fe3bd0-049b-4aac-b7ca-5cc8b98b8d5b"
   },
   "outputs": [
    {
     "name": "stdout",
     "output_type": "stream",
     "text": [
      "p1= 0.84\n",
      "p2= 0.16\n",
      "Probabilidade intervalo: 0.68\n"
     ]
    }
   ],
   "source": [
    "p1 = norm.cdf(z,0,1)                      # PROBABILIDADE ATÉ  Z\n",
    "print(\"p1= {:.2f}\".format(p1))\n",
    "p2 = norm.cdf(-z,0,1)                     # PROBABILIDADE ATÉ -Z \n",
    "print(\"p2= {:.2f}\".format(p2))\n",
    "p=p1-p2\n",
    "print(\"Probabilidade intervalo: {:.2f}\".format(p))  # P = P1- P2"
   ]
  },
  {
   "cell_type": "markdown",
   "metadata": {
    "id": "BQKQmjMe1aKu"
   },
   "source": [
    "CÁLCULO DA PROBABILIDADE - USANDO A PROPRIEDADE DE SIMETRIA DA NORMAL"
   ]
  },
  {
   "cell_type": "code",
   "execution_count": 5,
   "metadata": {
    "colab": {
     "base_uri": "https://localhost:8080/"
    },
    "id": "7-h66i4r1Nkm",
    "outputId": "75ac5ac7-c18c-4a38-922e-ef382c327545"
   },
   "outputs": [
    {
     "name": "stdout",
     "output_type": "stream",
     "text": [
      "norm.cdf(-z): 0.15865525393145707\n",
      "norm.cdf(+z): 0.8413447460685429\n",
      "norm.sf(z):   0.15865525393145707\n",
      "50% - norm.sf(z): 0.3413447460685429\n",
      "Probabilidade intervalo: 0.68\n"
     ]
    }
   ],
   "source": [
    "print(\"norm.cdf(-z):\",norm.cdf(-z,0,1))         # PROBABILIDADE ATÉ -Z\n",
    "print(\"norm.cdf(+z):\",norm.cdf(+z,0,1))         # PROBABILIDADE ATÉ +Z\n",
    "print(\"norm.sf(z):  \",norm.sf(z))               # sf = 1 - cdf(z)\n",
    "print(\"50% - norm.sf(z):\", 0.5 - norm.sf(z))  # 50% - sf(z)  \n",
    "p=2*(0.5-norm.sf(z))\n",
    "print(\"Probabilidade intervalo: {:.2f}\".format(p))"
   ]
  },
  {
   "cell_type": "markdown",
   "metadata": {
    "id": "K66cRzsK2fEk"
   },
   "source": [
    "SOLUÇÃO DA PROBABILIDADE PARA n = 400 (tamanho da amostra)"
   ]
  },
  {
   "cell_type": "markdown",
   "metadata": {
    "id": "dXGizRde2uMr"
   },
   "source": [
    "CÁLCULO DE Z"
   ]
  },
  {
   "cell_type": "code",
   "execution_count": 6,
   "metadata": {
    "colab": {
     "base_uri": "https://localhost:8080/"
    },
    "id": "cAHR6r492k2S",
    "outputId": "98116140-6ae2-4cd9-b0bd-6609fac36dfa"
   },
   "outputs": [
    {
     "name": "stdout",
     "output_type": "stream",
     "text": [
      "0.25\n",
      "2.0\n"
     ]
    }
   ],
   "source": [
    "n =400           \n",
    "ep = dp/(math.sqrt(n))      # ERRO PADRÀO DAS MÉDIAS AMOSTRAIS\n",
    "print(ep)\n",
    "z = (ls-mu)/ep              # VARIÁVEL NORMALIZADA\n",
    "print(z)"
   ]
  },
  {
   "cell_type": "markdown",
   "metadata": {
    "id": "bi4_ukg43Tk_"
   },
   "source": [
    "CÁLCULO DA PROBABILIDADE n = 400 - USANDO A PROPRIEDADE DE SIMETRIA DA NORMAL"
   ]
  },
  {
   "cell_type": "code",
   "execution_count": 7,
   "metadata": {
    "colab": {
     "base_uri": "https://localhost:8080/"
    },
    "id": "6ZSOXNCc27LL",
    "outputId": "9b3a7dac-bfd6-4b68-bc49-ce7d8c6da3ac"
   },
   "outputs": [
    {
     "name": "stdout",
     "output_type": "stream",
     "text": [
      "Probabilidade: 0.95\n"
     ]
    }
   ],
   "source": [
    "p=2*(0.5-norm.sf(z))\n",
    "print(\"Probabilidade: {:.2f}\".format(p))"
   ]
  },
  {
   "cell_type": "markdown",
   "metadata": {
    "id": "qGOq4W4r5628"
   },
   "source": [
    "POPULAÇÃO N = 10.000\n",
    "* n1 = 100 fa1 = 100/10.000 = 1%\n",
    "* n2 = 400 fa2 = 400/10.000 = 4% "
   ]
  },
  {
   "cell_type": "markdown",
   "metadata": {
    "id": "zOnIHL235L_v"
   },
   "source": [
    "REFAÇA ESSE EXERCÍCIO  \n",
    "* CRIE UMA FUNÇÃO PARA O CÁCULO DA PROBABILIDADE\n",
    "* QUAIS VALORES VOCÊ PASSARIA COMO PARÂMETRO?\n",
    "\n"
   ]
  },
  {
   "cell_type": "markdown",
   "metadata": {
    "id": "wETrEw2H61mz"
   },
   "source": [
    "E O **ERRO DE ESTIMAÇÃO** EM CADA CASO? \n",
    "* VOCÊ JÁ PENSOU SOBRE ESSE ASSUNTO? \n",
    "* É POSSÍVEL DETERMINAR ESSE ERRO?\n",
    "* QUAIS PARÂMETROS TÊM INFLUÊNCIA NO ERRO?\n",
    "* ATÉ QUE PONTO ESSE ERRO É ACEITÁVEL?\n",
    "* QUAL O LIMITE PARA ESSE ERRO? \n",
    "* QUAL O COMPROMISSO COM O CLIENTE, ESTÁ NO CONTRATO DE PRESTAÇÃO DE SERVIÇO?\n",
    "* O QUE DIZ A TEORIA?\n",
    "\n",
    "\n"
   ]
  }
 ],
 "metadata": {
  "colab": {
   "provenance": []
  },
  "kernelspec": {
   "display_name": "Python 3 (ipykernel)",
   "language": "python",
   "name": "python3"
  },
  "language_info": {
   "codemirror_mode": {
    "name": "ipython",
    "version": 3
   },
   "file_extension": ".py",
   "mimetype": "text/x-python",
   "name": "python",
   "nbconvert_exporter": "python",
   "pygments_lexer": "ipython3",
   "version": "3.9.7"
  }
 },
 "nbformat": 4,
 "nbformat_minor": 4
}
