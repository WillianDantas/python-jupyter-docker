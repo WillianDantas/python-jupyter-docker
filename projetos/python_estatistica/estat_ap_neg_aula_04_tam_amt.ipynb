{
 "cells": [
  {
   "cell_type": "markdown",
   "metadata": {
    "id": "tCt-ryVTjjQD"
   },
   "source": [
    "UNICARIOCA - PÓS GRADUAÇÃO EM CIÊNCIA DE DADOS\n",
    "\n",
    "ESTATÍSTICA APLICADA A NEGÓCIOS - DETERMINAÇÃO TAMANHO DE AMOSTRA\n",
    "\n",
    "Manuel Martins"
   ]
  },
  {
   "cell_type": "code",
   "execution_count": 2,
   "metadata": {
    "id": "Yd9MoGCKMlKo"
   },
   "outputs": [],
   "source": [
    "import numpy as np\n",
    "from scipy.stats import t\n",
    "from scipy.stats import norm"
   ]
  },
  {
   "cell_type": "code",
   "execution_count": 3,
   "metadata": {
    "id": "1OdRWnMnsltd"
   },
   "outputs": [],
   "source": [
    "#----------------------------------------------------------------\n",
    "# ROTINA GENÉRICA - TAMANHO DE AMOSTRA - PARÂMETROS N / e(erro)\n",
    "#----------------------------------------------------------------\n",
    "def tamanhoAmostra(e,N): \n",
    "    n = (N / (1 + (N*(e**2)))) \n",
    "    return (n) "
   ]
  },
  {
   "cell_type": "code",
   "execution_count": 4,
   "metadata": {
    "colab": {
     "base_uri": "https://localhost:8080/"
    },
    "id": "xzGahXrbg7g1",
    "outputId": "b5eaef6e-bbc5-45ef-a8c5-35353d1eca6c"
   },
   "outputs": [
    {
     "name": "stdout",
     "output_type": "stream",
     "text": [
      "Tamanho Amostra: 364\n"
     ]
    }
   ],
   "source": [
    "e = 0.05     # ERRO  / 95% CONFIANÇA\n",
    "N = 4000     # POPULAÇÃO  \n",
    "print(\"Tamanho Amostra: {:.0f}\".format(tamanhoAmostra(e, N))) \n"
   ]
  },
  {
   "cell_type": "code",
   "execution_count": 5,
   "metadata": {
    "id": "skDbuteQkv6H"
   },
   "outputs": [],
   "source": [
    "#-------------------------------------------------------------------------------------------\n",
    "# ROTINA TAMANHO DE AMOSTRA ESPECÍFICA - USA VÁRIOS PARÂMETROS \n",
    "# PARÂMETROS NÍVEL DE CONFIANÇA(nc)/ DP(s) / ERRO / p=0 estima média / p<>0 estima proporção\n",
    "#-------------------------------------------------------------------------------------------\n",
    "def namt(nc,s,erro,p):\n",
    "    z = abs(norm.ppf(0.5-nc/2))\n",
    "    if (p==0):                  # p = 0 estima média\n",
    "      n = (z*s/erro)**2\n",
    "    else:\n",
    "      n = ((z/erro)**2)*p*(1-p) # p <> 0 estima proporção\n",
    "    print(\"Nível de Confiança:\", nc)\n",
    "    print(\"z: {:.2f}\".format(z))\n",
    "    print(\"Desvio Padrão Amostral:\", s)\n",
    "    return (n)\n"
   ]
  },
  {
   "cell_type": "markdown",
   "metadata": {
    "id": "6liNqe1s1ZiA"
   },
   "source": [
    "01- Suponha que os **salários** dos trabalhadores numa certa região sejam descritos por uma variável populacional com média desconhecida e desvio padrão 200,00  Para se garantir, com 95% de probabilidade, que o valor da média amostral dos salários não diferirá do valor da média populacional por mais de 10,00 a amostra aleatória simples deverá ter no mínimo, aproximadamente, o seguinte tamanho:"
   ]
  },
  {
   "cell_type": "code",
   "execution_count": 6,
   "metadata": {
    "colab": {
     "base_uri": "https://localhost:8080/"
    },
    "id": "aaIOhNDM1pDX",
    "outputId": "c37b1381-3d46-4c10-ddfd-e2244673d866"
   },
   "outputs": [
    {
     "name": "stdout",
     "output_type": "stream",
     "text": [
      "Nível de Confiança: 0.95\n",
      "z: 1.96\n",
      "Desvio Padrão Amostral: 200\n",
      "Tamanho Amostra: 1537\n"
     ]
    }
   ],
   "source": [
    "nc = 0.95 \n",
    "s = 200\n",
    "erro = 10\n",
    "p=0\n",
    "print(\"Tamanho Amostra: {:.0f}\".format(namt(nc,s,erro,p)))\n"
   ]
  },
  {
   "cell_type": "markdown",
   "metadata": {
    "id": "YhMeViCY2H-P"
   },
   "source": [
    "02- Se o **desvio padrão populacional é igual a 1,2** qual o **tamanho de uma amostra aleatória simples** para que se possa garantir, com **96% de confiança**, que o valor da média amostral não diferirá do da média populacional **por mais de 0,05**."
   ]
  },
  {
   "cell_type": "code",
   "execution_count": null,
   "metadata": {
    "colab": {
     "base_uri": "https://localhost:8080/"
    },
    "id": "DIQBHJ0u2U3G",
    "outputId": "3b7a18f2-ea72-412f-d3b8-84454449726d"
   },
   "outputs": [
    {
     "name": "stdout",
     "output_type": "stream",
     "text": [
      "Nível de Confiança: 0.96\n",
      "z: 2.05\n",
      "Desvio Padrão Amostral: 1.2\n",
      "Tamanho Amostra: 2430\n"
     ]
    }
   ],
   "source": [
    "nc = 0.96 \n",
    "s = 1.2\n",
    "erro = 0.05\n",
    "p = 0\n",
    "print(\"Tamanho Amostra: {:.0f}\".format(namt(nc,s,erro,p)))\n"
   ]
  },
  {
   "cell_type": "markdown",
   "metadata": {
    "id": "y_vKISIJazlb"
   },
   "source": [
    "OBSERVAÇÕES: \n",
    "* NA DETERMINAÇÃO DE TAMANHO DE AMOSTRA USA-SE SEMPRE OS VALORES DA **DISTRIBUIÇÃO NORMAL(Z)**\n",
    "* REALIZE ALGUMAS SIMULAÇÕES E OBSERVE COMO O **TAMANHO DA AMOSTRA (n)** VARIA COM OS VALORES DO **ERRO DESEJADO** (**erro**) E COM A **DISPERSÃO** (DESVIO PADRÃO - **s**)\n",
    "\n",
    "\n"
   ]
  },
  {
   "cell_type": "markdown",
   "metadata": {
    "id": "uu2ci8tTlcBs"
   },
   "source": [
    "### EXEMPLOS COM PROPORÇÃO"
   ]
  },
  {
   "cell_type": "markdown",
   "metadata": {
    "id": "v-wIi4VSl8B6"
   },
   "source": [
    "Exemplo-01- Para estimar a proporção de cura de um medicamento antiparasitário realizou-se um experimento clínico, aplicando o medicamento em n doentes escolhidos ao acaso. Nesta amostra foi constatado que **80% dos doentes foram curados**. Com base nestas informações e utilizando o Teorema Central do limite, qual **o valor de n, para que o erro cometido na estimação seja no máximo 0,08, com confiança de 89%**?"
   ]
  },
  {
   "cell_type": "code",
   "execution_count": null,
   "metadata": {
    "colab": {
     "base_uri": "https://localhost:8080/"
    },
    "id": "baiCf4_7jWVB",
    "outputId": "a3b37a59-b2f7-43c9-ef14-62756422cd7c"
   },
   "outputs": [
    {
     "name": "stdout",
     "output_type": "stream",
     "text": [
      "Nível de Confiança: 0.89\n",
      "z: 1.60\n",
      "Desvio Padrão Amostral: 1\n",
      "Tamanho Amostra: 64\n"
     ]
    }
   ],
   "source": [
    "nc = 0.89 \n",
    "s = 1\n",
    "erro = 0.08\n",
    "p = 0.8\n",
    "print(\"Tamanho Amostra: {:.0f}\".format(namt(nc,s,erro,p)))\n"
   ]
  },
  {
   "cell_type": "markdown",
   "metadata": {
    "id": "kOPxuBPmCVwI"
   },
   "source": [
    "Exemplo-02 - Uma amostra aleatória de tamanho 400 revelou que 64% dos torcedores brasileiros acham que conquistaremos o hexacampeonato mundial de futebol. Qual **o intervalo de 95% de confiança para a proporção de torcedores** na população que **acreditam no hexacampeonato**? "
   ]
  },
  {
   "cell_type": "code",
   "execution_count": null,
   "metadata": {
    "colab": {
     "base_uri": "https://localhost:8080/"
    },
    "id": "jbN0MtYcCel4",
    "outputId": "70d8ef5c-b082-4960-e587-01893b6cfe00"
   },
   "outputs": [
    {
     "name": "stdout",
     "output_type": "stream",
     "text": [
      "LI: 59.30% LS: 68.70%\n"
     ]
    }
   ],
   "source": [
    "n = 400\n",
    "p = 0.64\n",
    "nc = 0.95 \n",
    "z = abs(norm.ppf(0.5-nc/2))\n",
    "li = p - z*np.sqrt(p*(1-p)/n)\n",
    "ls = p + z*np.sqrt(p*(1-p)/n)\n",
    "print(\"LI: {:.2f}%\".format(100*li),\"LS: {:.2f}%\".format(100*ls))"
   ]
  },
  {
   "cell_type": "markdown",
   "metadata": {
    "id": "CFLgTblWJ5F_"
   },
   "source": [
    "Exemplo-03 - Em uma pesquisa de mercado foi estimado que **50% das pessoas entrevistadas preferem a marca X de um produto**. Se, com base no resultado dessa pesquisa, **quisermos fazer outra** para estimar novamente esta preferência, qual **o tamanho de amostra  aleatória simples** necessária, para que tenhamos um **erro amostral de 2%** com probabilidade de **95%**?"
   ]
  },
  {
   "cell_type": "code",
   "execution_count": null,
   "metadata": {
    "colab": {
     "base_uri": "https://localhost:8080/"
    },
    "id": "Dge9paICLdlr",
    "outputId": "ee0d2460-2449-429b-89cb-3ea192c17d2d"
   },
   "outputs": [
    {
     "name": "stdout",
     "output_type": "stream",
     "text": [
      "Nível de Confiança: 0.95\n",
      "z: 1.96\n",
      "Desvio Padrão Amostral: 1\n",
      "Tamanho Amostra: 2401\n"
     ]
    }
   ],
   "source": [
    "nc = 0.95 \n",
    "s = 1\n",
    "erro = 0.02\n",
    "p = 0.5\n",
    "print(\"Tamanho Amostra: {:.0f}\".format(namt(nc,s,erro,p)))"
   ]
  },
  {
   "cell_type": "markdown",
   "metadata": {
    "id": "wNz7UcKCMYpB"
   },
   "source": [
    "Exemplo-04- Um engenheiro encarregado do controle de qualidade deseja estimar a **proporção p de lâmpadas defeituosas** de um lote, com base numa amostra de tamanho suficientemente grande. Sabe-se, com base em experiências anteriores, que **p deve estar próxima de 0,5**. Que tamanho deve ter a amostra se ele deseja que o **erro de estimação seja no máximo 0,02, com confiança de 90%?**"
   ]
  },
  {
   "cell_type": "code",
   "execution_count": 7,
   "metadata": {
    "colab": {
     "base_uri": "https://localhost:8080/"
    },
    "id": "1LaXRjIjMnQw",
    "outputId": "cd6430e9-2164-4f71-c16b-8da8631fe68f"
   },
   "outputs": [
    {
     "name": "stdout",
     "output_type": "stream",
     "text": [
      "Nível de Confiança: 0.9\n",
      "z: 1.64\n",
      "Desvio Padrão Amostral: 1\n",
      "Tamanho Amostra: 1691\n"
     ]
    }
   ],
   "source": [
    "nc = 0.90 \n",
    "s = 1\n",
    "erro = 0.02\n",
    "p = 0.5\n",
    "print(\"Tamanho Amostra: {:.0f}\".format(namt(nc,s,erro,p)))"
   ]
  },
  {
   "cell_type": "code",
   "execution_count": null,
   "metadata": {},
   "outputs": [],
   "source": []
  }
 ],
 "metadata": {
  "colab": {
   "provenance": []
  },
  "kernelspec": {
   "display_name": "Python 3 (ipykernel)",
   "language": "python",
   "name": "python3"
  },
  "language_info": {
   "codemirror_mode": {
    "name": "ipython",
    "version": 3
   },
   "file_extension": ".py",
   "mimetype": "text/x-python",
   "name": "python",
   "nbconvert_exporter": "python",
   "pygments_lexer": "ipython3",
   "version": "3.9.7"
  }
 },
 "nbformat": 4,
 "nbformat_minor": 4
}
