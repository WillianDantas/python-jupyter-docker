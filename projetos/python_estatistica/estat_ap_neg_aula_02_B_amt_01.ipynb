{
 "cells": [
  {
   "cell_type": "markdown",
   "metadata": {
    "id": "PFdfcmichTKw"
   },
   "source": [
    "**EXEMPLO_01 - ARQUIVO - EST_APLIC_NEG_AULA_02_B.pdf**"
   ]
  },
  {
   "cell_type": "markdown",
   "metadata": {
    "id": "R4xL0h05g7Yy"
   },
   "source": [
    "Exemplo-1 Uma amostra de 40 crianças do sexo masculino aos quatro anos tem média de altura igual a 100,0 cm e desvio padrão 5,0 cm. Qual a probabilidade de se obter uma amostra de 40 elementos com média menor que 98 cm. "
   ]
  },
  {
   "cell_type": "code",
   "execution_count": 1,
   "metadata": {
    "id": "BAx0o54DgFkS"
   },
   "outputs": [],
   "source": [
    "import numpy as np\n",
    "import statistics as st\n",
    "import math as mat\n",
    "from scipy.stats import norm\n"
   ]
  },
  {
   "cell_type": "code",
   "execution_count": 2,
   "metadata": {
    "id": "kGo-a3y-gMFU"
   },
   "outputs": [],
   "source": [
    "media=100           # Média X\n",
    "x=98                # Variável Original \n",
    "s=5                 # Desvio Padrão \n",
    "n=40                # Tamanho Amostra\n"
   ]
  },
  {
   "cell_type": "code",
   "execution_count": 3,
   "metadata": {
    "colab": {
     "base_uri": "https://localhost:8080/"
    },
    "id": "L-7IPETlgPlz",
    "outputId": "439ca582-3166-4274-8855-6216fb395714"
   },
   "outputs": [
    {
     "name": "stdout",
     "output_type": "stream",
     "text": [
      "-2.5298221281347035\n"
     ]
    }
   ],
   "source": [
    "ep=s/mat.sqrt(n)    # Erro padrão das médias amostrais\n",
    "z=(x-media)/(ep)    # Variável Transformada \n",
    "print(z) \n",
    "#z: -2.5298  \n"
   ]
  },
  {
   "cell_type": "code",
   "execution_count": 4,
   "metadata": {
    "colab": {
     "base_uri": "https://localhost:8080/"
    },
    "id": "hVNAFYA8gQm6",
    "outputId": "63aa7a67-b2ef-4059-c8b6-af3f2e71a57c"
   },
   "outputs": [
    {
     "name": "stdout",
     "output_type": "stream",
     "text": [
      "Probabilidade(p1): 0.57%\n",
      "Probabilidade(p2): 0.57%\n"
     ]
    }
   ],
   "source": [
    "p1=norm.cdf(z) \t          # Recebe z(quantil)devolve probabilidade  - AQUI Z NORMAL PADRÃO - MÉDIA=0 DP=1\n",
    "p2=norm.cdf(x,media,ep)   # Recebe x devolve probabilidade          - AQUI X NORMAL (MÉDIA E ERRO PADRÃO) \n",
    "print(\"Probabilidade(p1): {:.2f}%\".format(100*p1))   \n",
    "print(\"Probabilidade(p2): {:.2f}%\".format(100*p2))\n"
   ]
  },
  {
   "cell_type": "code",
   "execution_count": null,
   "metadata": {},
   "outputs": [],
   "source": []
  }
 ],
 "metadata": {
  "colab": {
   "provenance": []
  },
  "kernelspec": {
   "display_name": "Python 3 (ipykernel)",
   "language": "python",
   "name": "python3"
  },
  "language_info": {
   "codemirror_mode": {
    "name": "ipython",
    "version": 3
   },
   "file_extension": ".py",
   "mimetype": "text/x-python",
   "name": "python",
   "nbconvert_exporter": "python",
   "pygments_lexer": "ipython3",
   "version": "3.9.7"
  }
 },
 "nbformat": 4,
 "nbformat_minor": 4
}
