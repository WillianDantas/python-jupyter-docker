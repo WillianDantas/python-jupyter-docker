{
 "cells": [
  {
   "cell_type": "markdown",
   "metadata": {
    "id": "UpcjGfp7BWUw"
   },
   "source": [
    "## UNICARIOCA - PÓS GRADUAÇÃO EM CIÊNCIA DE DADOS\n",
    "\n",
    "ESTATÍSTICA APLICADA A NEGÓCIOS - DISTRIBUIÇÃO NORMAL - aula_02_A \n",
    "\n",
    "Manuel Martins"
   ]
  },
  {
   "cell_type": "code",
   "execution_count": null,
   "metadata": {
    "id": "uvMBLHNSBVFK"
   },
   "outputs": [],
   "source": [
    "#!pip install openpyxl --upgrade  # SE PRECISAR DE UPGRADE\n",
    "#!pip install pandas --upgrade    # SE PRECISAR DE UPGRADE\n",
    "import numpy as np\n",
    "import matplotlib.pyplot as plt\n",
    "from numpy.random import seed\n",
    "from numpy.random import normal\n"
   ]
  },
  {
   "cell_type": "markdown",
   "metadata": {
    "id": "ROQj3Ju46xi9"
   },
   "source": [
    "# DISTRIBUIÇÃO NORMAL"
   ]
  },
  {
   "cell_type": "code",
   "execution_count": null,
   "metadata": {
    "colab": {
     "base_uri": "https://localhost:8080/",
     "height": 54
    },
    "id": "f8AxRqgKBf54",
    "outputId": "2b64ac00-0f13-4a91-9b65-7af4a5f1b8ec"
   },
   "outputs": [
    {
     "data": {
      "text/plain": [
       "<Figure size 1440x1440 with 0 Axes>"
      ]
     },
     "execution_count": 2,
     "metadata": {},
     "output_type": "execute_result"
    },
    {
     "data": {
      "text/plain": [
       "<Figure size 1440x1440 with 0 Axes>"
      ]
     },
     "metadata": {},
     "output_type": "display_data"
    }
   ],
   "source": [
    "#=============================================================\n",
    "#  DADOS PARA GERAÇÃO DE UMA AMOSTRA COM DISTRIBUIÇÃO NORMAL\n",
    "#=============================================================\n",
    "n = 100  # tamanho da amostra\n",
    "media = 5 # media populacional\n",
    "dp = 4    # desvio padrão populacional\n",
    "plt.figure(figsize=(20,20))"
   ]
  },
  {
   "cell_type": "code",
   "execution_count": null,
   "metadata": {
    "colab": {
     "base_uri": "https://localhost:8080/"
    },
    "id": "rOHLZjxdCHQO",
    "outputId": "ec4f8a4e-2840-4adb-d21b-c4067df8a613"
   },
   "outputs": [
    {
     "name": "stdout",
     "output_type": "stream",
     "text": [
      "3.681387764856311 3.681387764856311\n"
     ]
    }
   ],
   "source": [
    "#=================================================================================================================\n",
    "x = np.random.normal(media, dp, n)          # GERA UMA AMOSTRA COM UMA DISTRIBUIÇÃO NORMAL (media,dp,n) \n",
    "#=================================================================================================================\n",
    "x.mean()\n",
    "print(x)\n",
    "\n",
    "dados=x                       # CÓPIA DE X PARA DADOS\n",
    "print(x.mean(),dados.mean())  # MÉDIA X = MÉDIA DADOS \n",
    "print(x.std(),dados.std())    # DP X = DP DADOS\n",
    "\n"
   ]
  },
  {
   "cell_type": "code",
   "execution_count": null,
   "metadata": {
    "id": "LMMA-geHCaCE"
   },
   "outputs": [],
   "source": [
    "seed(1)     # ALTERNATIVA PARA GERAR UMA AMOSTRA FORNECENDO A SEMENTE-ENTRE 0 e 2^32 - 1 #\n",
    "n = 100     # tamanho da amostra\n",
    "media = 5   # media populacional\n",
    "dp = 4      # desvio padrão populacional\n",
    "dados = normal(loc=media, scale=dp, size=n) # GERA UMA DISTRIBUIÇÀO NORMAL (media,dp,tamanho n)\n",
    "print(\"dados: {}\".format(dados))\n",
    "dados.mean()\n",
    "dados.std()"
   ]
  },
  {
   "cell_type": "code",
   "execution_count": null,
   "metadata": {
    "id": "COAqysriIIbz"
   },
   "outputs": [],
   "source": [
    "from scipy import stats\n",
    "import math"
   ]
  },
  {
   "cell_type": "markdown",
   "metadata": {
    "id": "RaLhKwn5tyhL"
   },
   "source": [
    "CÁLCULO DAS ESTATÍSTICAS DA AMOSTRA"
   ]
  },
  {
   "cell_type": "code",
   "execution_count": null,
   "metadata": {
    "id": "qu9h5_3MFZYz"
   },
   "outputs": [],
   "source": [
    "media = dados.mean()\n",
    "dp=dados.std()\n",
    "var=dados.var()\n",
    "minimo = dados.min()\n",
    "maximo = dados.max()\n",
    "mediana = np.median(dados)   \n",
    "moda = stats.mode(dados)\n"
   ]
  },
  {
   "cell_type": "markdown",
   "metadata": {
    "id": "aS2yYQReQ0dp"
   },
   "source": [
    "IMPRESSÃO ESTATÍSTICAS DA AMOSTRA"
   ]
  },
  {
   "cell_type": "code",
   "execution_count": null,
   "metadata": {
    "colab": {
     "base_uri": "https://localhost:8080/"
    },
    "id": "UC20TyxeQus7",
    "outputId": "d72e1ec2-7a6b-42a0-d840-52ee4b96a30c"
   },
   "outputs": [
    {
     "name": "stdout",
     "output_type": "stream",
     "text": [
      "media:5.2423\n",
      "desvio padrão:3.5406\n",
      "variância:12.5360\n",
      "mínimo:-4.2062\n",
      "máximo:13.7423\n",
      "mediana:5.2563\n",
      "moda:[-4.20615479]; quantidade:[1]\n"
     ]
    }
   ],
   "source": [
    "print(\"media:{:.4f}\".format(media))\n",
    "print(\"desvio padrão:{:.4f}\".format(dp))\n",
    "print(\"variância:{:.4f}\".format(var))\n",
    "print(\"mínimo:{:.4f}\".format(minimo))\n",
    "print(\"máximo:{:.4f}\".format(maximo))\n",
    "print(\"mediana:{:.4f}\".format(mediana))\n",
    "print(\"moda:{}; quantidade:{}\".format(moda.mode,moda.count))"
   ]
  },
  {
   "cell_type": "markdown",
   "metadata": {
    "id": "7yKmODheRO8y"
   },
   "source": [
    "VALORES DE X PARA O GRÁFICO "
   ]
  },
  {
   "cell_type": "code",
   "execution_count": null,
   "metadata": {
    "id": "JYn0SJXcMDae"
   },
   "outputs": [],
   "source": [
    "x = np.linspace(media - 3*dp, media + 3*dp, 100)   # CRIA 100 VALORES PARA X NO INTERVALO [media-3*dp,media+3*dp]\n",
    "print(x)                                          # ESPERIMENTE UZAR X = 5 , 10, 50 100, 1000... OBSERVE O GRÁFICO!\n",
    "min(x)\n",
    "max(x)\n",
    "x.mean()\n",
    "vetx=stats.norm.pdf(x,media,dp)                   # VALORES DA FUNÇÃO DISTRIBUIÇÀO PARA OS VALORES DE X \n",
    "print(vetx)\n",
    "plt.plot((x))                                     # OBSERVE O GRÁFICO DDOS VALORES DE X (CRIADOS PELO LINESPACE\n",
    "plt.plot((vetx))                                  # GRÁFICO DE VETX   \n",
    "\n"
   ]
  },
  {
   "cell_type": "markdown",
   "metadata": {
    "id": "D94PuhqzRoFx"
   },
   "source": [
    "FONTES "
   ]
  },
  {
   "cell_type": "code",
   "execution_count": null,
   "metadata": {
    "id": "h_kJ-BBe-wjx"
   },
   "outputs": [],
   "source": [
    "font1 = {'family':'serif','color':'blue','size':12}\n",
    "font2 = {'family':'serif','color':'darkred','size':15}"
   ]
  },
  {
   "cell_type": "markdown",
   "metadata": {
    "id": "FIutYhsbRrPo"
   },
   "source": [
    "IMPRESSÃO DOS GRÁFICOS"
   ]
  },
  {
   "cell_type": "code",
   "execution_count": null,
   "metadata": {
    "colab": {
     "base_uri": "https://localhost:8080/",
     "height": 283
    },
    "id": "v1aekXmV2kqh",
    "outputId": "ecb3aa6e-cac3-459a-f2bf-9176b7721a50"
   },
   "outputs": [
    {
     "data": {
      "text/plain": [
       "[<matplotlib.lines.Line2D at 0x7f9e074c2d90>]"
      ]
     },
     "execution_count": 148,
     "metadata": {},
     "output_type": "execute_result"
    },
    {
     "data": {
      "image/png": "[encoded data removed]",
      "text/plain": [
       "<Figure size 432x288 with 1 Axes>"
      ]
     },
     "metadata": {
      "needs_background": "light"
     },
     "output_type": "display_data"
    }
   ],
   "source": [
    "plt.xlabel(\"Valores de x\", fontdict = font1)      # EIXO X \n",
    "plt.ylabel(\"Probbilidade\", fontdict = font1)      # EIXO Y\n",
    "plt.plot(vetx)                                    # PLOTA OS VALORES DE VETX  \n",
    "plt.plot(x, stats.norm.pdf(x,media,dp))           # PLOTA OS VALORES DE VETX NO INTERVALO GERADO\n"
   ]
  },
  {
   "cell_type": "markdown",
   "metadata": {
    "id": "qgyIBSTaTBeC"
   },
   "source": [
    "plot(x, y)        # plot x and y using default line style and color\n",
    "\n",
    "plot(x, y, 'bo')  # plot x and y using blue circle markers\n",
    "\n",
    "plot(y)           # plot y using x as index array 0..N-1\n",
    "\n",
    "plot(y, 'r+')     # ditto, but with red plusses\n",
    "\n",
    "[MATPLOTLIB_MANUAL](https://matplotlib.org/stable/api/_as_gen/matplotlib.pyplot.plot.html)"
   ]
  },
  {
   "cell_type": "markdown",
   "metadata": {
    "id": "BnGjXNwY4AEb"
   },
   "source": [
    "TESTE DE NORMALIDADE\n",
    "https://andersonmdcanteli.github.io/Shapiro-Wilk/ "
   ]
  },
  {
   "cell_type": "markdown",
   "metadata": {
    "id": "g05Z400Gr65r"
   },
   "source": [
    "CÁLCULO DA VARIÁVEL TRANSFORMADA    z = (x-médiax)dpx"
   ]
  },
  {
   "cell_type": "code",
   "execution_count": null,
   "metadata": {
    "id": "Cn26Sh8rsCSk"
   },
   "outputs": [],
   "source": [
    "# ------------------------------------------------------------------------------------------\n",
    "# CÁLCULO DA VARIÁVEL TRANSFORMADA Z = (X - MEDIAX) / DPX - NORMAL PADRÃO MÉDIA=0 VAR/DP=1\n",
    "# ------------------------------------------------------------------------------------------\n",
    "z=(dados-media)/dp   # NO NOSSO EXEMPLO X = DADOS\n",
    "print(z)\n",
    "mediaz=z.mean()\n",
    "varz=z.var()\n"
   ]
  },
  {
   "cell_type": "code",
   "execution_count": null,
   "metadata": {
    "colab": {
     "base_uri": "https://localhost:8080/",
     "height": 338
    },
    "id": "ssQnXOAdXiOT",
    "outputId": "f6eceffe-fc5e-482b-a398-038d545abb69"
   },
   "outputs": [
    {
     "name": "stdout",
     "output_type": "stream",
     "text": [
      "mediaz: 0.0000\n",
      "varz: 1.0000\n",
      "dpz: 1.0000\n"
     ]
    },
    {
     "data": {
      "text/plain": [
       "[<matplotlib.lines.Line2D at 0x7f9e074374d0>]"
      ]
     },
     "execution_count": 149,
     "metadata": {},
     "output_type": "execute_result"
    },
    {
     "data": {
      "image/png": "[encoded data removed]",
      "text/plain": [
       "<Figure size 432x288 with 1 Axes>"
      ]
     },
     "metadata": {
      "needs_background": "light"
     },
     "output_type": "display_data"
    }
   ],
   "source": [
    "# ESTATÍSTICAS DE Z (NORMAL PADRÃO) - IMPRESSÃO - GRÁFICO\n",
    "print(\"mediaz: {:.4f}\".format(mediaz))\n",
    "print(\"varz: {:.4f}\".format(varz))\n",
    "dpz = math.sqrt(varz)\n",
    "print(\"dpz: {:.4f}\".format(dpz))\n",
    "plt.plot(z,)"
   ]
  },
  {
   "cell_type": "markdown",
   "metadata": {
    "id": "9BQfUvINYGmE"
   },
   "source": [
    "GRÁFICO DE Z - FUNÇÃO DENSIDADE"
   ]
  },
  {
   "cell_type": "code",
   "execution_count": null,
   "metadata": {
    "colab": {
     "base_uri": "https://localhost:8080/",
     "height": 283
    },
    "id": "cmsf17kdsL29",
    "outputId": "bb06561f-ec30-4633-91ae-877dbb9af7a6"
   },
   "outputs": [
    {
     "data": {
      "text/plain": [
       "[<matplotlib.lines.Line2D at 0x7f9e07308a50>]"
      ]
     },
     "execution_count": 153,
     "metadata": {},
     "output_type": "execute_result"
    },
    {
     "data": {
      "image/png": "[encoded data removed]",
      "text/plain": [
       "<Figure size 432x288 with 1 Axes>"
      ]
     },
     "metadata": {
      "needs_background": "light"
     },
     "output_type": "display_data"
    }
   ],
   "source": [
    "z = np.linspace(mediaz - 3*dpz, mediaz + 3*dpz, 100)\n",
    "plt.xlabel(\"Valores de z\", fontdict = font1)\n",
    "plt.ylabel(\"Probbilidade\", fontdict = font1)\n",
    "plt.title('Normal Padrão')            \n",
    "plt.plot(z, stats.norm.pdf(z,mediaz,dpz))\n",
    "plt.show()"
   ]
  },
  {
   "cell_type": "markdown",
   "metadata": {
    "id": "Mw6gEwesM8O3"
   },
   "source": [
    "ALGUMAS ROTINAS GRÁFICAS E MANUAIS\n"
   ]
  },
  {
   "cell_type": "code",
   "execution_count": null,
   "metadata": {
    "id": "fpleN2G_DRy4"
   },
   "outputs": [],
   "source": [
    "# ROTINAS GRÁFICAS\n",
    "import matplotlib.pyplot as plt"
   ]
  },
  {
   "cell_type": "markdown",
   "metadata": {
    "id": "nt7yjUy0MDsB"
   },
   "source": [
    "[NUMPY.LINSPACE_MANUAL]( https://numpy.org/doc/stable/reference/generated/numpy.linspace.html)"
   ]
  },
  {
   "cell_type": "markdown",
   "metadata": {
    "id": "H4oO89GSPQWX"
   },
   "source": [
    "[NUMPY.ZEROS_MANUAL](https://numpy.org/doc/stable/reference/generated/numpy.zeros.html)"
   ]
  },
  {
   "cell_type": "markdown",
   "metadata": {
    "id": "XtP_bYbmYOsE"
   },
   "source": [
    "[MATPLOTLIB_INFINITE_LINES](https://matplotlib.org/stable/gallery/pyplots/axline.html#sphx-glr-gallery-pyplots-axline-py)"
   ]
  },
  {
   "cell_type": "markdown",
   "metadata": {
    "id": "_7m5PxMk1b02"
   },
   "source": [
    "### FUNÇÕES PARA CÁLCULO DE PROBABILIDADE E QUANTIS"
   ]
  },
  {
   "cell_type": "code",
   "execution_count": null,
   "metadata": {
    "id": "MfXVlvn3icKt"
   },
   "outputs": [],
   "source": [
    "#---------------------------------------------------------\n",
    "# FUNÇÕES PARA CÁLCULO DE PROBABILIDADE E QUANTIS\n",
    "#---------------------------------------------------------\n",
    "from scipy.stats import norm\n",
    "#print(norm.cdf(norm.ppf(0.25))) \n",
    "#print(norm.ppf(norm.cdf(0.25)))\n"
   ]
  },
  {
   "cell_type": "code",
   "execution_count": null,
   "metadata": {
    "colab": {
     "base_uri": "https://localhost:8080/"
    },
    "id": "9dOeaWVzkbXc",
    "outputId": "44c5c918-ec90-4cbf-c3f9-457e7245e507"
   },
   "outputs": [
    {
     "data": {
      "text/plain": [
       "0.8413447460685429"
      ]
     },
     "execution_count": 156,
     "metadata": {},
     "output_type": "execute_result"
    }
   ],
   "source": [
    "norm.cdf(1)           # RECEBE QUANTIL DEVOLVE PROBABILIDADE ATÉ O QUANTIL\n",
    "norm.cdf(1,0,1)       # (quantil,média,dp)\n",
    "\n",
    "norm.ppf(0.84)        # RECEBE PROBABILIDADE DEVOLVE QUANTIL\n",
    "norm.ppf(0.55,0,1)    # (probabilidade,média,dp)\n"
   ]
  },
  {
   "cell_type": "code",
   "execution_count": null,
   "metadata": {
    "id": "rZbLN7uqF_5z"
   },
   "outputs": [],
   "source": [
    "norm.sf(1)            # RECEBE QUANTIL DEVOLVE PROBABILIDADE  SF = 1 - CDF \n",
    "norm.sf(0,0,1)        # (quantil,média,dp)\n",
    "\n",
    "norm.sf(0)            # DEVOLVE PROBABILIDADE ACIMA DE X\n",
    "1-norm.cdf(0)           # DEVOLVE PROBABILIDADE ATÉ X\n",
    "norm.cdf(-1)\n",
    "1-norm.cdf(1)\n",
    "\n",
    "norm.cdf(1)-norm.cdf(-1)  # 68% das Observações estão entre (média + 1DP) e (média - 1DP)  \n",
    "#d = norm.sf(1)\n",
    "#print(d)\n",
    "#print(\"q1:{:.1f}\".format(norm.ppf(d)))  # RECEBE PROBABILIDADE DEVOLVE QUANTIL\n",
    "\n",
    "norm.ppf(norm.cdf(0.25))         # RECEBE PROBABILIDADE DEVOLVE QUANTIL\n"
   ]
  },
  {
   "cell_type": "code",
   "execution_count": null,
   "metadata": {
    "id": "MmyDsTbn1p1M"
   },
   "outputs": [],
   "source": [
    "norm.sf(1)            # DEVOLVE PROBABILIDADE ACIMA DE X\n",
    "norm.cdf(1)           # DEVOLVE PROBABILIDADE ATÉ X\n",
    "\n",
    "norm.sf(1)+norm.cdf(1)\n"
   ]
  },
  {
   "cell_type": "markdown",
   "metadata": {
    "id": "oL-pNYJr1n81"
   },
   "source": [
    "EXERCÍCIOS DO MATERIAL TEÓRICO RESOLVIDOS EM PYTHON \n",
    "*  **EST_APLIC_NEG_AULA_02_A.pdf**\n",
    "\n"
   ]
  },
  {
   "cell_type": "code",
   "execution_count": null,
   "metadata": {
    "id": "AiU1qDrpfOL8"
   },
   "outputs": [],
   "source": [
    "#---------------------------------------------------------\n",
    "# FUNÇÕES PARA CÁLCULO DE PROBABILIDADE E QUANTIS\n",
    "#---------------------------------------------------------\n",
    "from scipy.stats import norm"
   ]
  },
  {
   "cell_type": "markdown",
   "metadata": {
    "id": "qeleDywqJdi7"
   },
   "source": [
    "Exemplo-01: Seja X a variável aleatória que representa os diâmetros de parafusos produzidos por determinada máquina. Suponha que essa variável tenha distribuição normal com média =2,0 cm e desvio padrão = 0,04 cm.\n",
    "\n",
    "*   a) um parafuso produzido pela máquina ter um diâmetro maior que 2,0 cm.\n",
    "*   b) um parafuso produzido pela máquina ter um diâmetro maior do que 2,04 cm. \n",
    "*   c) um parafuso produzido pela máquina ter um diâmetro maior do que \n",
    "2,05 cm.\n",
    "\n",
    "\n",
    "\n"
   ]
  },
  {
   "cell_type": "code",
   "execution_count": null,
   "metadata": {
    "colab": {
     "base_uri": "https://localhost:8080/"
    },
    "id": "R3MRQNaV1sZK",
    "outputId": "423fe78d-443d-4f32-9808-9756162515c4"
   },
   "outputs": [
    {
     "name": "stdout",
     "output_type": "stream",
     "text": [
      "p: 0.5000\n"
     ]
    }
   ],
   "source": [
    "#----------------------------------------------\n",
    "# EXEMPLO-01 \n",
    "#----------------------------------------------\n",
    "mu=2.0            # MÉDIA\n",
    "dp=0.04           # DESVIO PADRÃO \n",
    "x=2.0             # PONTO DE CORTE (QUANTIL)\n",
    "\n",
    "#-----------------------\n",
    "# SOLUCÃO DA LETRA a) \n",
    "#-----------------------\n",
    "norm.cdf(x,mu,dp) # USANDO NORM.CDF (precisa subtriar de 1 porque é probabilidade acumulada até x)\n",
    "p=1-norm.cdf(x,mu,dp)\n",
    "print(\"p: {:.4F}\".format(p))\n",
    "\n",
    "print(\"p: {:.4F}\".format(norm.sf(x,mu,dp)))              # USANDO NORM.SF (Já calcula o resultado direto - acima de x)"
   ]
  },
  {
   "cell_type": "code",
   "execution_count": null,
   "metadata": {
    "colab": {
     "base_uri": "https://localhost:8080/"
    },
    "id": "RYE3JcTgqc_Z",
    "outputId": "7d3c716f-2863-4d2b-f49b-b2f4d3a02478"
   },
   "outputs": [
    {
     "name": "stdout",
     "output_type": "stream",
     "text": [
      "p: 0.1587\n"
     ]
    }
   ],
   "source": [
    "#-----------------------\n",
    "# SOLUCÃO DA LETRA b) \n",
    "#-----------------------\n",
    "mu=2.0            # MÉDIA\n",
    "dp=0.04           # DESVIO PADRÃO \n",
    "x=2.04            # PONTO DE CORTE (QUANTIL)\n",
    "\n",
    "# SOLUÁCÃO DA LETRA a) AS DEMAIS b) e c) SÃO IGUAIS\n",
    "norm.cdf(x,mu,dp) # USANDO NORM.CDF (precisa subtriar de 1 porque é probabilidade acumulada até x)\n",
    "p=1-norm.cdf(x,mu,dp)\n",
    "print(\"p: {:.4F}\".format(p))\n",
    "\n",
    "print(\"p: {:.4F}\".format(norm.sf(x,mu,dp)))              # USANDO NORM.SF (Já calcula o resultado direto - acima de x)"
   ]
  },
  {
   "cell_type": "code",
   "execution_count": null,
   "metadata": {
    "colab": {
     "base_uri": "https://localhost:8080/"
    },
    "id": "6sYCnaMgrJ2f",
    "outputId": "a964d293-5bd9-42a8-ad2f-0828388da251"
   },
   "outputs": [
    {
     "name": "stdout",
     "output_type": "stream",
     "text": [
      "p: 0.1056\n"
     ]
    }
   ],
   "source": [
    "#-----------------------\n",
    "# SOLUCÃO DA LETRA c) \n",
    "#-----------------------\n",
    "mu=2.0            # MÉDIA\n",
    "dp=0.04           # DESVIO PADRÃO \n",
    "x=2.05            # PONTO DE CORTE (QUANTIL)\n",
    "\n",
    "# SOLUÁCÃO DA LETRA a) AS DEMAIS b) e c) SÃO IGUAIS\n",
    "norm.cdf(x,mu,dp) # USANDO NORM.CDF (precisa subtriar de 1 porque é probabilidade acumulada até x)\n",
    "p=1-norm.cdf(x,mu,dp)\n",
    "print(\"p: {:.4F}\".format(p))\n",
    "\n",
    "print(\"p: {:.4F}\".format(norm.sf(x,mu,dp)))              # USANDO NORM.SF (Já calcula o resultado direto - acima de x)"
   ]
  },
  {
   "cell_type": "markdown",
   "metadata": {
    "id": "TVJWfmBErooH"
   },
   "source": [
    "* PARA OUTROS VALORES BASTA SUBSTITUIR O VALOR DE X \n",
    "* ALTERNATIVA MAIS ELEGANTE: CRIAR UMA FUNÇÃO..."
   ]
  },
  {
   "cell_type": "markdown",
   "metadata": {
    "id": "MbOiKBQ9KTEp"
   },
   "source": [
    "Exemplo-02: Considere que X é a variável aleatória que representa a nota de uma prova de Estatística de 60 alunos. Suponha que X tenha distribuição normal com média = 5,0 e desvio padrão = 1,2.\n",
    "* Calcular a probabilidade de:\n",
    "* a) Um aluno tirar nota maior do que 7,0 na prova.  Item da lista\n",
    "* b) Um aluno tirar nota maior do que 8,0 na prova.  Item da lista\n",
    "* c) Quantos alunos tiraram nota maior do que 5,0 na prova ?  Item da lista\n",
    "* d) Quantos alunos tiraram nota maior do que 6,0 na prova ?\n",
    "\n"
   ]
  },
  {
   "cell_type": "code",
   "execution_count": null,
   "metadata": {
    "colab": {
     "base_uri": "https://localhost:8080/"
    },
    "id": "HiKF38083-ku",
    "outputId": "41d904f7-e72d-4dde-e08a-8e630ca6ad11"
   },
   "outputs": [
    {
     "name": "stdout",
     "output_type": "stream",
     "text": [
      "p: 0.2023\n"
     ]
    }
   ],
   "source": [
    "#----------------------------------------------\n",
    "# EXEMPLO-02\n",
    "#----------------------------------------------\n",
    "mu=5.0            # MÉDIA\n",
    "dp=1.2            # DESVIO PADRÃO \n",
    "n = 60            # NÚMERO DE ALUNOS\n",
    "x=6.0             # PONTO DE CORTE (QUANTIL)\n",
    "norm.cdf(x,mu,dp)  \n",
    "p=1-norm.cdf(x,mu,dp)         # USANDO NORM.CDF\n",
    "print(\"p: {:.4F}\".format(p)) \n",
    "print(p*60)\n",
    "\n",
    "print(\"p: {:.4F}\".format(norm.sf(x,mu,dp)))  # USANDO NORM.SF  "
   ]
  },
  {
   "cell_type": "markdown",
   "metadata": {
    "id": "BoC5i5VJi8K1"
   },
   "source": [
    "COMO NO EXEMPLO-01\n",
    "\n",
    "* PARA OUTROS VALORES BASTA SUBSTITUIR O VALOR DE X \n",
    "* ALTERNATIVA MAIS ELEGANTE: CRIAR UMA FUNÇÃO...\n",
    "\n",
    "\n",
    "\n",
    " "
   ]
  },
  {
   "cell_type": "markdown",
   "metadata": {
    "id": "JevIi2ZVLDRH"
   },
   "source": [
    "Um parâmetro de malha de determinado tributo tem distribuição Normal com média **12** e desvio padrão **4**. Considerando que ficarão retidas em malha declarações que apresentarem o valor do parâmetro maior do que **22**, e que a população é de **10.000.000** declarantes, calcule o número de declarações retidas no atual exercício fiscal."
   ]
  },
  {
   "cell_type": "code",
   "execution_count": null,
   "metadata": {
    "colab": {
     "base_uri": "https://localhost:8080/"
    },
    "id": "MgQLt3zt6NRL",
    "outputId": "25e002cc-1a09-40b7-e35e-56d4b3dd48cf"
   },
   "outputs": [
    {
     "name": "stdout",
     "output_type": "stream",
     "text": [
      "Retidos na malha: 62097 declarantes\n"
     ]
    }
   ],
   "source": [
    "#----------------------------------------------\n",
    "# EXEMPLO-03\n",
    "#----------------------------------------------\n",
    "mu=12.0           # MÉDIA\n",
    "dp=4.0            # DESVIO PADRÃO \n",
    "n = 10000000      # NÚMERO DE DECLARANTES\n",
    "x=22.             # PONTO DE CORTE (QUANTIL)\n",
    "norm.cdf(x,mu,dp)  \n",
    "p=1-norm.cdf(x,mu,dp)       # USANDO NORM.CDF\n",
    "print(\"Probabilidade: {:.4f}\".format(p))\n",
    "\n",
    "r=p*n\n",
    "print(\"Retidos na malha: {:.0f} declarantes\".format(r))\n",
    "\n",
    "r=norm.sf(x,mu,dp)*n        # USANDO NORM.SF \n",
    "print(\"Retidos na malha: {:.0f} declarantes\".format(r)) "
   ]
  },
  {
   "cell_type": "markdown",
   "metadata": {
    "id": "hh3DIzoijV1N"
   },
   "source": [
    "COMO NOS EXEMPLOS: 01 - 02\n",
    "* PARA OUTROS VALORES BASTA SUBSTITUIR O VALOR DE X \n",
    "* ALTERNATIVA MAIS ELEGANTE: CRIAR UMA FUNÇÃO...\n",
    "\n",
    "\n",
    "\n",
    " "
   ]
  }
 ],
 "metadata": {
  "colab": {
   "provenance": []
  },
  "kernelspec": {
   "display_name": "Python 3 (ipykernel)",
   "language": "python",
   "name": "python3"
  },
  "language_info": {
   "codemirror_mode": {
    "name": "ipython",
    "version": 3
   },
   "file_extension": ".py",
   "mimetype": "text/x-python",
   "name": "python",
   "nbconvert_exporter": "python",
   "pygments_lexer": "ipython3",
   "version": "3.9.7"
  }
 },
 "nbformat": 4,
 "nbformat_minor": 4
}
