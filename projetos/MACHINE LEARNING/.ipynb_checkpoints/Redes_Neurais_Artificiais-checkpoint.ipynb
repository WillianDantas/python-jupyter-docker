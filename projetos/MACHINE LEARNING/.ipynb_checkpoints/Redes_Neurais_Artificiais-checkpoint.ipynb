{
 "cells": [
  {
   "cell_type": "code",
   "execution_count": 53,
   "id": "17e225e2-3236-4749-a568-ee4b0b01f1c9",
   "metadata": {},
   "outputs": [],
   "source": [
    "import numpy as np\n",
    "# Definir o número de épocas e o número de amostras (q)\n",
    "num_epocas = 70000\n",
    "q = 6"
   ]
  },
  {
   "cell_type": "code",
   "execution_count": 54,
   "id": "65216cc3-be3c-4bc5-b7bd-ad6f37ca9ec0",
   "metadata": {},
   "outputs": [],
   "source": [
    "# Atributos\n",
    "peso = np.array([113, 122, 107, 98, 115, 120])\n",
    "ph = np.array([6.8, 4.7, 5.2, 3.6, 2.9, 4.2])"
   ]
  },
  {
   "cell_type": "code",
   "execution_count": 55,
   "id": "bc262e73-0ac7-4d2f-aeac-d6c2d4f848a2",
   "metadata": {},
   "outputs": [],
   "source": [
    "# Bias\n",
    "bias = 1"
   ]
  },
  {
   "cell_type": "code",
   "execution_count": 56,
   "id": "fced10ed-db91-47ed-9d94-f1f064884d3f",
   "metadata": {},
   "outputs": [],
   "source": [
    "# Entrada do perceptron\n",
    "x = np.vstack((peso, ph))\n",
    "y = np.array([-1, 1, -1, -1, 1, 1])"
   ]
  },
  {
   "cell_type": "code",
   "execution_count": 57,
   "id": "1aa6b5f5-e4b2-4048-9a1d-1b0f3c6a6cf7",
   "metadata": {},
   "outputs": [],
   "source": [
    "# Taxa de aprendizado\n",
    "eta = 0.1"
   ]
  },
  {
   "cell_type": "code",
   "execution_count": 58,
   "id": "5f7fa454-dca1-40e2-848c-80b7c18a6170",
   "metadata": {},
   "outputs": [],
   "source": [
    "# Define o vetor de pesos\n",
    "w = np.zeros([1,3]) # duas entradas + bias"
   ]
  },
  {
   "cell_type": "code",
   "execution_count": 59,
   "id": "7b2ad9b5-5fa8-41f0-b3f2-c6b7fdadf475",
   "metadata": {},
   "outputs": [],
   "source": [
    "# Array para armazenar os erros\n",
    "errors = np.zeros(6)"
   ]
  },
  {
   "cell_type": "code",
   "execution_count": 60,
   "id": "8fd347e1-a714-4ece-83e5-5dbf848ff553",
   "metadata": {},
   "outputs": [],
   "source": [
    "# função de ativação\n",
    "def funcao_ativacao(valor):\n",
    "    return -1 if valor < 0.0 else 1"
   ]
  },
  {
   "cell_type": "code",
   "execution_count": 61,
   "id": "94aca995-d389-4519-b31a-44601f954949",
   "metadata": {},
   "outputs": [],
   "source": [
    "for j in range(num_epocas):\n",
    "    for k in range(q):\n",
    "        xb = np.hstack((bias, x[:,k]))\n",
    "        \n",
    "        v = np.dot(w, xb)\n",
    "        \n",
    "        \n",
    "        yr = funcao_ativacao(v)\n",
    "        \n",
    "        #  Calcula o erro\n",
    "        errors[k] = y[k] - yr\n",
    "        \n",
    "        # Treinamento do perceptron\n",
    "        w = w + eta*errors[k]*xb"
   ]
  },
  {
   "cell_type": "code",
   "execution_count": 62,
   "id": "084dfe61-d0a4-4ea7-ba2e-5e2e46bbaedc",
   "metadata": {},
   "outputs": [
    {
     "name": "stdout",
     "output_type": "stream",
     "text": [
      "Vetor de erros = [0. 0. 0. 0. 0. 0.]\n"
     ]
    }
   ],
   "source": [
    "print(\"Vetor de erros = \" + str(errors))"
   ]
  },
  {
   "cell_type": "code",
   "execution_count": null,
   "id": "291343c0-729b-42f3-8558-d9f2dbf4cb2b",
   "metadata": {},
   "outputs": [],
   "source": []
  }
 ],
 "metadata": {
  "kernelspec": {
   "display_name": "Python 3 (ipykernel)",
   "language": "python",
   "name": "python3"
  },
  "language_info": {
   "codemirror_mode": {
    "name": "ipython",
    "version": 3
   },
   "file_extension": ".py",
   "mimetype": "text/x-python",
   "name": "python",
   "nbconvert_exporter": "python",
   "pygments_lexer": "ipython3",
   "version": "3.9.7"
  }
 },
 "nbformat": 4,
 "nbformat_minor": 5
}
