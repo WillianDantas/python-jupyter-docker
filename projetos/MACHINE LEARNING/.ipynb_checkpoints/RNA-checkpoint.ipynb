{
 "cells": [
  {
   "cell_type": "code",
   "execution_count": 1,
   "id": "ea529b83-c88a-4edc-8b26-dc10fb19263b",
   "metadata": {},
   "outputs": [],
   "source": [
    "# Link de estudo: \n",
    "# 1 - https://www.monolitonimbus.com.br/perceptron-redes-neurais/\n",
    "# 2 - https://medium.com/artigos-machlab/rede-neural-mlp-simples-constru%C3%ADda-no-python-b1e0bd316b95\n",
    "# 3 - https://matheusfacure.github.io/2017/07/12/activ-func/\n",
    "# 4 - https://medium.com/ensina-ai/rede-neural-perceptron-multicamadas-f9de8471f1a9\n",
    "# 5 - https://medium.com/@polanitzer/a-multi-layer-perceptron-classifier-in-python-predict-digits-from-gray-scale-images-of-hand-drawn-44936176be33\n",
    "# 6 - https://michael-fuchs-python.netlify.app/2021/02/03/nn-multi-layer-perceptron-classifier-mlpclassifier/\n",
    "# 7 - https://github.com/rcassani/mlp-example/blob/master/mlp_notebook.ipynb"
   ]
  },
  {
   "cell_type": "code",
   "execution_count": 14,
   "id": "7f33d647-234c-4835-b8a8-cff43304f30a",
   "metadata": {},
   "outputs": [],
   "source": [
    "import numpy as np"
   ]
  },
  {
   "cell_type": "code",
   "execution_count": 114,
   "id": "115bab67-27b9-49cb-a796-abec4d924fd9",
   "metadata": {},
   "outputs": [
    {
     "data": {
      "text/plain": [
       "2"
      ]
     },
     "execution_count": 114,
     "metadata": {},
     "output_type": "execute_result"
    }
   ],
   "source": [
    "# Entradas\n",
    "inputs = np.array([[0,0,1],[1,1,0]])\n",
    "len(inputs)"
   ]
  },
  {
   "cell_type": "code",
   "execution_count": 264,
   "id": "02fe20be-bca5-4fbf-88e2-de9c7c8b01b0",
   "metadata": {},
   "outputs": [
    {
     "data": {
      "text/plain": [
       "array([[0, 0, 1],\n",
       "       [1, 1, 0]])"
      ]
     },
     "execution_count": 264,
     "metadata": {},
     "output_type": "execute_result"
    }
   ],
   "source": [
    "inputs"
   ]
  },
  {
   "cell_type": "code",
   "execution_count": 16,
   "id": "f5771cef-4151-405d-9dc0-87f44ede1f96",
   "metadata": {},
   "outputs": [],
   "source": [
    "output = np.array([-1, +1])"
   ]
  },
  {
   "cell_type": "code",
   "execution_count": 17,
   "id": "d5f35edf-6d1f-4e80-98c9-9fd087708b99",
   "metadata": {},
   "outputs": [
    {
     "data": {
      "text/plain": [
       "3"
      ]
     },
     "execution_count": 17,
     "metadata": {},
     "output_type": "execute_result"
    }
   ],
   "source": [
    "# Peso\n",
    "weights = np.array([0.4, -0.6, 0.6])\n",
    "weights\n",
    "len(weights)"
   ]
  },
  {
   "cell_type": "code",
   "execution_count": 18,
   "id": "1703f7cc-1bd7-4fb1-bf81-b0557c8bd8c2",
   "metadata": {},
   "outputs": [],
   "source": [
    "# Bias\n",
    "bias = 0.5"
   ]
  },
  {
   "cell_type": "code",
   "execution_count": 19,
   "id": "df832408-3cb5-45cb-bbfa-71e3f010c8c5",
   "metadata": {},
   "outputs": [],
   "source": [
    "taxa_apendizado = 0.4"
   ]
  },
  {
   "cell_type": "code",
   "execution_count": 20,
   "id": "3489091c-6e0e-47c9-958b-d39d0d75dee4",
   "metadata": {},
   "outputs": [],
   "source": [
    "def funcao_ativacao(valor):\n",
    "    return -1 if valor < 0.0 else 1"
   ]
  },
  {
   "cell_type": "code",
   "execution_count": 271,
   "id": "81aa347c-1d86-400e-8645-8cd38c3bb7db",
   "metadata": {},
   "outputs": [],
   "source": [
    "def treianamento(inputs, output, weights, limiar):\n",
    "    weights = np.insert(weights, 0, limiar)\n",
    "\n",
    "    entrada = []\n",
    "    \n",
    "    for i in range(len(inputs)):\n",
    "        entrada.append(np.insert(inputs[i], 0, -1))\n",
    "    \n",
    "    inputs = entrada\n",
    "    print(inputs)\n",
    "    \n",
    "    for i in range(len(inputs)):\n",
    "        u = 0\n",
    "        print(inputs[i])\n",
    "        for p in range(len(weights)):\n",
    "            u += inputs[i][p] * weights[p]\n",
    "        v = funcao_ativa(u)\n",
    "        print(v)"
   ]
  },
  {
   "cell_type": "code",
   "execution_count": 272,
   "id": "9e833717-769a-4426-86c9-3d6460c497d7",
   "metadata": {},
   "outputs": [],
   "source": [
    "def funcao_ativa(valor):\n",
    "    return -1 if valor < 0.0 else 1"
   ]
  },
  {
   "cell_type": "code",
   "execution_count": 273,
   "id": "f7a617c1-9a51-4c76-91a3-84b552b36011",
   "metadata": {},
   "outputs": [
    {
     "name": "stdout",
     "output_type": "stream",
     "text": [
      "[array([-1,  0,  0,  1]), array([-1,  1,  1,  0])]\n",
      "[-1  0  0  1]\n",
      "1\n",
      "[-1  1  1  0]\n",
      "-1\n"
     ]
    }
   ],
   "source": [
    "treianamento(inputs, output, weights, bias)"
   ]
  },
  {
   "cell_type": "code",
   "execution_count": 274,
   "id": "e77b3e4a-b897-4e3c-9a78-f57f08fc7adc",
   "metadata": {},
   "outputs": [],
   "source": [
    "def ajuste_peso():\n",
    "    pass"
   ]
  }
 ],
 "metadata": {
  "kernelspec": {
   "display_name": "Python 3 (ipykernel)",
   "language": "python",
   "name": "python3"
  },
  "language_info": {
   "codemirror_mode": {
    "name": "ipython",
    "version": 3
   },
   "file_extension": ".py",
   "mimetype": "text/x-python",
   "name": "python",
   "nbconvert_exporter": "python",
   "pygments_lexer": "ipython3",
   "version": "3.9.7"
  }
 },
 "nbformat": 4,
 "nbformat_minor": 5
}
