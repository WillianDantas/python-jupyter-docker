{
 "cells": [
  {
   "cell_type": "code",
   "execution_count": 1,
   "id": "155754c3-a067-4554-bc7e-4aa2d89d750d",
   "metadata": {},
   "outputs": [],
   "source": [
    "import warnings\n",
    "warnings.simplefilter(action='ignore', category=FutureWarning)\n",
    "warnings.filterwarnings(\"ignore\", category=DeprecationWarning)"
   ]
  },
  {
   "cell_type": "code",
   "execution_count": 2,
   "id": "44692461-4135-466f-99f5-b484f3e8c226",
   "metadata": {},
   "outputs": [],
   "source": [
    "# Grava o resultado em um arquivo texto denominado analise_tweets.txt\n",
    "import sys\n",
    "file_path = 'analise_tweets.txt'\n",
    "sys.stdout = open(file_path, \"w\")"
   ]
  },
  {
   "cell_type": "code",
   "execution_count": 1,
   "id": "32c46d94-a7a7-44e3-bf89-01eff0435eb4",
   "metadata": {},
   "outputs": [],
   "source": [
    "# Declaração das bibliotecas do pyspark\n",
    "import pyspark\n",
    "from pyspark.sql import SparkSession\n",
    "from pyspark.sql.types import StructType, StructField, StringType, IntegerType, DateType, TimestampType\n",
    "from pyspark.sql.types import ArrayType, DoubleType, BooleanType\n",
    "from pyspark.sql.functions import col,array_contains, sum\n",
    "from pyspark.sql.functions import split, trim, concat, lit\n",
    "from pyspark.sql.functions import to_date, to_timestamp, substring, when, asc, desc\n",
    "import matplotlib.pyplot as plt"
   ]
  },
  {
   "cell_type": "code",
   "execution_count": 3,
   "id": "140d8c59-f271-4560-890b-156f48339def",
   "metadata": {},
   "outputs": [],
   "source": [
    "# Declaração da Sessão do spark\n",
    "spark = SparkSession.builder.appName(\"DataFrame\").getOrCreate()\n",
    "sc = spark.sparkContext.setLogLevel('OFF')"
   ]
  },
  {
   "cell_type": "code",
   "execution_count": 4,
   "id": "8ac8c5d4",
   "metadata": {},
   "outputs": [],
   "source": [
    "# Criação de uma estrutura com os campos do arquivo\n",
    "# Campos: id,tweet_text,tweet_date,sentiment,query_used\n",
    "schema = StructType() \\\n",
    "    .add(\"id\", StringType(), True) \\\n",
    "    .add(\"tweet_text\", StringType(), True) \\\n",
    "    .add(\"tweet_date\", StringType(), True) \\\n",
    "    .add(\"sentiment\", StringType(), True) \\\n",
    "    .add(\"query_used\", StringType(), True)"
   ]
  },
  {
   "cell_type": "code",
   "execution_count": 5,
   "id": "69778eb4-439a-44ee-9100-5bb7a43f7290",
   "metadata": {},
   "outputs": [],
   "source": [
    "# Leitura do arquivo csv NoThemeTweets.csv\n",
    "df = spark.read.format(\"csv\") \\\n",
    "               .option(\"header\", True) \\\n",
    "               .option(\"delimiter\", ',') \\\n",
    "               .schema(schema) \\\n",
    "               .load(\"NoThemeTweets.csv\")"
   ]
  },
  {
   "cell_type": "code",
   "execution_count": 6,
   "id": "35a2def2-9502-4548-9e63-26552b15fab6",
   "metadata": {},
   "outputs": [
    {
     "name": "stdout",
     "output_type": "stream",
     "text": [
      "785814\n"
     ]
    }
   ],
   "source": [
    "# Conta a quantidade de linhas do dataframe df\n",
    "qtd_tweet = df.count()\n",
    "print(qtd_tweet)"
   ]
  },
  {
   "cell_type": "code",
   "execution_count": 7,
   "id": "b60994f4-4b43-4cda-ae66-e9752c25ab6e",
   "metadata": {},
   "outputs": [
    {
     "name": "stdout",
     "output_type": "stream",
     "text": [
      "root\n",
      " |-- id: string (nullable = true)\n",
      " |-- tweet_text: string (nullable = true)\n",
      " |-- tweet_date: string (nullable = true)\n",
      " |-- sentiment: string (nullable = true)\n",
      " |-- query_used: string (nullable = true)\n",
      "\n"
     ]
    }
   ],
   "source": [
    "df.printSchema()"
   ]
  },
  {
   "cell_type": "code",
   "execution_count": 8,
   "id": "9edcf454-abb7-4c45-92f3-b09771a6f8fa",
   "metadata": {},
   "outputs": [
    {
     "name": "stdout",
     "output_type": "stream",
     "text": [
      "\n",
      "Quantidade Total de Tweets: 785814\n"
     ]
    }
   ],
   "source": [
    "# Escreva a quantidade total de tweets lidos do dataframe\n",
    "strMsg = \"\\nQuantidade Total de Tweets: \" + str(qtd_tweet)\n",
    "print(strMsg)"
   ]
  },
  {
   "cell_type": "code",
   "execution_count": 9,
   "id": "ce965092-1468-4205-80e2-c272e1e6b90c",
   "metadata": {},
   "outputs": [],
   "source": [
    "# Realiza um tratamento dos dados lidos\n",
    "# Formato do Timestamp do Tweet = Tue Aug 21 04:35:39 +0000 2018\n",
    "df1=df.withColumn('tmp_Ano', when(col('tweet_date').substr(27, 4) == \"2018\", 2018)\n",
    "                            .when(col('tweet_date').substr(27, 4) == \"2019\", 2019)\n",
    "                            .when(col('tweet_date').substr(27, 4) == \"2020\", 2020)\n",
    "                            .otherwise(0)\n",
    "                 )  \\\n",
    "      .withColumn('tmp_Mes',  when(col('tweet_date').substr(5, 3) == \"Jan\", 1)\n",
    "                             .when(col('tweet_date').substr(5, 3) == \"Feb\", 2)\n",
    "                             .when(col('tweet_date').substr(5, 3) == \"Mar\", 3)\n",
    "                             .when(col('tweet_date').substr(5, 3) == \"Apr\", 4)\n",
    "                             .when(col('tweet_date').substr(5, 3) == \"May\", 5)\n",
    "                             .when(col('tweet_date').substr(5, 3) == \"Jun\", 6)\n",
    "                             .when(col('tweet_date').substr(5, 3) == \"Jul\", 7)\n",
    "                             .when(col('tweet_date').substr(5, 3) == \"Aug\", 8)\n",
    "                             .when(col('tweet_date').substr(5, 3) == \"Sep\", 9)\n",
    "                             .when(col('tweet_date').substr(5, 3) == \"Oct\", 10)\n",
    "                             .when(col('tweet_date').substr(5, 3) == \"Nov\", 11)\n",
    "                             .when(col('tweet_date').substr(5, 3) == \"Dec\", 12)\n",
    "                             .otherwise(0)\n",
    "                 )"
   ]
  },
  {
   "cell_type": "code",
   "execution_count": 10,
   "id": "87ab85f1-beb1-4360-a8df-1812ca68608c",
   "metadata": {},
   "outputs": [],
   "source": [
    "# Converte o Mês e o Ano para inteiro\n",
    "df2 = df1.withColumn('Ano', col('tmp_Ano').cast(\"Integer\"))  \\\n",
    "         .withColumn('Mês', col('tmp_Mes').cast(\"Integer\"))"
   ]
  },
  {
   "cell_type": "code",
   "execution_count": 11,
   "id": "6ed66780-249f-4236-825b-0e08340529e3",
   "metadata": {},
   "outputs": [],
   "source": [
    "# Conta a quantidade de tweets e os agrupa por Mês e Ano\n",
    "df3 = df2.groupBy(col('Ano'), col('Mês')) \\\n",
    "         .count()"
   ]
  },
  {
   "cell_type": "code",
   "execution_count": 12,
   "id": "32eba3ef-05e1-4106-91b4-2decc7027778",
   "metadata": {},
   "outputs": [],
   "source": [
    "# Seleciona os dados do dataframe df3\n",
    "df4 = df3.select(col('Ano').alias(\"Ano da publicação do Tweet\"), \\\n",
    "           col('Mês').alias(\"Mês da publicação do Tweet\"), \\\n",
    "           col('count').alias(\"Quantidade de Tweets\"))"
   ]
  },
  {
   "cell_type": "code",
   "execution_count": 13,
   "id": "3978fd3b-5ecc-4d20-91bc-8856084d813e",
   "metadata": {},
   "outputs": [],
   "source": [
    "# Filtra os anos que não foram possíveis de identificar nas linhas de cada tweet\n",
    "df_tweet_sem_ano = df4.filter((df3.Ano == 0))"
   ]
  },
  {
   "cell_type": "code",
   "execution_count": 14,
   "id": "c2bf32dc-752a-4a35-aaad-63c89a3e61ef",
   "metadata": {},
   "outputs": [],
   "source": [
    "# Soma o campo \"Quantidade de Tweets\" do dataframe df_tweet_sem_ano\n",
    "df5 = df_tweet_sem_ano.select(sum(col('Quantidade de Tweets')))\n",
    "qtd_tweet_sem_ano = df5.collect()[0][0]"
   ]
  },
  {
   "cell_type": "code",
   "execution_count": 15,
   "id": "7424c49f-8750-4041-907d-982d7287ae5d",
   "metadata": {},
   "outputs": [
    {
     "name": "stdout",
     "output_type": "stream",
     "text": [
      "Quantidade de Tweets sem identificação de data: 4014\n"
     ]
    }
   ],
   "source": [
    "# Escreva a quantidade de tweets sem identificação de data\n",
    "strMsg = \"Quantidade de Tweets sem identificação de data: \" + str(qtd_tweet_sem_ano)\n",
    "print(strMsg)"
   ]
  },
  {
   "cell_type": "code",
   "execution_count": 16,
   "id": "2d33531d-bb70-4534-9890-f1d300361ca3",
   "metadata": {},
   "outputs": [
    {
     "name": "stdout",
     "output_type": "stream",
     "text": [
      "\n",
      "Quantidade de Tweets publicados por Mês/Ano\n",
      "+--------------------------+--------------------------+--------------------+\n",
      "|Ano da publicação do Tweet|Mês da publicação do Tweet|Quantidade de Tweets|\n",
      "+--------------------------+--------------------------+--------------------+\n",
      "|                      2018|                         8|              255921|\n",
      "|                      2018|                         9|              474192|\n",
      "|                      2018|                        10|               51687|\n",
      "+--------------------------+--------------------------+--------------------+\n",
      "\n"
     ]
    }
   ],
   "source": [
    "print(\"\\nQuantidade de Tweets publicados por Mês/Ano\")\n",
    "# Filtra os anos que não foram possíveis de identificar nas linhas do tweet\n",
    "# e escreva o resultado na Tela\n",
    "df4.filter( (df3.Ano != 0) ).show()"
   ]
  },
  {
   "cell_type": "code",
   "execution_count": 57,
   "id": "3a80cf36-7c92-473e-8ef6-8fe90c6d26b1",
   "metadata": {},
   "outputs": [
    {
     "data": {
      "text/html": [
       "<div>\n",
       "<style scoped>\n",
       "    .dataframe tbody tr th:only-of-type {\n",
       "        vertical-align: middle;\n",
       "    }\n",
       "\n",
       "    .dataframe tbody tr th {\n",
       "        vertical-align: top;\n",
       "    }\n",
       "\n",
       "    .dataframe thead th {\n",
       "        text-align: right;\n",
       "    }\n",
       "</style>\n",
       "<table border=\"1\" class=\"dataframe\">\n",
       "  <thead>\n",
       "    <tr style=\"text-align: right;\">\n",
       "      <th></th>\n",
       "      <th>Ano da publicação do Tweet</th>\n",
       "      <th>Mês da publicação do Tweet</th>\n",
       "      <th>Quantidade de Tweets</th>\n",
       "    </tr>\n",
       "  </thead>\n",
       "  <tbody>\n",
       "    <tr>\n",
       "      <th>0</th>\n",
       "      <td>2018</td>\n",
       "      <td>8</td>\n",
       "      <td>255921</td>\n",
       "    </tr>\n",
       "    <tr>\n",
       "      <th>1</th>\n",
       "      <td>2018</td>\n",
       "      <td>9</td>\n",
       "      <td>474192</td>\n",
       "    </tr>\n",
       "    <tr>\n",
       "      <th>2</th>\n",
       "      <td>2018</td>\n",
       "      <td>10</td>\n",
       "      <td>51687</td>\n",
       "    </tr>\n",
       "  </tbody>\n",
       "</table>\n",
       "</div>"
      ],
      "text/plain": [
       "   Ano da publicação do Tweet  Mês da publicação do Tweet  \\\n",
       "0                        2018                           8   \n",
       "1                        2018                           9   \n",
       "2                        2018                          10   \n",
       "\n",
       "   Quantidade de Tweets  \n",
       "0                255921  \n",
       "1                474192  \n",
       "2                 51687  "
      ]
     },
     "execution_count": 57,
     "metadata": {},
     "output_type": "execute_result"
    }
   ],
   "source": [
    "data = df4.filter((df3.Ano != 0)).toPandas()\n",
    "data"
   ]
  },
  {
   "cell_type": "code",
   "execution_count": 65,
   "id": "6d56f2cc-5c2f-4a4c-852b-ae03b77df496",
   "metadata": {},
   "outputs": [
    {
     "data": {
      "text/html": [
       "<div>\n",
       "<style scoped>\n",
       "    .dataframe tbody tr th:only-of-type {\n",
       "        vertical-align: middle;\n",
       "    }\n",
       "\n",
       "    .dataframe tbody tr th {\n",
       "        vertical-align: top;\n",
       "    }\n",
       "\n",
       "    .dataframe thead th {\n",
       "        text-align: right;\n",
       "    }\n",
       "</style>\n",
       "<table border=\"1\" class=\"dataframe\">\n",
       "  <thead>\n",
       "    <tr style=\"text-align: right;\">\n",
       "      <th></th>\n",
       "      <th>Ano da publicação do Tweet</th>\n",
       "      <th>Mês da publicação do Tweet</th>\n",
       "      <th>Quantidade de Tweets</th>\n",
       "      <th>ano_mes</th>\n",
       "    </tr>\n",
       "  </thead>\n",
       "  <tbody>\n",
       "    <tr>\n",
       "      <th>0</th>\n",
       "      <td>2018</td>\n",
       "      <td>8</td>\n",
       "      <td>255921</td>\n",
       "      <td>8/2018</td>\n",
       "    </tr>\n",
       "    <tr>\n",
       "      <th>1</th>\n",
       "      <td>2018</td>\n",
       "      <td>9</td>\n",
       "      <td>474192</td>\n",
       "      <td>9/2018</td>\n",
       "    </tr>\n",
       "    <tr>\n",
       "      <th>2</th>\n",
       "      <td>2018</td>\n",
       "      <td>10</td>\n",
       "      <td>51687</td>\n",
       "      <td>10/2018</td>\n",
       "    </tr>\n",
       "  </tbody>\n",
       "</table>\n",
       "</div>"
      ],
      "text/plain": [
       "   Ano da publicação do Tweet  Mês da publicação do Tweet  \\\n",
       "0                        2018                           8   \n",
       "1                        2018                           9   \n",
       "2                        2018                          10   \n",
       "\n",
       "   Quantidade de Tweets  ano_mes  \n",
       "0                255921   8/2018  \n",
       "1                474192   9/2018  \n",
       "2                 51687  10/2018  "
      ]
     },
     "execution_count": 65,
     "metadata": {},
     "output_type": "execute_result"
    }
   ],
   "source": [
    "ano_mes = data[\"Mês da publicação do Tweet\"].map(str) + \"/\" + data[\"Ano da publicação do Tweet\"].map(str)\n",
    "data['ano_mes'] = ano_mes\n",
    "data"
   ]
  },
  {
   "cell_type": "code",
   "execution_count": 66,
   "id": "d9a096d6-de89-4ba0-88c0-466f826600cb",
   "metadata": {},
   "outputs": [],
   "source": [
    "quantidade = data['Quantidade de Tweets'].tolist()"
   ]
  },
  {
   "cell_type": "code",
   "execution_count": 68,
   "id": "95c64483-892d-4c25-b02c-af8acc9109d0",
   "metadata": {},
   "outputs": [
    {
     "data": {
      "image/png": "[encoded data removed]",
      "text/plain": [
       "<Figure size 1224x648 with 1 Axes>"
      ]
     },
     "metadata": {
      "needs_background": "light"
     },
     "output_type": "display_data"
    }
   ],
   "source": [
    "plt.figure(figsize=(17,9))\n",
    "# Plot the bar graph\n",
    "plot = plt.bar(ano_mes, quantidade, width=0.6)\n",
    " \n",
    "# Add the data value on head of the bar\n",
    "for value in plot:\n",
    "    height = value.get_height()\n",
    "    plt.text(value.get_x() + value.get_width()/2.,\n",
    "             1.002*height,'%d' % int(height), ha='center', va='bottom')\n",
    " \n",
    "# Add labels and title\n",
    "plt.title(\"Quantidade de Tweets publicadas x Mês/Ano\", size=15)\n",
    "plt.xlabel(\"Mês/Ano\")\n",
    "plt.ylabel(\"Quantidade\")\n",
    " \n",
    "# Display the graph on the screen\n",
    "plt.show()"
   ]
  },
  {
   "cell_type": "code",
   "execution_count": 18,
   "id": "ac23c0c3-44e9-4110-9282-b64fe39d94aa",
   "metadata": {},
   "outputs": [
    {
     "name": "stdout",
     "output_type": "stream",
     "text": [
      "Hashtag Trending topics\n",
      "+--------------------+----------+\n",
      "|            #Hashtag|Quantidade|\n",
      "+--------------------+----------+\n",
      "|                #MPN|       578|\n",
      "|         #AFazenda10|       172|\n",
      "|                #20:|       171|\n",
      "|     #TheVoiceBrasil|       165|\n",
      "|       #MasterChefBR|       142|\n",
      "|#BTSLoveYourselfTour|       128|\n",
      "|         #LojaBolada|       123|\n",
      "|               #VMAs|       121|\n",
      "|     #OrgulhoEPaixão|       118|\n",
      "|         #SegundoSol|       117|\n",
      "+--------------------+----------+\n",
      "only showing top 10 rows\n",
      "\n"
     ]
    }
   ],
   "source": [
    "# Identifca as hashtag que estão no Trending topics000000000000000000\n",
    "print(\"Hashtag Trending topics\")\n",
    "df6 = df.filter(col(\"tweet_text\").contains(\"#\"))\n",
    "df7 = df6.withColumn(\"tmp_hashtag_1\", split(col(\"tweet_text\"), \"#\").getItem(0)).withColumn(\"tmp_hashtag_2\", split(col(\"tweet_text\"), \"#\").getItem(1))\n",
    "df8 = df7.select(col('tmp_hashtag_2'))\n",
    "df9 = df8.withColumn(\"hashtag\", split(col(\"tmp_hashtag_2\"), \" \").getItem(0)).withColumn(\"col_2\", split(col(\"tmp_hashtag_2\"), \" \").getItem(1))\n",
    "df10 = df9.select(trim(col('hashtag')).alias(\"hashtag\"))\n",
    "df11 = df10.filter(col('hashtag') != \"\")\n",
    "df12 = df11.groupBy(col('hashtag')).count()\n",
    "df13 = df12.orderBy(col('count').desc())\n",
    "df13.select(concat(lit(\"#\"), col('hashtag')).alias(\"#Hashtag\"), col('count').alias(\"Quantidade\")).show(10)"
   ]
  },
  {
   "cell_type": "code",
   "execution_count": 24,
   "id": "f45d3715-a8d0-430a-9cfd-3459a5fa9e8c",
   "metadata": {},
   "outputs": [
    {
     "data": {
      "text/html": [
       "<div>\n",
       "<style scoped>\n",
       "    .dataframe tbody tr th:only-of-type {\n",
       "        vertical-align: middle;\n",
       "    }\n",
       "\n",
       "    .dataframe tbody tr th {\n",
       "        vertical-align: top;\n",
       "    }\n",
       "\n",
       "    .dataframe thead th {\n",
       "        text-align: right;\n",
       "    }\n",
       "</style>\n",
       "<table border=\"1\" class=\"dataframe\">\n",
       "  <thead>\n",
       "    <tr style=\"text-align: right;\">\n",
       "      <th></th>\n",
       "      <th>hashtag</th>\n",
       "      <th>count</th>\n",
       "    </tr>\n",
       "  </thead>\n",
       "  <tbody>\n",
       "    <tr>\n",
       "      <th>0</th>\n",
       "      <td>MPN</td>\n",
       "      <td>578</td>\n",
       "    </tr>\n",
       "    <tr>\n",
       "      <th>1</th>\n",
       "      <td>AFazenda10</td>\n",
       "      <td>172</td>\n",
       "    </tr>\n",
       "    <tr>\n",
       "      <th>2</th>\n",
       "      <td>20:</td>\n",
       "      <td>171</td>\n",
       "    </tr>\n",
       "    <tr>\n",
       "      <th>3</th>\n",
       "      <td>TheVoiceBrasil</td>\n",
       "      <td>165</td>\n",
       "    </tr>\n",
       "    <tr>\n",
       "      <th>4</th>\n",
       "      <td>MasterChefBR</td>\n",
       "      <td>142</td>\n",
       "    </tr>\n",
       "    <tr>\n",
       "      <th>5</th>\n",
       "      <td>BTSLoveYourselfTour</td>\n",
       "      <td>128</td>\n",
       "    </tr>\n",
       "    <tr>\n",
       "      <th>6</th>\n",
       "      <td>LojaBolada</td>\n",
       "      <td>123</td>\n",
       "    </tr>\n",
       "    <tr>\n",
       "      <th>7</th>\n",
       "      <td>VMAs</td>\n",
       "      <td>121</td>\n",
       "    </tr>\n",
       "    <tr>\n",
       "      <th>8</th>\n",
       "      <td>OrgulhoEPaixão</td>\n",
       "      <td>118</td>\n",
       "    </tr>\n",
       "    <tr>\n",
       "      <th>9</th>\n",
       "      <td>SegundoSol</td>\n",
       "      <td>117</td>\n",
       "    </tr>\n",
       "  </tbody>\n",
       "</table>\n",
       "</div>"
      ],
      "text/plain": [
       "               hashtag  count\n",
       "0                  MPN    578\n",
       "1           AFazenda10    172\n",
       "2                  20:    171\n",
       "3       TheVoiceBrasil    165\n",
       "4         MasterChefBR    142\n",
       "5  BTSLoveYourselfTour    128\n",
       "6           LojaBolada    123\n",
       "7                 VMAs    121\n",
       "8       OrgulhoEPaixão    118\n",
       "9           SegundoSol    117"
      ]
     },
     "execution_count": 24,
     "metadata": {},
     "output_type": "execute_result"
    }
   ],
   "source": [
    "data = df13.limit(10).toPandas()\n",
    "data"
   ]
  },
  {
   "cell_type": "code",
   "execution_count": 20,
   "id": "e7b404b4-6418-4b83-ab9a-20f16666967e",
   "metadata": {},
   "outputs": [],
   "source": [
    "import matplotlib.pyplot as plt"
   ]
  },
  {
   "cell_type": "code",
   "execution_count": 21,
   "id": "9606f421-0954-4fa1-bbe7-e826899e3283",
   "metadata": {},
   "outputs": [
    {
     "name": "stdout",
     "output_type": "stream",
     "text": [
      "['MPN', 'AFazenda10', '20:', 'TheVoiceBrasil', 'MasterChefBR', 'BTSLoveYourselfTour', 'LojaBolada', 'VMAs', 'OrgulhoEPaixão', 'SegundoSol']\n"
     ]
    }
   ],
   "source": [
    "hashtag = data['hashtag'].tolist()\n",
    "print(hashtag)"
   ]
  },
  {
   "cell_type": "code",
   "execution_count": 22,
   "id": "f3b847bc-f413-44f6-9c36-ad57656de86b",
   "metadata": {},
   "outputs": [
    {
     "name": "stdout",
     "output_type": "stream",
     "text": [
      "[578, 172, 171, 165, 142, 128, 123, 121, 118, 117]\n"
     ]
    }
   ],
   "source": [
    "quantidade = data['count'].tolist()\n",
    "print(quantidade)"
   ]
  },
  {
   "cell_type": "code",
   "execution_count": 113,
   "id": "e9b20296-ea53-46fb-ae86-918638d46641",
   "metadata": {},
   "outputs": [
    {
     "data": {
      "image/png": "[encoded data removed]",
      "text/plain": [
       "<Figure size 1224x648 with 1 Axes>"
      ]
     },
     "metadata": {
      "needs_background": "light"
     },
     "output_type": "display_data"
    }
   ],
   "source": [
    "plt.figure(figsize=(17,9))\n",
    "# Plot the bar graph\n",
    "plot = plt.bar(hashtag, quantidade, width=0.6)\n",
    " \n",
    "# Add the data value on head of the bar\n",
    "for value in plot:\n",
    "    height = value.get_height()\n",
    "    plt.text(value.get_x() + value.get_width()/2.,\n",
    "             1.002*height,'%d' % int(height), ha='center', va='bottom')\n",
    " \n",
    "# Add labels and title\n",
    "plt.title(\"Hashtag Trending topics\", size=15)\n",
    "plt.xlabel(\"#Hashtag\")\n",
    "plt.ylabel(\"Quantidade\")\n",
    " \n",
    "# Display the graph on the screen\n",
    "plt.show()"
   ]
  },
  {
   "cell_type": "code",
   "execution_count": null,
   "id": "4a9c38b5-251f-4ccf-9918-b5defa4c257e",
   "metadata": {},
   "outputs": [],
   "source": [
    "l = [('Alice', 1)]"
   ]
  },
  {
   "cell_type": "code",
   "execution_count": null,
   "id": "5c899bd0-a5cb-42f4-9821-1ebbd96a4c84",
   "metadata": {},
   "outputs": [],
   "source": [
    "spark.createDataFrame(l).collect()"
   ]
  },
  {
   "cell_type": "code",
   "execution_count": null,
   "id": "8ad601de-93f1-412c-9412-352fe4ebf149",
   "metadata": {},
   "outputs": [],
   "source": [
    "spark.createDataFrame(l, ['name', 'age']).collect()"
   ]
  },
  {
   "cell_type": "code",
   "execution_count": null,
   "id": "c3f9e6c8-3492-4e8e-8599-dfbd4c3773e5",
   "metadata": {},
   "outputs": [],
   "source": [
    "df.limit(10).toPandas()"
   ]
  },
  {
   "cell_type": "code",
   "execution_count": 1,
   "id": "d4985d07-fb5b-4fd7-b6aa-f63944249a31",
   "metadata": {},
   "outputs": [
    {
     "name": "stdout",
     "output_type": "stream",
     "text": [
      "ola\n"
     ]
    }
   ],
   "source": [
    "print(\"ola\")"
   ]
  },
  {
   "cell_type": "code",
   "execution_count": null,
   "id": "0bc519f8-4476-426d-b5fd-a1e8b6f5b496",
   "metadata": {},
   "outputs": [],
   "source": [
    "print(\"ola\")"
   ]
  },
  {
   "cell_type": "code",
   "execution_count": null,
   "id": "697aa199-04de-4888-bcba-5ac12a98ea3d",
   "metadata": {},
   "outputs": [],
   "source": []
  }
 ],
 "metadata": {
  "kernelspec": {
   "display_name": "Python 3 (ipykernel)",
   "language": "python",
   "name": "python3"
  },
  "language_info": {
   "codemirror_mode": {
    "name": "ipython",
    "version": 3
   },
   "file_extension": ".py",
   "mimetype": "text/x-python",
   "name": "python",
   "nbconvert_exporter": "python",
   "pygments_lexer": "ipython3",
   "version": "3.9.7"
  }
 },
 "nbformat": 4,
 "nbformat_minor": 5
}
