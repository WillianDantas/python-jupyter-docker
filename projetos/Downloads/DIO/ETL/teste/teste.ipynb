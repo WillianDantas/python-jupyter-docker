{
 "cells": [
  {
   "cell_type": "code",
   "execution_count": 20,
   "id": "599acc25-4ada-4c9d-a2dc-55177b082689",
   "metadata": {
    "tags": []
   },
   "outputs": [
    {
     "name": "stdout",
     "output_type": "stream",
     "text": [
      "oi\n"
     ]
    }
   ],
   "source": [
    "print('oi')"
   ]
  },
  {
   "cell_type": "code",
   "execution_count": 21,
   "id": "f0b14c2c-23b8-4b79-9480-f91495891d6f",
   "metadata": {
    "tags": []
   },
   "outputs": [],
   "source": [
    "dataJson = {\n",
    " 'mensagemDTO':['a', 'b', 'c']\n",
    "}"
   ]
  },
  {
   "cell_type": "code",
   "execution_count": 22,
   "id": "da7e99f1-6d63-4671-946e-d3a108fcf4d0",
   "metadata": {},
   "outputs": [
    {
     "name": "stdout",
     "output_type": "stream",
     "text": [
      "['a', 'b', 'c']\n"
     ]
    }
   ],
   "source": [
    "data = dataJson.get('mensagemDTO')\n",
    "print(data)"
   ]
  },
  {
   "cell_type": "code",
   "execution_count": 23,
   "id": "9abfbbf0-5f14-40f5-af8f-510924909ef6",
   "metadata": {},
   "outputs": [
    {
     "name": "stdout",
     "output_type": "stream",
     "text": [
      "['a', 'b', 'c']\n"
     ]
    }
   ],
   "source": [
    "print(data)"
   ]
  },
  {
   "cell_type": "code",
   "execution_count": 24,
   "id": "9c3f434d-fc40-43b9-9cac-9908e7716165",
   "metadata": {},
   "outputs": [],
   "source": [
    "# https://www2.fab.mil.br/cenipa/"
   ]
  }
 ],
 "metadata": {
  "kernelspec": {
   "display_name": "Python 3 (ipykernel)",
   "language": "python",
   "name": "python3"
  },
  "language_info": {
   "codemirror_mode": {
    "name": "ipython",
    "version": 3
   },
   "file_extension": ".py",
   "mimetype": "text/x-python",
   "name": "python",
   "nbconvert_exporter": "python",
   "pygments_lexer": "ipython3",
   "version": "3.9.7"
  }
 },
 "nbformat": 4,
 "nbformat_minor": 5
}
